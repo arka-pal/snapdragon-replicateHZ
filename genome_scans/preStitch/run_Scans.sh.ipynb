{
 "cells": [
  {
   "cell_type": "markdown",
   "id": "7bc99b96-c2cf-4043-a61d-5f427d63eeaa",
   "metadata": {},
   "source": [
    "# Genome scans in Avenallet and Planoles populations"
   ]
  },
  {
   "cell_type": "code",
   "execution_count": null,
   "id": "eb6db8f8-8e01-401b-93bb-c66b523a0757",
   "metadata": {},
   "outputs": [],
   "source": [
    "module load bcftools/1.18\n",
    "export PATH=$PATH:$HOME/genomics_general:$HOME/genomics_general/VCF_processing"
   ]
  },
  {
   "cell_type": "code",
   "execution_count": null,
   "id": "28b18635-dc9c-4023-95c0-4ef8b015bb81",
   "metadata": {},
   "outputs": [],
   "source": [
    "baseDIR=~/snap_hap_repHZ/genome_scans\n",
    "cd $baseDIR"
   ]
  },
  {
   "cell_type": "code",
   "execution_count": null,
   "id": "16d7069b-e8c6-4734-87b3-49d9644b1e3b",
   "metadata": {},
   "outputs": [],
   "source": [
    "## Convert VCF to geno\n",
    "vcf=~/snap_hap_repHZ/SnpCalls/AvePla.biSNPs.filtered.bcf\n",
    "geno=$baseDIR/AvePla.biSNPs.filtered.geno\n",
    "parseVCF.py -o test.geno --ploidy 2 --addRefTrack -i ../SnpCalls/AvePla.biSNPs.filtered.vcf.gz --include Chr6"
   ]
  },
  {
   "cell_type": "code",
   "execution_count": null,
   "id": "60c03cd8-0f9d-40bb-9f13-a822f8927592",
   "metadata": {},
   "outputs": [],
   "source": [
    "## Scans for AveFR Vs. AveY\n",
    "geno=./test.geno.gz\n",
    "region=Chr6\n",
    "output=AveFR-AveY_Chr6_coords_win3kb_step0.csv.gz\n",
    "window=3000\n",
    "pool1=Ave_FR\n",
    "pool2=Ave_Y\n",
    "popFile=./AvePla_Pools.txt\n",
    "\n",
    "popgenWindows.py -g $geno -o $output -f diplo \\\n",
    "\t--windType coordinate \\\n",
    "    --windSize $window \\\n",
    "\t-p $pool1 -p $pool2 \\\n",
    "\t--popsFile $popFile \\\n",
    "\t--writeFailedWindow \\\n",
    "    --addWindowID \\\n",
    "    --verbose \\\n",
    "    --threads 4 --ploidy 2"
   ]
  },
  {
   "cell_type": "code",
   "execution_count": null,
   "id": "0ba31317-7b3f-4d97-92fa-451479d67757",
   "metadata": {},
   "outputs": [],
   "source": [
    "## Scans for PlaFR Vs. PlaY\n",
    "geno=./test.geno.gz\n",
    "region=Chr6\n",
    "output=PlaFR-PlaY_Chr6_coords_win3kb_step3kb.csv.gz\n",
    "output=test.csv.gz\n",
    "window=3000\n",
    "pool1=Pla_FR\n",
    "pool2=Pla_Y\n",
    "popFile=./AvePla_Pools.txt\n",
    "\n",
    "popgenWindows.py -g $geno -o $output -f diplo \\\n",
    "\t--windType coordinate \\\n",
    "    --windSize $window \\\n",
    "\t-p $pool1 -p $pool2 \\\n",
    "\t--popsFile $popFile \\\n",
    "\t--writeFailedWindow \\\n",
    "    --addWindowID"
   ]
  },
  {
   "cell_type": "code",
   "execution_count": null,
   "id": "c9e26595-6794-46eb-9c5b-a6b769947493",
   "metadata": {},
   "outputs": [],
   "source": [
    "## Scans for Ave Vs. Pla\n",
    "baseDIR=~/snap_hap_repHZ/genome_scans\n",
    "chrom=Chr6\n",
    "\n",
    "popsFile=$baseDIR/samples/AvePla_pools.txt\n",
    "pop1=Ave\n",
    "pop2=Pla\n",
    "\n",
    "geno=$baseDIR/geno/AvePla.${chrom}.biSNPs.filtered.geno.gz\n",
    "output=$baseDIR/${pop1}-${pop2}_${chrom}_coords_win3kb_step3kb.csv.gz\n",
    "windType=coordinate\n",
    "windSize=3000\n",
    "stepSize=3000\n",
    "genoFormat=phased\n",
    "minSites=10\n",
    "threads=8\n",
    "\n",
    "popgenWindows.py    -g $geno -o $output -f $genoFormat --windType $windType \\\n",
    "                    -w $windSize -s $stepSize -m $minSites \\\n",
    "                    -p $pop1 -p $pop2 --popsFile $popsFile --ploidy 2 \\\n",
    "                    --writeFailedWindow --addWindowID -T $threads"
   ]
  }
 ],
 "metadata": {
  "kernelspec": {
   "display_name": "Bash",
   "language": "bash",
   "name": "bash"
  },
  "language_info": {
   "codemirror_mode": "shell",
   "file_extension": ".sh",
   "mimetype": "text/x-sh",
   "name": "bash"
  }
 },
 "nbformat": 4,
 "nbformat_minor": 5
}
