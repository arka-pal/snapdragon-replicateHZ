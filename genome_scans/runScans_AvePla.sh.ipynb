{
 "cells": [
  {
   "cell_type": "markdown",
   "id": "0d3a313f-d827-4c45-8e5f-ea66c926ec1a",
   "metadata": {},
   "source": [
    "# Run genomic scans of Fst, pi, Dxy\n",
    "Ave/Pla samples "
   ]
  },
  {
   "cell_type": "code",
   "execution_count": null,
   "id": "79016991-a92c-45ac-9892-1ecd8d1c2dd9",
   "metadata": {},
   "outputs": [],
   "source": [
    "module load bcftools/1.18\n",
    "export PATH=$PATH:$HOME/genomics_general:$HOME/genomics_general/VCF_processing\n",
    "baseDIR=~/snap_hap_repHZ/genome_scans\n",
    "cd $baseDIR"
   ]
  },
  {
   "cell_type": "code",
   "execution_count": null,
   "id": "cea61803-92f6-465d-a5b1-726506c981cb",
   "metadata": {},
   "outputs": [],
   "source": [
    "## Convert all Stitch-Vcfs to geno format\n",
    "baseDIR=~/snap_hap_repHZ/genome_scans\n",
    "for chrom in Chr{2..8}\n",
    "do\n",
    "    vcf=~/snap_hap_repHZ/Stitch/$chrom/$chrom.AvePla.stitch.SnpOnly.final.vcf.gz\n",
    "    geno=$baseDIR/geno/$chrom.AvePla.stitch.SnpOnly.final.geno\n",
    "\n",
    "    echo -e $chrom'\\n'`basename $vcf`'\\n'`basename $geno`'\\n----\\n'\n",
    "    time parseVCF.py -i $vcf -o $geno --ploidy 2 --addRefTrack\n",
    "    echo -e 'Done\\n'\n",
    "done"
   ]
  },
  {
   "cell_type": "code",
   "execution_count": null,
   "id": "28e9d171-a90b-4ffb-988b-0b43ee305ff4",
   "metadata": {},
   "outputs": [],
   "source": [
    "## Scans\n",
    "baseDIR=~/snap_hap_repHZ/genome_scans\n",
    "cd $baseDIR\n",
    "for chrom in Chr{1..8}\n",
    "do\n",
    "    ## chromRegion Data\n",
    "    echo -e '\\n'$chrom'\\n\\n'\n",
    "    # chrom=Chr1\n",
    "    windType=coordinate\n",
    "    windSize=10000\n",
    "    stepSize=10000\n",
    "\n",
    "    ## Population Data\n",
    "    pops=AvePla\n",
    "    popsFile=$baseDIR/samples/AvePla_pools.txt\n",
    "    pop1=Ave\n",
    "    pop2=Pla\n",
    "    \n",
    "    ## Input/Output\n",
    "    geno=$baseDIR/geno/$chrom.AvePla.stitch.SnpOnly.final.geno\n",
    "    output=$baseDIR/$pops/${pop1}-${pop2}_${chrom}_byPos_w${windSize}_s${stepSize}.csv.gz\n",
    "    threads=10\n",
    "    genoFormat=phased\n",
    "    if [ ! -d $baseDIR/$pops ]; then mkdir $baseDIR/$pops; fi\n",
    "    \n",
    "    ## Run genomic scan\n",
    "    time popgenWindows.py   -g $geno -o $output -f $genoFormat \\\n",
    "                            --windType $windType -w $windSize -s $stepSize \\\n",
    "                            -p $pop1 -p $pop2 --popsFile $popsFile --ploidy 2 \\\n",
    "                            --writeFailedWindow --addWindowID -T $threads\n",
    "done"
   ]
  },
  {
   "cell_type": "code",
   "execution_count": null,
   "id": "fcd83b3d-a8b5-48d4-8e09-a2d6afb2ba79",
   "metadata": {},
   "outputs": [],
   "source": [
    "## Scans\n",
    "baseDIR=~/snap_hap_repHZ/genome_scans\n",
    "cd $baseDIR\n",
    "for chrom in Chr{1..8}\n",
    "do\n",
    "    ## chromRegion Data\n",
    "    echo -e '\\n'$chrom'\\n\\n'\n",
    "    # chrom=Chr1\n",
    "    windType=coordinate\n",
    "    windSize=10000\n",
    "    stepSize=10000\n",
    "\n",
    "    ## Population Data\n",
    "    pops=AvePla-FRYe\n",
    "    popsFile=$baseDIR/samples/AvePla-FRYe_pools.txt\n",
    "    pop1=AveFR\n",
    "    pop2=AveY\n",
    "    pop3=PlaFR\n",
    "    pop4=PlaY\n",
    "\n",
    "    ## Input/Output\n",
    "    geno=$baseDIR/geno/$chrom.AvePla.stitch.SnpOnly.final.geno\n",
    "    output=$baseDIR/$pops/${pop1}-${pop2}-${pop3}-${pop4}_${chrom}_byPos_w${windSize}_s${stepSize}.csv.gz\n",
    "    threads=10\n",
    "    genoFormat=phased\n",
    "    if [ ! -d $baseDIR/$pops ]; then mkdir $baseDIR/$pops; fi\n",
    "\n",
    "    ## Run genomic scan\n",
    "    time popgenWindows.py   -g $geno -o $output -f $genoFormat \\\n",
    "                            --windType $windType -w $windSize -s $stepSize \\\n",
    "                            -p $pop1 -p $pop2 -p $pop3 -p $pop4 --popsFile $popsFile --ploidy 2 \\\n",
    "                            --writeFailedWindow --addWindowID -T $threads\n",
    "done"
   ]
  }
 ],
 "metadata": {
  "kernelspec": {
   "display_name": "Bash",
   "language": "bash",
   "name": "bash"
  },
  "language_info": {
   "codemirror_mode": "shell",
   "file_extension": ".sh",
   "mimetype": "text/x-sh",
   "name": "bash"
  }
 },
 "nbformat": 4,
 "nbformat_minor": 5
}
