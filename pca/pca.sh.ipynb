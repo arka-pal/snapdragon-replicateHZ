{
 "cells": [
  {
   "cell_type": "markdown",
   "id": "d73bb7ad-ad29-4812-8fb5-8c22aee0bc5c",
   "metadata": {},
   "source": [
    "# PCA"
   ]
  },
  {
   "cell_type": "code",
   "execution_count": null,
   "id": "4f058fb2-9af5-459a-a98d-def2784da3b6",
   "metadata": {},
   "outputs": [],
   "source": [
    "module load plink\n",
    "cd ~/snap_hap_repHZ/pca"
   ]
  },
  {
   "cell_type": "code",
   "execution_count": null,
   "id": "ae0df04f-97bb-4f1f-b776-8472e519f225",
   "metadata": {},
   "outputs": [],
   "source": [
    "## Make symbolic links to LD-thinned SNPs\n",
    "ln -s ~/snap_hap_repHZ/Admixture/input/AvePla.FrYe.stitch.SnpOnly.final.sorted.pruned.* ."
   ]
  },
  {
   "cell_type": "code",
   "execution_count": null,
   "id": "32f89923-a859-4241-99a5-9531c16b1b07",
   "metadata": {},
   "outputs": [],
   "source": [
    "## Run PCA\n",
    "prefix=AvePla.FrYe.stitch.SnpOnly.final.sorted.pruned\n",
    "plink2 --bfile $prefix --pca --out $prefix"
   ]
  }
 ],
 "metadata": {
  "kernelspec": {
   "display_name": "Bash",
   "language": "bash",
   "name": "bash"
  },
  "language_info": {
   "codemirror_mode": "shell",
   "file_extension": ".sh",
   "mimetype": "text/x-sh",
   "name": "bash"
  }
 },
 "nbformat": 4,
 "nbformat_minor": 5
}
