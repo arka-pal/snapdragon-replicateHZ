{
 "cells": [
  {
   "cell_type": "markdown",
   "id": "d78f6a96-8b04-42d6-8a61-d0224046fe43",
   "metadata": {},
   "source": [
    "# Variant calling & filtering with AvePla samples"
   ]
  },
  {
   "cell_type": "code",
   "execution_count": null,
   "id": "4361ac7a-fa7d-4bf5-8ad2-c5266537d326",
   "metadata": {},
   "outputs": [],
   "source": [
    "module load bcftools"
   ]
  },
  {
   "cell_type": "markdown",
   "id": "4bc81687-9e03-4380-bcc1-e341ac982025",
   "metadata": {},
   "source": [
    "## Calling all invariant+variant sites \n",
    "*bcftools* mpileup ... | *bcftools* call ..."
   ]
  },
  {
   "cell_type": "code",
   "execution_count": null,
   "id": "7c3eca6e-74f8-4e8b-ad79-6aa9db3d3f1a",
   "metadata": {},
   "outputs": [],
   "source": [
    "baseDIR=~/snap_hap_repHZ/SnpCalls\n",
    "bamlist=$baseDIR/AvePla.bams.list\n",
    "outVCF=$baseDIR/AvePla.vcf.gz\n",
    "sbatch -J SnpCallingJob ./SnpCalling.sbatch.sh $baseDIR $bamlist $outVCF\n",
    "11:16:30"
   ]
  },
  {
   "cell_type": "code",
   "execution_count": null,
   "id": "94d40e6d-846a-4e91-8d10-5de61daef9ee",
   "metadata": {},
   "outputs": [],
   "source": [
    "bcftools query -f '%CHROM\\t%POS\\t%QUAL\\t%INFO/DP\\t%INFO/MQ\\t%INFO/AN\\t%INFO/AC\\n' AvePla.vcf.gz > AvePla.vcf.info"
   ]
  },
  {
   "cell_type": "code",
   "execution_count": null,
   "id": "580072ee-6881-4c04-bd3e-9a7c7689922a",
   "metadata": {},
   "outputs": [],
   "source": [
    "## Filter\n",
    "baseDIR=~/snap_hap_repHZ/SnpCalls\n",
    "\n",
    "# Step 1: Remove SNPs within 5bp of INDELs and keep only bi-alleleic variant sites\n",
    "time bcftools filter --threads 4 $inVCF --SnpGap 5 | \\\n",
    "     bcftools view --threads 4 - -Oz -o $outVCF -m2 -M2 -v snps -e \"AC==0 || AC==AN\" --write-index\n",
    "inVCF=$baseDIR/AvePla.vcf.gz\n",
    "outVCF=$baseDIR/AvePla.biSNPs.vcf.gz\n",
    "sbatch -J SnpFilteringJob1 ./SnpFiltering.sbatch.sh $inVCF $outVCF\n",
    "\n",
    "#263m40.339s\n",
    "\n",
    "# Step 2: Remove sites based on depth, mapping quality, and QUAL\n",
    "inVCF=$baseDIR/AvePla.biSNPs.vcf.gz\n",
    "outVCF=$baseDIR/AvePla.biSNPs.filtered.vcf.gz\n",
    "sbatch -J Filter ./SnpFiltering.sbatch.sh $inVCF $outVCF\n",
    "# 12 mins\n",
    "\n",
    "# Step 3: Remove sites that have a missing fraction > 0.8\n",
    "inVCF=$baseDIR/AvePla.biSNPs.filtered.vcf.gz\n",
    "outVCF=$baseDIR/AvePla.biSNPs.filtered.missLT80.vcf.gz\n",
    "sbatch -J Filter3 ./SnpFiltering.sbatch.sh $inVCF $outVCF\n",
    "# 20 mins"
   ]
  },
  {
   "cell_type": "code",
   "execution_count": null,
   "id": "f94735ca-bfa0-444b-bcdc-1a47245cf3d3",
   "metadata": {},
   "outputs": [],
   "source": [
    "bcftools query -f '%CHROM\\t%POS\\t%QUAL\\t%INFO/DP\\t%INFO/MQ\\t%INFO/AN\\t%INFO/AC\\n' ./AvePla.biSNPs.filtered.bcf > AvePla.biSNPs.filtered.vcf.info"
   ]
  },
  {
   "cell_type": "code",
   "execution_count": null,
   "id": "452eb7d2-b975-4852-8e65-7505f6df1afc",
   "metadata": {},
   "outputs": [],
   "source": []
  },
  {
   "cell_type": "code",
   "execution_count": null,
   "id": "c694831d-29d1-4a14-8db1-b9d69398e9b0",
   "metadata": {},
   "outputs": [],
   "source": [
    "## Run STITCH\n"
   ]
  },
  {
   "cell_type": "code",
   "execution_count": null,
   "id": "734f52da-8f9a-4099-99c2-1a07741ff76c",
   "metadata": {},
   "outputs": [],
   "source": [
    "# STITCH variables\n",
    "K=75\n",
    "downsampleToCov=20\n",
    "bx_tag=TRUE\n",
    "ngen=100\n",
    "niter=40\n",
    "expRate=0.5\n",
    "plot=FALSE\n",
    "bamlist=~/snap_hap/sample_info/bam_info/bams_Am_all.txt\n",
    "outputDIR=$stitchDIR/$chrom/stitch_chromSegments/$(basename ${posfile/.pos})_K${K}_cov${downsampleToCov}_bxTRUE_niter${niter}_ngen${ngen}_r${expRate}_plotFALSE"
   ]
  },
  {
   "cell_type": "code",
   "execution_count": null,
   "id": "c12f4248-9693-461d-b3d9-2d013362c3e5",
   "metadata": {},
   "outputs": [],
   "source": [
    "No. of segments for each chromosome:\n",
    "\n",
    "Chr1 71919034: 72 segments\n",
    "Chr2 77118269: 78 segments\n",
    "Chr3 65231163: 66 segments\n",
    "Chr4 54887108: 55 segments\n",
    "Chr5 71106538: 72 segments\n",
    "Chr6 55699338: 56 segments\n",
    "Chr7 55564713: 56 segments\n",
    "Chr8 57431585: 58 segments"
   ]
  },
  {
   "cell_type": "code",
   "execution_count": 3,
   "id": "13e4204c-8ce8-4d47-82b6-0e9ab0a89c1b",
   "metadata": {},
   "outputs": [
    {
     "name": "stdout",
     "output_type": "stream",
     "text": [
      "  1610316 /nfs/scistore18/bartogrp/apal/snap_hap_repHZ/Stitch/Chr1/Chr1.AvePla.biSNPs.filtered.missLT80.pos\n",
      "  1790609 /nfs/scistore18/bartogrp/apal/snap_hap_repHZ/Stitch/Chr2/Chr2.AvePla.biSNPs.filtered.missLT80.pos\n",
      "  1424535 /nfs/scistore18/bartogrp/apal/snap_hap_repHZ/Stitch/Chr3/Chr3.AvePla.biSNPs.filtered.missLT80.pos\n",
      "  1186579 /nfs/scistore18/bartogrp/apal/snap_hap_repHZ/Stitch/Chr4/Chr4.AvePla.biSNPs.filtered.missLT80.pos\n",
      "  1728443 /nfs/scistore18/bartogrp/apal/snap_hap_repHZ/Stitch/Chr5/Chr5.AvePla.biSNPs.filtered.missLT80.pos\n",
      "  1254284 /nfs/scistore18/bartogrp/apal/snap_hap_repHZ/Stitch/Chr6/Chr6.AvePla.biSNPs.filtered.missLT80.pos\n",
      "  1195630 /nfs/scistore18/bartogrp/apal/snap_hap_repHZ/Stitch/Chr7/Chr7.AvePla.biSNPs.filtered.missLT80.pos\n",
      "  1384030 /nfs/scistore18/bartogrp/apal/snap_hap_repHZ/Stitch/Chr8/Chr8.AvePla.biSNPs.filtered.missLT80.pos\n",
      " 11574426 total\n"
     ]
    }
   ],
   "source": [
    "wc -l ~/snap_hap_repHZ/Stitch/Chr?/*pos"
   ]
  },
  {
   "cell_type": "code",
   "execution_count": null,
   "id": "f9d6de9f-c4d5-4970-b31b-103415be2f9f",
   "metadata": {},
   "outputs": [],
   "source": [
    "chrom=Chr6\n",
    "K=75\n",
    "downsampleToCov=10\n",
    "bx_tag=TRUE\n",
    "ngen=100\n",
    "niter=40\n",
    "expRate=0.5\n",
    "plot=FALSE\n",
    "bamlist=~/snap_hap_repHZ/SnpCalls/AvePla.bams.list\n",
    "posfile=~/snap_hap_repHZ/Stitch/Chr6/Chr6.AvePla.biSNPs.filtered.missLT80.pos\n",
    "outputDIR=~/snap_hap_repHZ/Stitch/Chr6\n",
    "\n",
    "chromStart=52000000\n",
    "chromEnd=53000000\n",
    "buffer=10000\n",
    "\n",
    "STITCH.R --chr=$chrom \\\n",
    "    --regionStart=$chromStart \\\n",
    "    --regionEnd=$chromEnd \\\n",
    "    --buffer=$buffer \\\n",
    "    --K=$K \\\n",
    "    --downsampleToCov=$downsampleToCov \\\n",
    "    --use_bx_tag=TRUE \\\n",
    "    --niterations=$niter \\\n",
    "    --expRate=$expRate  \\\n",
    "    --nGen=$ngen \\\n",
    "    --plotAfterImputation=FALSE \\\n",
    "    --plotHapSumDuringIterations=FALSE \\\n",
    "    --plot_shuffle_haplotype_attempts=FALSE \\\n",
    "    --bamlist=$bamlist \\\n",
    "    --posfile=$posfile \\\n",
    "    --outputdir=$outputDIR \\\n",
    "    --nCores=10\n",
    "\n",
    "\n",
    "--regionStart=$chromStart \\\n",
    "--regionEnd=$chromEnd \\\n",
    "--buffer=$buffer \\"
   ]
  },
  {
   "cell_type": "code",
   "execution_count": null,
   "id": "ccb30bd5-5c08-461f-8098-cd300227b0d7",
   "metadata": {},
   "outputs": [],
   "source": [
    "baseDIR=~/snap_hap_repHZ/Stitch/\n",
    "buffer=100000\n",
    "K=75\n",
    "cov=10 \n",
    "use_bx_tag=TRUE\n",
    "ngen=100\n",
    "niter=40 \n",
    "expRate=0.5 \n",
    "plot=FALSE\n",
    "\n",
    "chrom=Chr1 ## ALL DONE\n",
    "cd $baseDIR/$chrom\n",
    "sbatch --array=2-72 -J imp1 ~/snap_hap_repHZ/Stitch/_scripts/Stitch.sbatch.sh $chrom $buffer $K $cov ${use_bx_tag} $ngen $niter $expRate $plot\n",
    "\n",
    "chrom=Chr2\n",
    "cd $baseDIR/$chrom\n",
    "sbatch --array=72-75,2-3 -J imp2 ~/snap_hap_repHZ/Stitch/_scripts/Stitch.sbatch.sh $chrom $buffer $K $cov ${use_bx_tag} $ngen $niter $expRate $plot\n",
    "# sbatch --array=1-78 -J imp2 ~/snap_hap_repHZ/Stitch/_scripts/Stitch.sbatch.sh $chrom $buffer $K $cov ${use_bx_tag} $ngen $niter $expRate $plot\n",
    "\n",
    "chrom=Chr3\n",
    "cd $baseDIR/$chrom\n",
    "sbatch --array=2,62-65 -J imp3 ~/snap_hap_repHZ/Stitch/_scripts/Stitch.sbatch.sh $chrom $buffer $K $cov ${use_bx_tag} $ngen $niter $expRate $plot\n",
    "# sbatch --array=1-66 -J imp3 ~/snap_hap_repHZ/Stitch/_scripts/Stitch.sbatch.sh $chrom $buffer $K $cov ${use_bx_tag} $ngen $niter $expRate $plot\n",
    "\n",
    "chrom=Chr4\n",
    "cd $baseDIR/$chrom\n",
    "sbatch --array=1-55 -J imp4 ~/snap_hap_repHZ/Stitch/_scripts/Stitch.sbatch.sh $chrom $buffer $K $cov ${use_bx_tag} $ngen $niter $expRate $plot\n",
    "\n",
    "chrom=Chr5\n",
    "cd $baseDIR/$chrom\n",
    "sbatch --array=2-4,70-72 -J imp5 ~/snap_hap_repHZ/Stitch/_scripts/Stitch.sbatch.sh $chrom $buffer $K $cov ${use_bx_tag} $ngen $niter $expRate $plot\n",
    "# sbatch --array=1-72 -J imp5 ~/snap_hap_repHZ/Stitch/_scripts/Stitch.sbatch.sh $chrom $buffer $K $cov ${use_bx_tag} $ngen $niter $expRate $plot\n",
    "\n",
    "chrom=Chr6\n",
    "cd $baseDIR/$chrom\n",
    "sbatch --array=1-56 -J imp6 ~/snap_hap_repHZ/Stitch/_scripts/Stitch.sbatch.sh $chrom $buffer $K $cov ${use_bx_tag} $ngen $niter $expRate $plot\n",
    "\n",
    "chrom=Chr7\n",
    "cd $baseDIR/$chrom\n",
    "sbatch --array=55,52 -J imp7 ~/snap_hap_repHZ/Stitch/_scripts/Stitch.sbatch.sh $chrom $buffer $K $cov ${use_bx_tag} $ngen $niter $expRate $plot\n",
    "# sbatch --array=1-56 -J imp7 ~/snap_hap_repHZ/Stitch/_scripts/Stitch.sbatch.sh $chrom $buffer $K $cov ${use_bx_tag} $ngen $niter $expRate $plot\n",
    "\n",
    "chrom=Chr8\n",
    "cd $baseDIR/$chrom\n",
    "sbatch --array=54-57 -J imp8 ~/snap_hap_repHZ/Stitch/_scripts/Stitch.sbatch.sh $chrom $buffer $K $cov ${use_bx_tag} $ngen $niter $expRate $plot\n",
    "# sbatch --array=1-58 -J imp8 ~/snap_hap_repHZ/Stitch/_scripts/Stitch.sbatch.sh $chrom $buffer $K $cov ${use_bx_tag} $ngen $niter $expRate $plot"
   ]
  },
  {
   "cell_type": "code",
   "execution_count": null,
   "id": "77da9b75-1721-4878-8c30-68f312db1e98",
   "metadata": {},
   "outputs": [],
   "source": [
    "# Postprocessing\n",
    "## Change PATH\n",
    "export PATH=~/.local/bin:$PATH\n",
    "\n",
    "baseDIR=~/snap_hap_repHZ/Stitch\n",
    "chrom=Chr6\n",
    "\n",
    "stitchVcfList=$baseDIR/$chrom/stitchVCFs.highConf.list\n",
    "outVCF=$baseDIR/$chrom/$chrom.AvePla.stitch.vcf.gz\n",
    "realpath $baseDIR/$chrom/stitch_chromSegments/*/stitch.*.vcf.gz  > $stitchVcfList\n",
    "\n",
    "for vcf in `cat $stitchVcfList`; do echo $vcf; bcftools tabix $vcf; done\n",
    "bcftools concat --allow-overlaps --threads 4 -Oz -o $outVCF -f $stitchVcfList\n",
    "\n",
    "time bash ~/snap_hap/_scripts/bash/stitch/add_PG_PL.sh $outVCF\n",
    "\n",
    "time bash ~/snap_hap/_scripts/bash/fill-AC-AN_vcfgzFormat.sh $outVCF\n",
    "time bash ~/snap_hap/_scripts/bash/fill-AC-AN_vcfgzFormat.sh ${outVCF/.vcf.gz/.PL.vcf.gz}\n",
    "\n",
    "## Keep only variant sites\n",
    "time bcftools view -e 'AC==0 | AC==AN' -Oz -o ${outVCF/.vcf.gz/.SnpOnly.final.vcf.gz} ${outVCF/.vcf.gz/.PL.tagged.vcf.gz}\n",
    "\n",
    "## Extract STITCH parameters\n",
    "time bcftools query -f \"%CHROM\\t%POS\\t%EAF\\t%INFO_SCORE\\t%HWE\\t%ERC\\t%EAC\\t%PAF\\t%AN\\t%AC\" ${outVCF/.vcf.gz/.SnpOnly.final.vcf.gz} > ${outVCF/.vcf.gz/.SnpOnly.final.params.info}\n",
    "\n",
    "# ## Calculate missing genotypes per site and individual\n",
    "# echo -e '\\nCalculating fraction of missing data'\n",
    "# time vcftools --gzvcf $outVCF --missing-indv --out ${chrom}_missing-indv\n",
    "# time vcftools --gzvcf $outVCF --missing-site --out ${chrom}_missing-site\n",
    "\n",
    "# ## Calculate heterozygosity per individual\n",
    "# echo -e '\\nCalculating heterozygosity'\n",
    "# time vcftools --gzvcf $outVCF --het --out ${chrom}_het-indv"
   ]
  },
  {
   "cell_type": "code",
   "execution_count": null,
   "id": "1df40c74-514e-4b8a-b2ce-ef5adca0f6b7",
   "metadata": {},
   "outputs": [],
   "source": [
    "# Concatenate all Stitch VCFs\n",
    "baseDIR=~/snap_hap_repHZ\n",
    "cd $baseDIR\n",
    "\n",
    "bcftools concat -a --threads 8 $baseDIR/Stitch/Chr?/Chr?.AvePla.stitch.SnpOnly.final.vcf.gz -Oz -o $baseDIR/Stitch/AvePla.stitch.SnpOnly.final.vcf.gz\n",
    "bcftools tabix $baseDIR/Stitch/AvePla.stitch.SnpOnly.final.vcf.gz"
   ]
  },
  {
   "cell_type": "code",
   "execution_count": null,
   "id": "4b7018fd-848d-4c68-839f-542c184debaf",
   "metadata": {},
   "outputs": [],
   "source": [
    "bcftools view -S $baseDIR/samples/samples.AvePla.sorted.txt ./AvePla.stitch.SnpOnly.final.vcf.gz -Oz -o ./AvePla.stitch.SnpOnly.final.sorted.vcf.gz\n",
    "bcftools tabix $baseDIR/Stitch/AvePla.stitch.SnpOnly.final.sorted.vcf.gz\n"
   ]
  }
 ],
 "metadata": {
  "kernelspec": {
   "display_name": "Bash",
   "language": "bash",
   "name": "bash"
  },
  "language_info": {
   "codemirror_mode": "shell",
   "file_extension": ".sh",
   "mimetype": "text/x-sh",
   "name": "bash"
  }
 },
 "nbformat": 4,
 "nbformat_minor": 5
}
