{
 "cells": [
  {
   "cell_type": "markdown",
   "id": "d78f6a96-8b04-42d6-8a61-d0224046fe43",
   "metadata": {},
   "source": [
    "# Variant calling & filtering with AvePla samples"
   ]
  },
  {
   "cell_type": "code",
   "execution_count": null,
   "id": "4361ac7a-fa7d-4bf5-8ad2-c5266537d326",
   "metadata": {},
   "outputs": [],
   "source": [
    "module load bcftools"
   ]
  },
  {
   "cell_type": "markdown",
   "id": "4bc81687-9e03-4380-bcc1-e341ac982025",
   "metadata": {},
   "source": [
    "## Calling all invariant+variant sites \n",
    "*bcftools* mpileup ... | *bcftools* call ..."
   ]
  },
  {
   "cell_type": "code",
   "execution_count": null,
   "id": "7c3eca6e-74f8-4e8b-ad79-6aa9db3d3f1a",
   "metadata": {},
   "outputs": [],
   "source": [
    "baseDIR=~/snap_hap_repHZ/SnpCalls\n",
    "bamlist=$baseDIR/AvePla.bams.list\n",
    "outVCF=$baseDIR/AvePla.vcf.gz\n",
    "sbatch -J SnpCallingJob ./SnpCalling.sbatch.sh $baseDIR $bamlist $outVCF\n",
    "#11:16:30"
   ]
  },
  {
   "cell_type": "code",
   "execution_count": null,
   "id": "94d40e6d-846a-4e91-8d10-5de61daef9ee",
   "metadata": {},
   "outputs": [],
   "source": [
    "bcftools query -f '%CHROM\\t%POS\\t%QUAL\\t%INFO/DP\\t%INFO/MQ\\t%INFO/AN\\t%INFO/AC\\n' AvePla.vcf.gz > AvePla.vcf.info"
   ]
  },
  {
   "cell_type": "markdown",
   "id": "3c9749b8-b9cf-4501-86fc-edb91a2df2db",
   "metadata": {},
   "source": [
    "## Filtering variant"
   ]
  },
  {
   "cell_type": "code",
   "execution_count": null,
   "id": "580072ee-6881-4c04-bd3e-9a7c7689922a",
   "metadata": {},
   "outputs": [],
   "source": [
    "baseDIR=~/snap_hap_repHZ/SnpCalls\n",
    "\n",
    "# Step 1: Remove SNPs within 5bp of INDELs and keep only bi-alleleic variant sites\n",
    "time bcftools filter --threads 4 $inVCF --SnpGap 5 | \\\n",
    "     bcftools view --threads 4 - -Oz -o $outVCF -m2 -M2 -v snps -e \"AC==0 || AC==AN\" --write-index\n",
    "inVCF=$baseDIR/AvePla.vcf.gz\n",
    "outVCF=$baseDIR/AvePla.biSNPs.vcf.gz\n",
    "sbatch -J SnpFilteringJob1 ./SnpFiltering.sbatch.sh $inVCF $outVCF\n",
    "#263m40.339s\n",
    "\n",
    "# Step 2: Remove sites based on depth, mapping quality, and QUAL\n",
    "inVCF=$baseDIR/AvePla.biSNPs.vcf.gz\n",
    "outVCF=$baseDIR/AvePla.biSNPs.filtered.vcf.gz\n",
    "sbatch -J Filter ./SnpFiltering.sbatch.sh $inVCF $outVCF\n",
    "# 12 mins\n",
    "\n",
    "# Step 3: Remove sites that have a missing fraction > 0.8\n",
    "inVCF=$baseDIR/AvePla.biSNPs.filtered.vcf.gz\n",
    "outVCF=$baseDIR/AvePla.biSNPs.filtered.missLT80.vcf.gz\n",
    "sbatch -J Filter3 ./SnpFiltering.sbatch.sh $inVCF $outVCF\n",
    "# 20 mins"
   ]
  },
  {
   "cell_type": "code",
   "execution_count": null,
   "id": "f94735ca-bfa0-444b-bcdc-1a47245cf3d3",
   "metadata": {},
   "outputs": [],
   "source": [
    "bcftools query -f '%CHROM\\t%POS\\t%QUAL\\t%INFO/DP\\t%INFO/MQ\\t%INFO/AN\\t%INFO/AC\\n' ./AvePla.biSNPs.filtered.bcf > AvePla.biSNPs.filtered.vcf.info"
   ]
  }
 ],
 "metadata": {
  "kernelspec": {
   "display_name": "Bash",
   "language": "bash",
   "name": "bash"
  },
  "language_info": {
   "codemirror_mode": "shell",
   "file_extension": ".sh",
   "mimetype": "text/x-sh",
   "name": "bash"
  }
 },
 "nbformat": 4,
 "nbformat_minor": 5
}
