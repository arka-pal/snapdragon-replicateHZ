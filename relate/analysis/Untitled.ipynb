{
 "cells": [
  {
   "cell_type": "markdown",
   "id": "7193bd5f-c42e-42fb-b72b-d4af10115594",
   "metadata": {},
   "source": [
    "# Analyse Relate trees in tskit\n",
    "12-12-2024 <br>\n",
    "Arka Pal"
   ]
  },
  {
   "cell_type": "code",
   "execution_count": 2,
   "id": "8fee2b21-611d-4e9f-8a69-b512c297f8ee",
   "metadata": {},
   "outputs": [],
   "source": [
    "import tskit"
   ]
  },
  {
   "cell_type": "code",
   "execution_count": null,
   "id": "03c39c78-4147-4281-81ef-b1e465f0f966",
   "metadata": {},
   "outputs": [],
   "source": []
  }
 ],
 "metadata": {
  "kernelspec": {
   "display_name": "Python 3 (ipykernel)",
   "language": "python",
   "name": "python3"
  },
  "language_info": {
   "codemirror_mode": {
    "name": "ipython",
    "version": 3
   },
   "file_extension": ".py",
   "mimetype": "text/x-python",
   "name": "python",
   "nbconvert_exporter": "python",
   "pygments_lexer": "ipython3",
   "version": "3.11.8"
  }
 },
 "nbformat": 4,
 "nbformat_minor": 5
}
