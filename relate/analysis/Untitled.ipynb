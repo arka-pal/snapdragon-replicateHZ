{
 "cells": [
  {
   "cell_type": "markdown",
   "id": "7193bd5f-c42e-42fb-b72b-d4af10115594",
   "metadata": {},
   "source": [
    "# Analyse Relate trees in tskit\n",
    "12-12-2024 <br>\n",
    "Arka Pal"
   ]
  },
  {
   "cell_type": "code",
   "execution_count": 1,
   "id": "8fee2b21-611d-4e9f-8a69-b512c297f8ee",
   "metadata": {},
   "outputs": [],
   "source": [
    "import os\n",
    "import tskit"
   ]
  },
  {
   "cell_type": "code",
   "execution_count": 2,
   "id": "03c39c78-4147-4281-81ef-b1e465f0f966",
   "metadata": {},
   "outputs": [
    {
     "data": {
      "text/plain": [
       "'/nfs/scistore18/bartogrp/apal/snap_hap_repHZ/relate'"
      ]
     },
     "execution_count": 2,
     "metadata": {},
     "output_type": "execute_result"
    }
   ],
   "source": [
    "os.chdir('/nfs/scistore18/bartogrp/apal/snap_hap_repHZ/relate')\n",
    "os.getcwd()"
   ]
  },
  {
   "cell_type": "code",
   "execution_count": 3,
   "id": "d4f65a14-3080-4c82-99ba-7442aa4c45aa",
   "metadata": {},
   "outputs": [],
   "source": [
    "ts6 = tskit.load('./treeSequence/rel_chr6_updated.compressed.trees')\n",
    "# ts6_simplified = ts6.simplify()"
   ]
  },
  {
   "cell_type": "code",
   "execution_count": 4,
   "id": "80ede227-3d67-4f68-9331-e67b5e07b607",
   "metadata": {},
   "outputs": [
    {
     "data": {
      "text/html": [
       "\n",
       "            <div>\n",
       "              <style>\n",
       "                .tskit-table thead tr th {text-align: left;padding: 0.5em 0.5em;}\n",
       "                .tskit-table tbody tr td {padding: 0.5em 0.5em;}\n",
       "                .tskit-table tbody tr td:first-of-type {text-align: left;}\n",
       "                .tskit-details-label {vertical-align: top; padding-right:5px;}\n",
       "                .tskit-table-set {display: inline-flex;flex-wrap: wrap;margin: -12px 0 0 -12px;width: calc(100% + 12px);}\n",
       "                .tskit-table-set-table {margin: 12px 0 0 12px;}\n",
       "                details {display: inline-block;}\n",
       "                summary {cursor: pointer; outline: 0; display: list-item;}\n",
       "              </style>\n",
       "              <div class=\"tskit-table-set\">\n",
       "                <div class=\"tskit-table-set-table\">\n",
       "                  <table class=\"tskit-table\">\n",
       "                    <thead>\n",
       "                      <tr>\n",
       "                        <th style=\"padding:0;line-height:21px;\">\n",
       "                          <img style=\"height: 32px;display: inline-block;padding: 3px 5px 3px 0;\" src=\"https://raw.githubusercontent.com/tskit-dev/administrative/main/tskit_logo.svg\"/>\n",
       "                          <a target=\"_blank\" href=\"https://tskit.dev/tskit/docs/latest/python-api.html#the-treesequence-class\"> Tree Sequence </a>\n",
       "                        </th>\n",
       "                      </tr>\n",
       "                    </thead>\n",
       "                    <tbody>\n",
       "                      <tr><td>Trees</td><td>550068</td></tr>\n",
       "                      <tr><td>Sequence Length</td><td>55695147.0</td></tr>\n",
       "                      <tr><td>Time Units</td><td>unknown</td></tr>\n",
       "                      <tr><td>Sample Nodes</td><td>148</td></tr>\n",
       "                      <tr><td>Total Size</td><td>2.7 GiB</td></tr>\n",
       "                      <tr>\n",
       "                        <td>Metadata</td><td style=\"text-align: left;\">No Metadata</td></tr>\n",
       "                    </tbody>\n",
       "                  </table>\n",
       "                </div>\n",
       "                <div class=\"tskit-table-set-table\">\n",
       "                  <table class=\"tskit-table\">\n",
       "                    <thead>\n",
       "                      <tr>\n",
       "                        <th style=\"line-height:21px;\">Table</th>\n",
       "                        <th>Rows</th>\n",
       "                        <th>Size</th>\n",
       "                        <th>Has Metadata</th>\n",
       "                      </tr>\n",
       "                    </thead>\n",
       "                    <tbody>\n",
       "                    \n",
       "                  <tr>\n",
       "                    <td>Edges</td>\n",
       "                      <td>37875610</td>\n",
       "                      <td>1.7 GiB</td>\n",
       "                      <td style=\"text-align: center;\">\n",
       "                        ✅\n",
       "                      </td>\n",
       "                    </tr>\n",
       "                \n",
       "                  <tr>\n",
       "                    <td>Individuals</td>\n",
       "                      <td>148</td>\n",
       "                      <td>4.1 KiB</td>\n",
       "                      <td style=\"text-align: center;\">\n",
       "                        \n",
       "                      </td>\n",
       "                    </tr>\n",
       "                \n",
       "                  <tr>\n",
       "                    <td>Migrations</td>\n",
       "                      <td>0</td>\n",
       "                      <td>8 Bytes</td>\n",
       "                      <td style=\"text-align: center;\">\n",
       "                        \n",
       "                      </td>\n",
       "                    </tr>\n",
       "                \n",
       "                  <tr>\n",
       "                    <td>Mutations</td>\n",
       "                      <td>1240106</td>\n",
       "                      <td>43.8 MiB</td>\n",
       "                      <td style=\"text-align: center;\">\n",
       "                        \n",
       "                      </td>\n",
       "                    </tr>\n",
       "                \n",
       "                  <tr>\n",
       "                    <td>Nodes</td>\n",
       "                      <td>18424878</td>\n",
       "                      <td>632.6 MiB</td>\n",
       "                      <td style=\"text-align: center;\">\n",
       "                        ✅\n",
       "                      </td>\n",
       "                    </tr>\n",
       "                \n",
       "                  <tr>\n",
       "                    <td>Populations</td>\n",
       "                      <td>0</td>\n",
       "                      <td>8 Bytes</td>\n",
       "                      <td style=\"text-align: center;\">\n",
       "                        \n",
       "                      </td>\n",
       "                    </tr>\n",
       "                \n",
       "                  <tr>\n",
       "                    <td>Provenances</td>\n",
       "                      <td>0</td>\n",
       "                      <td>16 Bytes</td>\n",
       "                      <td style=\"text-align: center;\">\n",
       "                        \n",
       "                      </td>\n",
       "                    </tr>\n",
       "                \n",
       "                  <tr>\n",
       "                    <td>Sites</td>\n",
       "                      <td>1247619</td>\n",
       "                      <td>29.7 MiB</td>\n",
       "                      <td style=\"text-align: center;\">\n",
       "                        \n",
       "                      </td>\n",
       "                    </tr>\n",
       "                \n",
       "                    </tbody>\n",
       "                  </table>\n",
       "                </div>\n",
       "              </div>\n",
       "            </div>\n",
       "            "
      ],
      "text/plain": [
       "<tskit.trees.TreeSequence at 0x7f138c8a59d0>"
      ]
     },
     "execution_count": 4,
     "metadata": {},
     "output_type": "execute_result"
    }
   ],
   "source": [
    "ts6"
   ]
  },
  {
   "cell_type": "code",
   "execution_count": 33,
   "id": "97f28515-9cc5-401c-a793-a1ad26106ee5",
   "metadata": {},
   "outputs": [],
   "source": [
    "windows=[float(i) for i in ts6.breakpoints()]\n",
    "ros_pos = [pos for pos in windows if pos > 52.6e6 and pos < 53.4e6]"
   ]
  },
  {
   "cell_type": "code",
   "execution_count": 34,
   "id": "c45aca44-266a-4142-af83-c93c245db53f",
   "metadata": {},
   "outputs": [
    {
     "name": "stdout",
     "output_type": "stream",
     "text": [
      "CPU times: user 39min 10s, sys: 978 ms, total: 39min 11s\n",
      "Wall time: 39min 11s\n"
     ]
    },
    {
     "data": {
      "text/plain": [
       "(10764, 148, 148)"
      ]
     },
     "execution_count": 34,
     "metadata": {},
     "output_type": "execute_result"
    }
   ],
   "source": [
    "%%time\n",
    "\n",
    "## NB: divergence is 2xTMRCA!\n",
    "divergence_all = ts6.divergence_matrix(mode='branch', samples=ts6.samples(), windows=ros_pos)\n",
    "divergence_all.shape"
   ]
  },
  {
   "cell_type": "code",
   "execution_count": null,
   "id": "ce1ce972-2995-403f-8b63-2ea416275816",
   "metadata": {},
   "outputs": [],
   "source": []
  },
  {
   "cell_type": "code",
   "execution_count": null,
   "id": "be51296b-96f7-4caa-9b82-b04a6e4f8103",
   "metadata": {},
   "outputs": [],
   "source": []
  },
  {
   "cell_type": "code",
   "execution_count": null,
   "id": "2bb42b8b-f76b-4f24-89a1-5f611d1148b2",
   "metadata": {},
   "outputs": [],
   "source": []
  },
  {
   "cell_type": "code",
   "execution_count": 35,
   "id": "f31e9f0a-644b-4712-8c6f-09ba4b5f7dc6",
   "metadata": {},
   "outputs": [
    {
     "data": {
      "text/plain": [
       "0.0"
      ]
     },
     "execution_count": 35,
     "metadata": {},
     "output_type": "execute_result"
    }
   ],
   "source": [
    "windows[0]"
   ]
  },
  {
   "cell_type": "code",
   "execution_count": 5,
   "id": "2df2ad2d-5001-45db-ace1-7907bede8520",
   "metadata": {},
   "outputs": [],
   "source": [
    "# ts = ts6"
   ]
  },
  {
   "cell_type": "code",
   "execution_count": 6,
   "id": "dc2b6c85-e1ae-4418-abea-0e4cb615dce9",
   "metadata": {
    "collapsed": true,
    "jupyter": {
     "outputs_hidden": true,
     "source_hidden": true
    }
   },
   "outputs": [
    {
     "ename": "AttributeError",
     "evalue": "EdgeTable object has no attribute clear_metadata",
     "output_type": "error",
     "traceback": [
      "\u001b[0;31m---------------------------------------------------------------------------\u001b[0m",
      "\u001b[0;31mAttributeError\u001b[0m                            Traceback (most recent call last)",
      "Cell \u001b[0;32mIn[6], line 3\u001b[0m\n\u001b[1;32m      1\u001b[0m \u001b[38;5;66;03m# Drop edge metadata to enable subsetting\u001b[39;00m\n\u001b[1;32m      2\u001b[0m tables \u001b[38;5;241m=\u001b[39m ts\u001b[38;5;241m.\u001b[39mdump_tables()\n\u001b[0;32m----> 3\u001b[0m \u001b[43mtables\u001b[49m\u001b[38;5;241;43m.\u001b[39;49m\u001b[43medges\u001b[49m\u001b[38;5;241;43m.\u001b[39;49m\u001b[43mclear_metadata\u001b[49m()  \u001b[38;5;66;03m# Clears metadata from edges\u001b[39;00m\n\u001b[1;32m      5\u001b[0m \u001b[38;5;66;03m# Create a tree sequence without edge metadata\u001b[39;00m\n\u001b[1;32m      6\u001b[0m ts_no_metadata \u001b[38;5;241m=\u001b[39m tables\u001b[38;5;241m.\u001b[39mtree_sequence()\n",
      "File \u001b[0;32m~/.local/lib/python3.11/site-packages/tskit/tables.py:480\u001b[0m, in \u001b[0;36mBaseTable.__getattr__\u001b[0;34m(self, name)\u001b[0m\n\u001b[1;32m    478\u001b[0m     \u001b[38;5;28;01mreturn\u001b[39;00m \u001b[38;5;28mgetattr\u001b[39m(\u001b[38;5;28mself\u001b[39m\u001b[38;5;241m.\u001b[39mll_table, name)\n\u001b[1;32m    479\u001b[0m \u001b[38;5;28;01melse\u001b[39;00m:\n\u001b[0;32m--> 480\u001b[0m     \u001b[38;5;28;01mraise\u001b[39;00m \u001b[38;5;167;01mAttributeError\u001b[39;00m(\n\u001b[1;32m    481\u001b[0m         \u001b[38;5;124mf\u001b[39m\u001b[38;5;124m\"\u001b[39m\u001b[38;5;132;01m{\u001b[39;00m\u001b[38;5;28mself\u001b[39m\u001b[38;5;241m.\u001b[39m\u001b[38;5;18m__class__\u001b[39m\u001b[38;5;241m.\u001b[39m\u001b[38;5;18m__name__\u001b[39m\u001b[38;5;132;01m}\u001b[39;00m\u001b[38;5;124m object has no attribute \u001b[39m\u001b[38;5;132;01m{\u001b[39;00mname\u001b[38;5;132;01m}\u001b[39;00m\u001b[38;5;124m\"\u001b[39m\n\u001b[1;32m    482\u001b[0m     )\n",
      "\u001b[0;31mAttributeError\u001b[0m: EdgeTable object has no attribute clear_metadata"
     ]
    }
   ],
   "source": [
    "# # Drop edge metadata to enable subsetting\n",
    "# tables = ts.dump_tables()\n",
    "# tables.edges.clear_metadata()  # Clears metadata from edges\n",
    "\n",
    "# # Create a tree sequence without edge metadata\n",
    "# ts_no_metadata = tables.tree_sequence()\n",
    "\n",
    "# # Define the interval: [start, end) (end is exclusive)\n",
    "# start = 100_000\n",
    "# end = 200_000\n",
    "\n",
    "# # Subset the tree sequence\n",
    "# subset_ts = ts_no_metadata.keep_intervals([[start, end]])"
   ]
  },
  {
   "cell_type": "code",
   "execution_count": 4,
   "id": "5e58c963-c61c-4241-9737-1881612a59af",
   "metadata": {
    "collapsed": true,
    "jupyter": {
     "outputs_hidden": true,
     "source_hidden": true
    }
   },
   "outputs": [
    {
     "ename": "LibraryError",
     "evalue": "Can't squash, flush, simplify or link ancestors with edges that have non-empty metadata. (TSK_ERR_CANT_PROCESS_EDGES_WITH_METADATA)",
     "output_type": "error",
     "traceback": [
      "\u001b[0;31m---------------------------------------------------------------------------\u001b[0m",
      "\u001b[0;31mLibraryError\u001b[0m                              Traceback (most recent call last)",
      "Cell \u001b[0;32mIn[4], line 1\u001b[0m\n\u001b[0;32m----> 1\u001b[0m ros \u001b[38;5;241m=\u001b[39m \u001b[43mts6\u001b[49m\u001b[38;5;241;43m.\u001b[39;49m\u001b[43mkeep_intervals\u001b[49m\u001b[43m(\u001b[49m\u001b[43m[\u001b[49m\u001b[43m[\u001b[49m\u001b[38;5;241;43m1\u001b[39;49m\u001b[43m,\u001b[49m\u001b[43m \u001b[49m\u001b[38;5;241;43m100000\u001b[39;49m\u001b[43m]\u001b[49m\u001b[43m]\u001b[49m\u001b[43m)\u001b[49m\n",
      "File \u001b[0;32m~/.local/lib/python3.11/site-packages/tskit/trees.py:6769\u001b[0m, in \u001b[0;36mTreeSequence.keep_intervals\u001b[0;34m(self, intervals, simplify, record_provenance)\u001b[0m\n\u001b[1;32m   6741\u001b[0m \u001b[38;5;250m\u001b[39m\u001b[38;5;124;03m\"\"\"\u001b[39;00m\n\u001b[1;32m   6742\u001b[0m \u001b[38;5;124;03mReturns a copy of this tree sequence which includes only information in\u001b[39;00m\n\u001b[1;32m   6743\u001b[0m \u001b[38;5;124;03mthe specified list of genomic intervals. Edges are truncated to lie within\u001b[39;00m\n\u001b[0;32m   (...)\u001b[0m\n\u001b[1;32m   6766\u001b[0m \u001b[38;5;124;03m:rtype: tskit.TreeSequence\u001b[39;00m\n\u001b[1;32m   6767\u001b[0m \u001b[38;5;124;03m\"\"\"\u001b[39;00m\n\u001b[1;32m   6768\u001b[0m tables \u001b[38;5;241m=\u001b[39m \u001b[38;5;28mself\u001b[39m\u001b[38;5;241m.\u001b[39mdump_tables()\n\u001b[0;32m-> 6769\u001b[0m \u001b[43mtables\u001b[49m\u001b[38;5;241;43m.\u001b[39;49m\u001b[43mkeep_intervals\u001b[49m\u001b[43m(\u001b[49m\u001b[43mintervals\u001b[49m\u001b[43m,\u001b[49m\u001b[43m \u001b[49m\u001b[43msimplify\u001b[49m\u001b[43m,\u001b[49m\u001b[43m \u001b[49m\u001b[43mrecord_provenance\u001b[49m\u001b[43m)\u001b[49m\n\u001b[1;32m   6770\u001b[0m \u001b[38;5;28;01mreturn\u001b[39;00m tables\u001b[38;5;241m.\u001b[39mtree_sequence()\n",
      "File \u001b[0;32m~/.local/lib/python3.11/site-packages/tskit/tables.py:3854\u001b[0m, in \u001b[0;36mTableCollection.keep_intervals\u001b[0;34m(self, intervals, simplify, record_provenance)\u001b[0m\n\u001b[1;32m   3852\u001b[0m \u001b[38;5;28mself\u001b[39m\u001b[38;5;241m.\u001b[39msort()\n\u001b[1;32m   3853\u001b[0m \u001b[38;5;28;01mif\u001b[39;00m simplify:\n\u001b[0;32m-> 3854\u001b[0m     \u001b[38;5;28;43mself\u001b[39;49m\u001b[38;5;241;43m.\u001b[39;49m\u001b[43msimplify\u001b[49m\u001b[43m(\u001b[49m\u001b[43mrecord_provenance\u001b[49m\u001b[38;5;241;43m=\u001b[39;49m\u001b[38;5;28;43;01mFalse\u001b[39;49;00m\u001b[43m)\u001b[49m\n\u001b[1;32m   3855\u001b[0m \u001b[38;5;28;01mif\u001b[39;00m record_provenance:\n\u001b[1;32m   3856\u001b[0m     parameters \u001b[38;5;241m=\u001b[39m {\u001b[38;5;124m\"\u001b[39m\u001b[38;5;124mcommand\u001b[39m\u001b[38;5;124m\"\u001b[39m: \u001b[38;5;124m\"\u001b[39m\u001b[38;5;124mkeep_intervals\u001b[39m\u001b[38;5;124m\"\u001b[39m, \u001b[38;5;124m\"\u001b[39m\u001b[38;5;124mTODO\u001b[39m\u001b[38;5;124m\"\u001b[39m: \u001b[38;5;124m\"\u001b[39m\u001b[38;5;124madd parameters\u001b[39m\u001b[38;5;124m\"\u001b[39m}\n",
      "File \u001b[0;32m~/.local/lib/python3.11/site-packages/tskit/tables.py:3464\u001b[0m, in \u001b[0;36mTableCollection.simplify\u001b[0;34m(self, samples, reduce_to_site_topology, filter_populations, filter_individuals, filter_sites, filter_nodes, update_sample_flags, keep_unary, keep_unary_in_individuals, keep_input_roots, record_provenance, filter_zero_mutation_sites)\u001b[0m\n\u001b[1;32m   3461\u001b[0m \u001b[38;5;28;01mif\u001b[39;00m keep_unary_in_individuals \u001b[38;5;129;01mis\u001b[39;00m \u001b[38;5;28;01mNone\u001b[39;00m:\n\u001b[1;32m   3462\u001b[0m     keep_unary_in_individuals \u001b[38;5;241m=\u001b[39m \u001b[38;5;28;01mFalse\u001b[39;00m\n\u001b[0;32m-> 3464\u001b[0m node_map \u001b[38;5;241m=\u001b[39m \u001b[38;5;28;43mself\u001b[39;49m\u001b[38;5;241;43m.\u001b[39;49m\u001b[43m_ll_tables\u001b[49m\u001b[38;5;241;43m.\u001b[39;49m\u001b[43msimplify\u001b[49m\u001b[43m(\u001b[49m\n\u001b[1;32m   3465\u001b[0m \u001b[43m    \u001b[49m\u001b[43msamples\u001b[49m\u001b[43m,\u001b[49m\n\u001b[1;32m   3466\u001b[0m \u001b[43m    \u001b[49m\u001b[43mfilter_sites\u001b[49m\u001b[38;5;241;43m=\u001b[39;49m\u001b[43mfilter_sites\u001b[49m\u001b[43m,\u001b[49m\n\u001b[1;32m   3467\u001b[0m \u001b[43m    \u001b[49m\u001b[43mfilter_individuals\u001b[49m\u001b[38;5;241;43m=\u001b[39;49m\u001b[43mfilter_individuals\u001b[49m\u001b[43m,\u001b[49m\n\u001b[1;32m   3468\u001b[0m \u001b[43m    \u001b[49m\u001b[43mfilter_populations\u001b[49m\u001b[38;5;241;43m=\u001b[39;49m\u001b[43mfilter_populations\u001b[49m\u001b[43m,\u001b[49m\n\u001b[1;32m   3469\u001b[0m \u001b[43m    \u001b[49m\u001b[43mfilter_nodes\u001b[49m\u001b[38;5;241;43m=\u001b[39;49m\u001b[43mfilter_nodes\u001b[49m\u001b[43m,\u001b[49m\n\u001b[1;32m   3470\u001b[0m \u001b[43m    \u001b[49m\u001b[43mupdate_sample_flags\u001b[49m\u001b[38;5;241;43m=\u001b[39;49m\u001b[43mupdate_sample_flags\u001b[49m\u001b[43m,\u001b[49m\n\u001b[1;32m   3471\u001b[0m \u001b[43m    \u001b[49m\u001b[43mreduce_to_site_topology\u001b[49m\u001b[38;5;241;43m=\u001b[39;49m\u001b[43mreduce_to_site_topology\u001b[49m\u001b[43m,\u001b[49m\n\u001b[1;32m   3472\u001b[0m \u001b[43m    \u001b[49m\u001b[43mkeep_unary\u001b[49m\u001b[38;5;241;43m=\u001b[39;49m\u001b[43mkeep_unary\u001b[49m\u001b[43m,\u001b[49m\n\u001b[1;32m   3473\u001b[0m \u001b[43m    \u001b[49m\u001b[43mkeep_unary_in_individuals\u001b[49m\u001b[38;5;241;43m=\u001b[39;49m\u001b[43mkeep_unary_in_individuals\u001b[49m\u001b[43m,\u001b[49m\n\u001b[1;32m   3474\u001b[0m \u001b[43m    \u001b[49m\u001b[43mkeep_input_roots\u001b[49m\u001b[38;5;241;43m=\u001b[39;49m\u001b[43mkeep_input_roots\u001b[49m\u001b[43m,\u001b[49m\n\u001b[1;32m   3475\u001b[0m \u001b[43m\u001b[49m\u001b[43m)\u001b[49m\n\u001b[1;32m   3476\u001b[0m \u001b[38;5;28;01mif\u001b[39;00m record_provenance:\n\u001b[1;32m   3477\u001b[0m     \u001b[38;5;66;03m# TODO replace with a version of https://github.com/tskit-dev/tskit/pull/243\u001b[39;00m\n\u001b[1;32m   3478\u001b[0m     \u001b[38;5;66;03m# TODO also make sure we convert all the arguments so that they are\u001b[39;00m\n\u001b[1;32m   3479\u001b[0m     \u001b[38;5;66;03m# definitely JSON encodable.\u001b[39;00m\n\u001b[1;32m   3480\u001b[0m     parameters \u001b[38;5;241m=\u001b[39m {\u001b[38;5;124m\"\u001b[39m\u001b[38;5;124mcommand\u001b[39m\u001b[38;5;124m\"\u001b[39m: \u001b[38;5;124m\"\u001b[39m\u001b[38;5;124msimplify\u001b[39m\u001b[38;5;124m\"\u001b[39m, \u001b[38;5;124m\"\u001b[39m\u001b[38;5;124mTODO\u001b[39m\u001b[38;5;124m\"\u001b[39m: \u001b[38;5;124m\"\u001b[39m\u001b[38;5;124madd simplify parameters\u001b[39m\u001b[38;5;124m\"\u001b[39m}\n",
      "\u001b[0;31mLibraryError\u001b[0m: Can't squash, flush, simplify or link ancestors with edges that have non-empty metadata. (TSK_ERR_CANT_PROCESS_EDGES_WITH_METADATA)"
     ]
    }
   ],
   "source": [
    "ros = ts6_simpli.keep_intervals([[1, 100000]])"
   ]
  },
  {
   "cell_type": "code",
   "execution_count": 4,
   "id": "c684518e-b6a5-4b65-9cdb-80d726df0e87",
   "metadata": {},
   "outputs": [],
   "source": [
    "tables = ts6.tables"
   ]
  },
  {
   "cell_type": "code",
   "execution_count": 8,
   "id": "5755ab10-95ae-4384-954f-94f7cc638389",
   "metadata": {
    "collapsed": true,
    "jupyter": {
     "outputs_hidden": true,
     "source_hidden": true
    }
   },
   "outputs": [
    {
     "data": {
      "text/html": [
       "\n",
       "        <div>\n",
       "            <style scoped=\"\">\n",
       "                .tskit-table tbody tr th:only-of-type {vertical-align: middle;}\n",
       "                .tskit-table tbody tr th {vertical-align: top;}\n",
       "                .tskit-table tbody td {text-align: right;padding: 0.5em 0.5em;}\n",
       "                .tskit-table tbody th {padding: 0.5em 0.5em;}\n",
       "            </style>\n",
       "            <table border=\"1\" class=\"tskit-table\">\n",
       "                <thead>\n",
       "                    <tr>\n",
       "                        <th>id</th><th>flags</th><th>population</th><th>individual</th><th>time</th><th>metadata</th>\n",
       "                    </tr>\n",
       "                </thead>\n",
       "                <tbody>\n",
       "                    <tr><td>0</td><td>1</td><td>-1</td><td>-1</td><td>0.00000000</td><td>b'\\x00\\x00\\x00\\x00\\x00\\x00\\x00\\x00'</td></tr>\n",
       "<tr><td>1</td><td>1</td><td>-1</td><td>-1</td><td>0.00000000</td><td>b'\\x00\\x00\\x00\\x00\\x00\\x00\\x00\\x00'</td></tr>\n",
       "<tr><td>2</td><td>1</td><td>-1</td><td>-1</td><td>0.00000000</td><td>b'\\x00\\x00\\x00\\x00\\x00\\x00\\x00\\x00'</td></tr>\n",
       "<tr><td>3</td><td>1</td><td>-1</td><td>-1</td><td>0.00000000</td><td>b'\\x00\\x00\\x00\\x00\\x00\\x00\\x00\\x00'</td></tr>\n",
       "<tr><td>4</td><td>1</td><td>-1</td><td>-1</td><td>0.00000000</td><td>b'\\x00\\x00\\x00\\x00\\x00\\x00\\x00\\x00'</td></tr>\n",
       "<tr><td>5</td><td>1</td><td>-1</td><td>-1</td><td>0.00000000</td><td>b'\\x00\\x00\\x00\\x00\\x00\\x00\\x00\\x00'</td></tr>\n",
       "<tr><td>6</td><td>1</td><td>-1</td><td>-1</td><td>0.00000000</td><td>b'\\x00\\x00\\x00\\x00\\x00\\x00\\x00\\x00'</td></tr>\n",
       "<tr><td>7</td><td>1</td><td>-1</td><td>-1</td><td>0.00000000</td><td>b'\\x00\\x00\\x00\\x00\\x00\\x00\\x00\\x00'</td></tr>\n",
       "<tr><td>8</td><td>1</td><td>-1</td><td>-1</td><td>0.00000000</td><td>b'\\x00\\x00\\x00\\x00\\x00\\x00\\x00\\x00'</td></tr>\n",
       "<tr><td>9</td><td>1</td><td>-1</td><td>-1</td><td>0.00000000</td><td>b'\\x00\\x00\\x00\\x00\\x00\\x00\\x00\\x00'</td></tr>\n",
       "<tr><td>10</td><td>1</td><td>-1</td><td>-1</td><td>0.00000000</td><td>b'\\x00\\x00\\x00\\x00\\x00\\x00\\x00\\x00'</td></tr>\n",
       "<tr><td>11</td><td>1</td><td>-1</td><td>-1</td><td>0.00000000</td><td>b'\\x00\\x00\\x00\\x00\\x00\\x00\\x00\\x00'</td></tr>\n",
       "<tr><td>12</td><td>1</td><td>-1</td><td>-1</td><td>0.00000000</td><td>b'\\x00\\x00\\x00\\x00\\x00\\x00\\x00\\x00'</td></tr>\n",
       "<tr><td>13</td><td>1</td><td>-1</td><td>-1</td><td>0.00000000</td><td>b'\\x00\\x00\\x00\\x00\\x00\\x00\\x00\\x00'</td></tr>\n",
       "<tr><td>14</td><td>1</td><td>-1</td><td>-1</td><td>0.00000000</td><td>b'\\x00\\x00\\x00\\x00\\x00\\x00\\x00\\x00'</td></tr>\n",
       "<tr><td>15</td><td>1</td><td>-1</td><td>-1</td><td>0.00000000</td><td>b'\\x00\\x00\\x00\\x00\\x00\\x00\\x00\\x00'</td></tr>\n",
       "<tr><td>16</td><td>1</td><td>-1</td><td>-1</td><td>0.00000000</td><td>b'\\x00\\x00\\x00\\x00\\x00\\x00\\x00\\x00'</td></tr>\n",
       "<tr><td>17</td><td>1</td><td>-1</td><td>-1</td><td>0.00000000</td><td>b'\\x00\\x00\\x00\\x00\\x00\\x00\\x00\\x00'</td></tr>\n",
       "<tr><td>18</td><td>1</td><td>-1</td><td>-1</td><td>0.00000000</td><td>b'\\x00\\x00\\x00\\x00\\x00\\x00\\x00\\x00'</td></tr>\n",
       "<tr><td>19</td><td>1</td><td>-1</td><td>-1</td><td>0.00000000</td><td>b'\\x00\\x00\\x00\\x00\\x00\\x00\\x00\\x00'</td></tr>\n",
       "<tr><td style=\"text-align: center;\" colspan=\"93\"><em>18424838 rows skipped (tskit.set_print_options)</em></td></tr>\n",
       "<tr><td>18424858</td><td>0</td><td>-1</td><td>-1</td><td>378.60620117</td><td>b'\\x00\\x00\\x00\\x00\\xb3\\xa9w@'</td></tr>\n",
       "<tr><td>18424859</td><td>0</td><td>-1</td><td>-1</td><td>442.27893066</td><td>b'\\x00\\x00\\x00\\x80v\\xa4{@'</td></tr>\n",
       "<tr><td>18424860</td><td>0</td><td>-1</td><td>-1</td><td>865.87213135</td><td>b'\\x00\\x00\\x00 \\xfa\\x0e\\x8b@'</td></tr>\n",
       "<tr><td>18424861</td><td>0</td><td>-1</td><td>-1</td><td>1069.22656250</td><td>b'\\x00\\x00\\x00\\x00\\xe8\\xb4\\x90@'</td></tr>\n",
       "<tr><td>18424862</td><td>0</td><td>-1</td><td>-1</td><td>1508.05761719</td><td>b'\\x00\\x00\\x00\\x00;\\x90\\x97@'</td></tr>\n",
       "<tr><td>18424863</td><td>0</td><td>-1</td><td>-1</td><td>533.89776611</td><td>b'\\x00\\x00\\x00\\xa0.\\xaf\\x80@'</td></tr>\n",
       "<tr><td>18424864</td><td>0</td><td>-1</td><td>-1</td><td>1045.34472656</td><td>b'\\x00\\x00\\x00\\x00aU\\x90@'</td></tr>\n",
       "<tr><td>18424865</td><td>0</td><td>-1</td><td>-1</td><td>2040.88928223</td><td>b'\\x00\\x00\\x00\\xa0\\x8e\\xe3\\x9f@'</td></tr>\n",
       "<tr><td>18424866</td><td>0</td><td>-1</td><td>-1</td><td>2894.71435547</td><td>b'\\x00\\x00\\x00\\xc0m\\x9d\\xa6@'</td></tr>\n",
       "<tr><td>18424867</td><td>0</td><td>-1</td><td>-1</td><td>3799.80590820</td><td>b'\\x00\\x00\\x00\\xa0\\x9c\\xaf\\xad@'</td></tr>\n",
       "<tr><td>18424868</td><td>0</td><td>-1</td><td>-1</td><td>5669.54199219</td><td>b'\\x00\\x00\\x00\\xc0\\x8a%\\xb6@'</td></tr>\n",
       "<tr><td>18424869</td><td>0</td><td>-1</td><td>-1</td><td>146.72752380</td><td>b'\\x00\\x00\\x00\\xe0GWb@'</td></tr>\n",
       "<tr><td>18424870</td><td>0</td><td>-1</td><td>-1</td><td>9723.70117188</td><td>b'\\x00\\x00\\x00\\xc0\\xd9\\xfd\\xc2@'</td></tr>\n",
       "<tr><td>18424871</td><td>0</td><td>-1</td><td>-1</td><td>263.55993652</td><td>b'\\x00\\x00\\x00\\x80\\xf5xp@'</td></tr>\n",
       "<tr><td>18424872</td><td>0</td><td>-1</td><td>-1</td><td>15784.22265625</td><td>b'\\x00\\x00\\x00\\x80\\x1c\\xd4\\xce@'</td></tr>\n",
       "<tr><td>18424873</td><td>0</td><td>-1</td><td>-1</td><td>1371.55017090</td><td>b'\\x00\\x00\\x00`3n\\x95@'</td></tr>\n",
       "<tr><td>18424874</td><td>0</td><td>-1</td><td>-1</td><td>393.61022949</td><td>b'\\x00\\x00\\x00\\x80\\xc3\\x99x@'</td></tr>\n",
       "<tr><td>18424875</td><td>0</td><td>-1</td><td>-1</td><td>6805.42675781</td><td>b'\\x00\\x00\\x00@m\\x95\\xba@'</td></tr>\n",
       "<tr><td>18424876</td><td>0</td><td>-1</td><td>-1</td><td>30174.96289062</td><td>b'\\x00\\x00\\x00\\xa0\\xbdw\\xdd@'</td></tr>\n",
       "<tr><td>18424877</td><td>0</td><td>-1</td><td>-1</td><td>54956.90234375</td><td>b'\\x00\\x00\\x00\\xe0\\x9c\\xd5\\xea@'</td></tr>\n",
       "\n",
       "                </tbody>\n",
       "            </table>\n",
       "        </div>\n",
       "    "
      ],
      "text/plain": [
       "<tskit.tables.NodeTable at 0x7f6e651a5790>"
      ]
     },
     "execution_count": 8,
     "metadata": {},
     "output_type": "execute_result"
    }
   ],
   "source": [
    "tables."
   ]
  },
  {
   "cell_type": "code",
   "execution_count": 5,
   "id": "2368c815-4e5d-4c67-b82a-4f064d9bef56",
   "metadata": {
    "collapsed": true,
    "jupyter": {
     "outputs_hidden": true
    }
   },
   "outputs": [
    {
     "ename": "LibraryError",
     "evalue": "Population out of bounds. (TSK_ERR_POPULATION_OUT_OF_BOUNDS)",
     "output_type": "error",
     "traceback": [
      "\u001b[0;31m---------------------------------------------------------------------------\u001b[0m",
      "\u001b[0;31mLibraryError\u001b[0m                              Traceback (most recent call last)",
      "File \u001b[0;32m<timed exec>:19\u001b[0m\n",
      "File \u001b[0;32m~/.local/lib/python3.11/site-packages/tskit/tables.py:3341\u001b[0m, in \u001b[0;36mTableCollection.tree_sequence\u001b[0;34m(self)\u001b[0m\n\u001b[1;32m   3339\u001b[0m \u001b[38;5;28;01mif\u001b[39;00m \u001b[38;5;129;01mnot\u001b[39;00m \u001b[38;5;28mself\u001b[39m\u001b[38;5;241m.\u001b[39mhas_index():\n\u001b[1;32m   3340\u001b[0m     \u001b[38;5;28mself\u001b[39m\u001b[38;5;241m.\u001b[39mbuild_index()\n\u001b[0;32m-> 3341\u001b[0m \u001b[38;5;28;01mreturn\u001b[39;00m \u001b[43mtskit\u001b[49m\u001b[38;5;241;43m.\u001b[39;49m\u001b[43mTreeSequence\u001b[49m\u001b[38;5;241;43m.\u001b[39;49m\u001b[43mload_tables\u001b[49m\u001b[43m(\u001b[49m\u001b[38;5;28;43mself\u001b[39;49m\u001b[43m)\u001b[49m\n",
      "File \u001b[0;32m~/.local/lib/python3.11/site-packages/tskit/trees.py:4110\u001b[0m, in \u001b[0;36mTreeSequence.load_tables\u001b[0;34m(cls, tables, build_indexes)\u001b[0m\n\u001b[1;32m   4107\u001b[0m \u001b[38;5;129m@classmethod\u001b[39m\n\u001b[1;32m   4108\u001b[0m \u001b[38;5;28;01mdef\u001b[39;00m \u001b[38;5;21mload_tables\u001b[39m(\u001b[38;5;28mcls\u001b[39m, tables, \u001b[38;5;241m*\u001b[39m, build_indexes\u001b[38;5;241m=\u001b[39m\u001b[38;5;28;01mFalse\u001b[39;00m):\n\u001b[1;32m   4109\u001b[0m     ts \u001b[38;5;241m=\u001b[39m _tskit\u001b[38;5;241m.\u001b[39mTreeSequence()\n\u001b[0;32m-> 4110\u001b[0m     \u001b[43mts\u001b[49m\u001b[38;5;241;43m.\u001b[39;49m\u001b[43mload_tables\u001b[49m\u001b[43m(\u001b[49m\u001b[43mtables\u001b[49m\u001b[38;5;241;43m.\u001b[39;49m\u001b[43m_ll_tables\u001b[49m\u001b[43m,\u001b[49m\u001b[43m \u001b[49m\u001b[43mbuild_indexes\u001b[49m\u001b[38;5;241;43m=\u001b[39;49m\u001b[43mbuild_indexes\u001b[49m\u001b[43m)\u001b[49m\n\u001b[1;32m   4111\u001b[0m     \u001b[38;5;28;01mreturn\u001b[39;00m TreeSequence(ts)\n",
      "\u001b[0;31mLibraryError\u001b[0m: Population out of bounds. (TSK_ERR_POPULATION_OUT_OF_BOUNDS)"
     ]
    }
   ],
   "source": [
    "%%time\n",
    "\n",
    "sample_counts = [38,38,36,36]\n",
    "\n",
    "# Compute population assignments\n",
    "population_assignments = []\n",
    "for pop_id, count in enumerate(sample_counts):\n",
    "    population_assignments.extend([pop_id] * count)\n",
    "\n",
    "# Ensure the total number of sample nodes matches the number of population assignments\n",
    "assert len(population_assignments) == ts6.num_samples, \"Mismatch in sample count and population assignments\"\n",
    "\n",
    "# Assign population IDs to sample nodes\n",
    "sample_index = 0\n",
    "for i, node in enumerate(tables.nodes):\n",
    "    if node.flags & tskit.NODE_IS_SAMPLE:  # Check if this node is a sample\n",
    "        tables.nodes[i] = node.replace(population=population_assignments[sample_index])\n",
    "        sample_index += 1\n",
    "\n",
    "# Create a new tree sequence with the updated metadata\n",
    "updated_ts = tables.tree_sequence()"
   ]
  },
  {
   "cell_type": "code",
   "execution_count": null,
   "id": "7aadcf34-cfcf-4ddd-8017-947020e80492",
   "metadata": {},
   "outputs": [],
   "source": [
    "updated_ts"
   ]
  },
  {
   "cell_type": "code",
   "execution_count": 32,
   "id": "e9273af4-e05a-4094-876c-2fbd34f88388",
   "metadata": {},
   "outputs": [],
   "source": [
    "tr0 = ts6.at_index(0)\n",
    "tr1 = ts6.at_index(1)"
   ]
  },
  {
   "cell_type": "code",
   "execution_count": 34,
   "id": "a0ecf5a5-a4c0-4902-a72e-bb7d71b879b7",
   "metadata": {},
   "outputs": [
    {
     "name": "stdout",
     "output_type": "stream",
     "text": [
      "Interval(left=0.0, right=11563.0) Interval(left=11563.0, right=11600.0)\n"
     ]
    }
   ],
   "source": [
    "print(tr0.interval, tr1.interval)"
   ]
  },
  {
   "cell_type": "code",
   "execution_count": 37,
   "id": "3c22132b-f96f-42c6-8e31-9c088c174cf0",
   "metadata": {},
   "outputs": [
    {
     "data": {
      "text/plain": [
       "[<generator object Tree.samples at 0x7f0c976b7b50>]"
      ]
     },
     "execution_count": 37,
     "metadata": {},
     "output_type": "execute_result"
    }
   ],
   "source": [
    "[tr0.samples()]"
   ]
  },
  {
   "cell_type": "code",
   "execution_count": 44,
   "id": "5ee1caaf-e179-4e25-9962-c0cc261b0af8",
   "metadata": {},
   "outputs": [],
   "source": [
    "# tr0.draw(height=1000, width=1000)"
   ]
  },
  {
   "cell_type": "code",
   "execution_count": null,
   "id": "92a335bf-6a8a-4c5f-ae47-a0a5c29ecf21",
   "metadata": {},
   "outputs": [],
   "source": []
  },
  {
   "cell_type": "code",
   "execution_count": 45,
   "id": "b6f7a4a5-9b47-4dd0-b5df-e00fd30ccf1c",
   "metadata": {},
   "outputs": [
    {
     "data": {
      "text/plain": [
       "294"
      ]
     },
     "execution_count": 45,
     "metadata": {},
     "output_type": "execute_result"
    }
   ],
   "source": [
    "tr0"
   ]
  },
  {
   "cell_type": "code",
   "execution_count": 46,
   "id": "4d8bb77c-bb7a-4185-be7c-2012864e98b7",
   "metadata": {},
   "outputs": [
    {
     "data": {
      "text/plain": [
       "array([  0,   1,   2,   3,   4,   5,   6,   7,   8,   9,  10,  11,  12,\n",
       "        13,  14,  15,  16,  17,  18,  19,  20,  21,  22,  23,  24,  25,\n",
       "        26,  27,  28,  29,  30,  31,  32,  33,  34,  35,  36,  37,  38,\n",
       "        39,  40,  41,  42,  43,  44,  45,  46,  47,  48,  49,  50,  51,\n",
       "        52,  53,  54,  55,  56,  57,  58,  59,  60,  61,  62,  63,  64,\n",
       "        65,  66,  67,  68,  69,  70,  71,  72,  73,  74,  75,  76,  77,\n",
       "        78,  79,  80,  81,  82,  83,  84,  85,  86,  87,  88,  89,  90,\n",
       "        91,  92,  93,  94,  95,  96,  97,  98,  99, 100, 101, 102, 103,\n",
       "       104, 105, 106, 107, 108, 109, 110, 111, 112, 113, 114, 115, 116,\n",
       "       117, 118, 119, 120, 121, 122, 123, 124, 125, 126, 127, 128, 129,\n",
       "       130, 131, 132, 133, 134, 135, 136, 137, 138, 139, 140, 141, 142,\n",
       "       143, 144, 145, 146, 147], dtype=int32)"
      ]
     },
     "execution_count": 46,
     "metadata": {},
     "output_type": "execute_result"
    }
   ],
   "source": [
    "ts6.samples()"
   ]
  },
  {
   "cell_type": "code",
   "execution_count": null,
   "id": "51bf5aaf-9793-43cd-93a8-955099b60675",
   "metadata": {},
   "outputs": [],
   "source": []
  }
 ],
 "metadata": {
  "kernelspec": {
   "display_name": "Python 3 (ipykernel)",
   "language": "python",
   "name": "python3"
  },
  "language_info": {
   "codemirror_mode": {
    "name": "ipython",
    "version": 3
   },
   "file_extension": ".py",
   "mimetype": "text/x-python",
   "name": "python",
   "nbconvert_exporter": "python",
   "pygments_lexer": "ipython3",
   "version": "3.11.8"
  }
 },
 "nbformat": 4,
 "nbformat_minor": 5
}
