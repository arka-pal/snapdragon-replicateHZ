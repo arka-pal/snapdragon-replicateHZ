{
 "cells": [
  {
   "cell_type": "markdown",
   "id": "5cbb201d-2c50-404b-af58-d9791b39ba53",
   "metadata": {},
   "source": [
    "# Relate\n",
    "Date: 2024-08-21  \n",
    "update: 2024-08-29\n",
    "\n",
    "infer genealogies with all magenta and yellow samples from *Ave* and *Pla*"
   ]
  },
  {
   "cell_type": "code",
   "execution_count": 1,
   "id": "f1b19c4e-b2fe-48fe-af7a-509b512935c5",
   "metadata": {},
   "outputs": [],
   "source": [
    "PATH_TO_RELATE=~/_softwares/relate_v1.2.2\n",
    "export PATH=$PATH:~/_softwares/relate_v1.2.2/bin/:~/_softwares/relate_v1.2.2/scripts/\n",
    "module load plink\n",
    "module load bcftools\n",
    "module load R\n",
    "cd ~/snap_hap_repHZ/relate\n",
    "\n",
    "baseDIR=~/snap_hap_repHZ/relate\n",
    "popLabels=~/snap_hap_repHZ/relate/AvePla.MY.n74.poplabels"
   ]
  },
  {
   "cell_type": "markdown",
   "id": "e1a9186d-94ff-4248-ad03-1ae8f2c19c02",
   "metadata": {},
   "source": [
    "## Steps for running _Relate_"
   ]
  },
  {
   "cell_type": "code",
   "execution_count": null,
   "id": "6af08f29-5485-4f3a-b305-478c48b1b1ac",
   "metadata": {},
   "outputs": [],
   "source": [
    "## Initiate variables\n",
    "## -----\n",
    "chrom=$1\n",
    "baseDIR=~/snap_hap_repHZ/relate\n",
    "\n",
    "vcf=~/snap_hap_repHZ/statphase/AvePla_FrYe/$chrom.AvePla.FrYe.sorted.statphased.vcf.gz\n",
    "# vcf=/nfs/scistore18/bartogrp/apal/snap_hap_repHZ/relate_test/test2.vcf.gz\n",
    "ancestral=~/snap_hap_repHZ/ancestral_alleles/allelePolarised_chrom/ancestral_$chrom.txt\n",
    "polarisedVcf=~/snap_hap_repHZ/relate/$chrom/$chrom.polarised\n",
    "popLabels=$baseDIR/AvePla.MY.n74.poplabels\n",
    "\n",
    "mu=\"5.7e-9\"\n",
    "Ne=813388\n",
    "\n",
    "if [ ! -d $baseDIR/$chrom ]; then mkdir -p $baseDIR/$chrom; fi\n",
    "cd $baseDIR/$chrom\n",
    "\n",
    "echo -e \"\\n\\n\"\n",
    "echo VCF: $vcf\n",
    "echo ancestral: $ancestral\n",
    "echo Polarised VCF: $polarisedVcf\n",
    "echo Population File: $popLabels\n",
    "echo mutation rate: $mu\n",
    "echo Ne: $Ne\n",
    "echo -e \"\\n\\n\""
   ]
  },
  {
   "cell_type": "markdown",
   "id": "e60d633d-2eb9-40e6-8bfa-372abd7ec2af",
   "metadata": {},
   "source": [
    "### Polarise VCF"
   ]
  },
  {
   "cell_type": "code",
   "execution_count": null,
   "id": "fe1b091d-e20a-4f41-8aff-e53080157086",
   "metadata": {},
   "outputs": [],
   "source": [
    "## Create text file with ancestral allele information\n",
    "tail +2 ~/snap_hap_repHZ/ancestral_alleles/allelePolarised_chrom/allelePolarised_Chr6.csv | \\\n",
    "    cut -d, -f2,1,35 | tr ',' '\\t' | \\\n",
    "    awk '{print $2\":\"$1\"\\t\"$3}' > ~/snap_hap_repHZ/ancestral_alleles/allelePolarised_chrom/ancestral_Chr6.txt\n",
    "\n",
    "## Polarise bi-alleleic phased VCF such that the ancestral allele is always denoted by 0\n",
    "vcf=~/snap_hap_repHZ/statphase/AvePla_FrYe/Chr6.AvePla.FrYe.sorted.statphased.vcf.gz\n",
    "ancestral=~/snap_hap_repHZ/ancestral_alleles/allelePolarised_chrom/ancestral_Chr6.txt\n",
    "out=~/snap_hap_repHZ/relate/polarised_VCFs/polarised_Chr6\n",
    "plink2 --vcf $vcf --set-all-var-ids Chr@:\\# --ref-allele 'force' $ancestral 2 1 --export vcf --out $out"
   ]
  },
  {
   "cell_type": "markdown",
   "id": "36b16bf6-de4d-4e91-bc0a-0917cde6896f",
   "metadata": {},
   "source": [
    "### Preprocessing"
   ]
  },
  {
   "cell_type": "code",
   "execution_count": null,
   "id": "cbd6dfee-26ab-40b4-9c1c-02d97fc59270",
   "metadata": {},
   "outputs": [],
   "source": [
    "## Convert to haps/sample format\n",
    "RelateFileFormats --mode ConvertFromVcf --haps ./Chr6.haps --sample ./Chr6.sample -i ./polarised_VCFs/polarised_Chr6\n",
    "\n",
    "## Generate SNP annotation\n",
    "RelateFileFormats --mode GenerateSNPAnnotations --haps ./Chr6.haps --sample ./Chr6.sample --poplabels ./AvePla.MY.n74.poplabels -o Chr6"
   ]
  },
  {
   "cell_type": "markdown",
   "id": "e8b37ced-634a-4766-8324-4df0ea3c8ba3",
   "metadata": {},
   "source": [
    "### Run Relate"
   ]
  },
  {
   "cell_type": "code",
   "execution_count": null,
   "id": "802f41cc-d28e-429c-8d3e-adb7a8318516",
   "metadata": {},
   "outputs": [],
   "source": [
    "Relate --mode All -m 5.7e-9 -N 813388 --haps ./Chr6.haps --sample ./Chr6.sample --map ./Chr6.map --annot ./Chr6.annot --seed 420 -o out"
   ]
  },
  {
   "cell_type": "markdown",
   "id": "46360e76-ddc6-446d-a3bc-695c7fca8bef",
   "metadata": {},
   "source": [
    "### Estimate pop size"
   ]
  },
  {
   "cell_type": "code",
   "execution_count": null,
   "id": "35593411-29e4-4399-a048-3d446bd3646d",
   "metadata": {},
   "outputs": [],
   "source": [
    "## Estimate pop size for each chromosome\n",
    "\n",
    "# chrom=Chr8\n",
    "cd $baseDIR/$chrom\n",
    "\n",
    "time $PATH_TO_RELATE/bin/RelateCoalescentRate \\\n",
    "                --mode EstimatePopulationSize \\\n",
    "                --poplabels $popLabels \\\n",
    "                -i rel_chr${chrom/Chr} \\\n",
    "                -o rel_chr${chrom/Chr}\n",
    "time $PATH_TO_RELATE/bin/RelateCoalescentRate \\\n",
    "                --mode FinalizePopulationSize \\\n",
    "                --poplabels popLabels \\\n",
    "                -i rel_chr${chrom/Chr} \\\n",
    "                -o rel_chr${chrom/Chr}"
   ]
  },
  {
   "cell_type": "code",
   "execution_count": null,
   "id": "39a2d442-2b52-4dea-86c9-4940390a565e",
   "metadata": {},
   "outputs": [],
   "source": [
    "## Estimate pop size\n",
    "~/_softwares/relate_v1.2.2/scripts/EstimatePopulationSize/EstimatePopulationSize.sh \\\n",
    "              -i ./Chr6 \\\n",
    "              -m 5.7e-9 \\\n",
    "              --poplabels ./AvePla.MY.n74.poplabels \\\n",
    "              --seed 420 \\\n",
    "              -o Chr6_popsize"
   ]
  },
  {
   "cell_type": "code",
   "execution_count": null,
   "id": "95ddfa15-129a-47a9-981d-e16c2c19f398",
   "metadata": {},
   "outputs": [],
   "source": [
    "# %R\n",
    "# mu = 5.7e-9\n",
    "# pi = 0.009272619\n",
    "# Ne = 406,694"
   ]
  },
  {
   "cell_type": "code",
   "execution_count": null,
   "id": "88c6f434-d029-47c4-9ba3-c109b21b0571",
   "metadata": {},
   "outputs": [],
   "source": [
    "## Convert to tree sequence\n"
   ]
  },
  {
   "cell_type": "code",
   "execution_count": null,
   "id": "ff393e33-a901-4a86-b2b4-d956b3c662f8",
   "metadata": {},
   "outputs": [],
   "source": [
    "~/_softwares/relate_lib/bin/Convert --mode ConvertToTreeSequence \\\n",
    "              --compress \\\n",
    "              --anc Chr1.anc.gz \\\n",
    "              --mut Chr1.mut.gz \\\n",
    "              -o example"
   ]
  },
  {
   "cell_type": "code",
   "execution_count": null,
   "id": "a212609f-a39d-46c0-9ba2-5085c7b3364b",
   "metadata": {},
   "outputs": [],
   "source": [
    "## Run in slurm"
   ]
  },
  {
   "cell_type": "code",
   "execution_count": null,
   "id": "a05b4e43-0efc-4d14-9c69-eb4a8656d7ec",
   "metadata": {},
   "outputs": [],
   "source": [
    "sbatch -J chr5 ~/snap_hap_repHZ/relate/_scripts/job-relate.sbatch.sh chr5"
   ]
  },
  {
   "cell_type": "code",
   "execution_count": null,
   "id": "74bfe7b7-ae52-468b-b0f9-7fdf086f1ed1",
   "metadata": {},
   "outputs": [],
   "source": []
  },
  {
   "cell_type": "code",
   "execution_count": null,
   "id": "c48f2801-d009-480c-b2ac-026cf36cfa64",
   "metadata": {},
   "outputs": [],
   "source": []
  },
  {
   "cell_type": "code",
   "execution_count": null,
   "id": "4d95ce2f-5eb9-4702-a30b-38f1232844d1",
   "metadata": {},
   "outputs": [],
   "source": [
    "## 2. Estimate population sizes for each chromosome\n",
    "chrom=Chr8\n",
    "\n",
    "cd $baseDIR/$chrom\n",
    "\n",
    "time $PATH_TO_RELATE/bin/RelateCoalescentRate \\\n",
    "                --mode EstimatePopulationSize \\\n",
    "                --poplabels $popLabels \\\n",
    "                -i rel_chr${chrom/Chr} \\\n",
    "                -o rel_chr${chrom/Chr}\n",
    "                \n",
    "time $PATH_TO_RELATE/bin/RelateCoalescentRate \\\n",
    "                --mode FinalizePopulationSize \\\n",
    "                --poplabels popLabels \\\n",
    "                -i rel_chr${chrom/Chr} \\\n",
    "                -o rel_chr${chrom/Chr}"
   ]
  },
  {
   "cell_type": "code",
   "execution_count": null,
   "id": "3efc37a3-ac09-4c57-863b-9ae9435abf82",
   "metadata": {},
   "outputs": [],
   "source": [
    "## 2s. Estimate population sizes for all chromosomes\n",
    "\n",
    "cd $baseDIR/popSize\n",
    "popLabels=~/snap_hap_repHZ/relate/AvePla.MY.n74.poplabels\n",
    "mu=\"5.7e-9\"\n",
    "\n",
    "ln -s ../*/rel_chr?.anc.gz .\n",
    "ln -s ../*/rel_chr?.mut.gz .\n",
    "\n",
    "time $PATH_TO_RELATE/bin/RelateCoalescentRate \\\n",
    "                --mode EstimatePopulationSize \\\n",
    "                -m $mu \\\n",
    "                --poplabels $popLabels \\\n",
    "                -i rel \\\n",
    "                -o rel \\\n",
    "                --years_per_gen 3 \\\n",
    "                --first_chr 1 \\\n",
    "                --last_chr 8 \\\n",
    "                --num_samples 5 \\\n",
    "                --seed 420\n",
    "                \n",
    "time $PATH_TO_RELATE/bin/RelateCoalescentRate \\\n",
    "                --mode FinalizePopulationSize \\\n",
    "                --poplabels $popLabels \\\n",
    "                -i rel \\\n",
    "                -o rel"
   ]
  },
  {
   "cell_type": "code",
   "execution_count": null,
   "id": "03c4a19e-dd3a-4c73-bf07-c1db826950d0",
   "metadata": {},
   "outputs": [],
   "source": [
    "## 2s. Estimate population sizes per chromosome\n",
    "\n",
    "cd $baseDIR/Chr3\n",
    "sbatch -J rel_chr3_joint ~/snap_hap_repHZ/relate/_scripts/job-relate_EstimatePopSize-joint-chrom.sbatch.sh chr3"
   ]
  },
  {
   "cell_type": "code",
   "execution_count": null,
   "id": "1fbf38bc-df10-4578-93d9-2ad2652c53a1",
   "metadata": {},
   "outputs": [],
   "source": [
    "## Joint fitting of population size and branch lengths\n",
    "cd $baseDIR/jointEstimate\n",
    "popLabels=~/snap_hap_repHZ/relate/AvePla.MY.n74.poplabels\n",
    "mu=\"5.7e-9\"\n",
    "\n",
    "# ln -s /nfs/scistore18/bartogrp/apal/snap_hap_repHZ/relate/Chr?/rel_chr?.anc.gz .\n",
    "# ln -s /nfs/scistore18/bartogrp/apal/snap_hap_repHZ/relate/Chr?/rel_chr?.mut.gz .\n",
    "time ~/_softwares/relate_v1.2.2/scripts/EstimatePopulationSize/EstimatePopulationSize.sh \\\n",
    "              -i rel \\\n",
    "              -o rel_joint \\\n",
    "              -m $mu \\\n",
    "              --poplabels $popLabels \\\n",
    "              --pops_of_interest AveM,AveY,PlaM,PlaY \\\n",
    "              --noanc 0 \\\n",
    "              --threshold 0 \\\n",
    "              --years_per_gen 3 \\\n",
    "              --first_chr 1 \\\n",
    "              --last_chr 8 \\\n",
    "              --num_iter 10 \\\n",
    "              --seed 420 \\\n",
    "              --threads 16\n",
    "\n",
    "bgzip *.dist"
   ]
  },
  {
   "cell_type": "code",
   "execution_count": null,
   "id": "79df24fa-4c0e-4829-96d2-dc2713015b21",
   "metadata": {},
   "outputs": [],
   "source": [
    "## Calculate average mutation rate\n",
    "$PATH_TO_RELATE/bin/RelateMutationRate \\\n",
    "                 --mode Avg\\\n",
    "                 -i rel \\\n",
    "                 -o rel \\\n",
    "                 --first_chr 1 \\\n",
    "                 --last_chr 8 \\\n",
    "                 --years_per_gen 3 \\"
   ]
  },
  {
   "cell_type": "code",
   "execution_count": null,
   "id": "024b55c1-82dc-4db4-9478-970302a4684f",
   "metadata": {},
   "outputs": [],
   "source": [
    "## Reestimate branch lengths\n",
    "chrom=Chr4\n",
    "$PATH_TO_RELATE/bin/RelateCoalescentRate \\\n",
    "                --mode ReEstimateBranchLengths \\\n",
    "                -i rel_$chrom \\\n",
    "                -o rel_updated \\\n",
    "                --mrate ../estimatePopSize_joint/rel_joint_avg.rate \\\n",
    "                --coal ../estimatePopSize_joint/rel_joint.coal \\\n",
    "                -m 5.7e-9 \\\n",
    "                --seed 420\n",
    "\n",
    "cd \n",
    "sbatch -J chr1 ~/snap_hap_repHZ/relate/_scripts/job-relate_reEstimateBranchLengths.sbatch.sh chr1"
   ]
  },
  {
   "cell_type": "code",
   "execution_count": null,
   "id": "6411a63d-8be8-4b16-984f-242e2604819b",
   "metadata": {},
   "outputs": [],
   "source": [
    "## Extract trees in NEWICK format\n",
    "$PATH_TO_RELATE/bin/RelateExtract\\\n",
    "                 --mode AncToNewick \\\n",
    "                 --anc rel_chr2.anc \\\n",
    "                 --mut rel_chr2.mut \\\n",
    "                 --first_bp 1 \\\n",
    "                 --last_bp 77117553 \\\n",
    "                 -o rel_chr${chrom/Chr}\n",
    "\n",
    "\n",
    "baseDIR=~/snap_hap_repHZ/relate\n",
    "chrom=chr2\n",
    "start=1\n",
    "# end=71919034 #chr1\n",
    "end=77118269 #chr2\n",
    "# end=65231163 #chr3\n",
    "# end=54887108 #chr4\n",
    "# end=71106538 #chr5\n",
    "end=55699338 #chr6\n",
    "# end=55564713 #chr7\n",
    "# end=57431585 #chr8\n",
    "\n",
    "ancFile=$baseDIR/reEstimateBranchLengths/rel_${chrom}_updated.anc.gz\n",
    "mutFile=$baseDIR/reEstimateBranchLengths/rel_${chrom}_updated.mut.gz\n",
    "outPrefix=$baseDIR/newickTrees/rel_$chrom-$start-$end\n",
    "\n",
    "\n",
    "time $PATH_TO_RELATE/bin/RelateExtract \\\n",
    "                 --mode AncToNewick \\\n",
    "                 --anc $ancFile \\\n",
    "                 --mut $mutFile \\\n",
    "                 --first_bp $start \\\n",
    "                 --last_bp $end \\\n",
    "                 -o $outPrefix"
   ]
  },
  {
   "cell_type": "code",
   "execution_count": null,
   "id": "06caba8e-0f15-4935-a41e-844471536071",
   "metadata": {},
   "outputs": [],
   "source": [
    "cd ~/snap_hap_repHZ/relate/newickTrees/jobs\n",
    "baseDIR=~/snap_hap_repHZ/relate\n",
    "\n",
    "#chr1\n",
    "chrom=chr1\n",
    "start=1\n",
    "end=71919034\n",
    "ancFile=$baseDIR/reEstimateBranchLengths/rel_${chrom}_updated.anc.gz\n",
    "mutFile=$baseDIR/reEstimateBranchLengths/rel_${chrom}_updated.mut.gz\n",
    "outPrefix=$baseDIR/newickTrees/rel_$chrom-$start-$end\n",
    "sbatch -J nk${chrom/chr} $baseDIR/_scripts/job-relate_AncToNewick.sbatch.sh $chrom $start $end $ancFile $mutFile $outPrefix\n",
    "\n",
    "# #chr2\n",
    "# chrom=chr2\n",
    "# start=1\n",
    "# end=77118269\n",
    "# ancFile=$baseDIR/reEstimateBranchLengths/rel_${chrom}_updated.anc.gz\n",
    "# mutFile=$baseDIR/reEstimateBranchLengths/rel_${chrom}_updated.mut.gz\n",
    "# outPrefix=$baseDIR/newickTrees/rel_$chrom-$start-$end\n",
    "# sbatch -J nk${chrom/chr} $baseDIR/_scripts/job-relate_AncToNewick.sbatch.sh $chrom $start $end $ancFile $mutFile $outPrefix\n",
    "\n",
    "#chr3\n",
    "chrom=chr3\n",
    "start=1\n",
    "end=65231163\n",
    "ancFile=$baseDIR/reEstimateBranchLengths/rel_${chrom}_updated.anc.gz\n",
    "mutFile=$baseDIR/reEstimateBranchLengths/rel_${chrom}_updated.mut.gz\n",
    "outPrefix=$baseDIR/newickTrees/rel_$chrom-$start-$end\n",
    "sbatch -J nk${chrom/chr} $baseDIR/_scripts/job-relate_AncToNewick.sbatch.sh $chrom $start $end $ancFile $mutFile $outPrefix\n",
    "\n",
    "#chr4\n",
    "chrom=chr4\n",
    "start=1\n",
    "end=54887108\n",
    "ancFile=$baseDIR/reEstimateBranchLengths/rel_${chrom}_updated.anc.gz\n",
    "mutFile=$baseDIR/reEstimateBranchLengths/rel_${chrom}_updated.mut.gz\n",
    "outPrefix=$baseDIR/newickTrees/rel_$chrom-$start-$end\n",
    "sbatch -J nk${chrom/chr} $baseDIR/_scripts/job-relate_AncToNewick.sbatch.sh $chrom $start $end $ancFile $mutFile $outPrefix\n",
    "\n",
    "#chr5\n",
    "chrom=chr5\n",
    "start=1\n",
    "end=71106538\n",
    "ancFile=$baseDIR/reEstimateBranchLengths/rel_${chrom}_updated.anc.gz\n",
    "mutFile=$baseDIR/reEstimateBranchLengths/rel_${chrom}_updated.mut.gz\n",
    "outPrefix=$baseDIR/newickTrees/rel_$chrom-$start-$end\n",
    "sbatch -J nk${chrom/chr} $baseDIR/_scripts/job-relate_AncToNewick.sbatch.sh $chrom $start $end $ancFile $mutFile $outPrefix\n",
    "\n",
    "#chr6\n",
    "chrom=chr6\n",
    "start=1\n",
    "# end=55699338\n",
    "# start=52880000\n",
    "# end=52920000\n",
    "end=100000\n",
    "ancFile=$baseDIR/${chrom/c/C}/rel_${chrom}_updated.anc.gz\n",
    "mutFile=$baseDIR/reEstimateBranchLengths/rel_${chrom}_updated.mut.gz\n",
    "outPrefix=$baseDIR/newickTrees/rel_$chrom-$start-$end\n",
    "sbatch -J nk${chrom/chr} $baseDIR/_scripts/job-relate_AncToNewick.sbatch.sh $chrom $start $end $ancFile $mutFile $outPrefix\n",
    "\n",
    "#chr7\n",
    "chrom=chr7\n",
    "start=1\n",
    "end=55564713\n",
    "ancFile=$baseDIR/reEstimateBranchLengths/rel_${chrom}_updated.anc.gz\n",
    "mutFile=$baseDIR/reEstimateBranchLengths/rel_${chrom}_updated.mut.gz\n",
    "outPrefix=$baseDIR/newickTrees/rel_$chrom-$start-$end\n",
    "sbatch -J nk${chrom/chr} $baseDIR/_scripts/job-relate_AncToNewick.sbatch.sh $chrom $start $end $ancFile $mutFile $outPrefix\n",
    "\n",
    "#chr8\n",
    "chrom=chr8\n",
    "start=1\n",
    "end=57431585\n",
    "ancFile=$baseDIR/reEstimateBranchLengths/rel_${chrom}_updated.anc.gz\n",
    "mutFile=$baseDIR/reEstimateBranchLengths/rel_${chrom}_updated.mut.gz\n",
    "outPrefix=$baseDIR/newickTrees/rel_$chrom-$start-$end\n",
    "sbatch -J nk${chrom/chr} $baseDIR/_scripts/job-relate_AncToNewick.sbatch.sh $chrom $start $end $ancFile $mutFile $outPrefix"
   ]
  },
  {
   "cell_type": "code",
   "execution_count": null,
   "id": "9720d4f0-b8f9-4d91-808c-7414a0943721",
   "metadata": {},
   "outputs": [],
   "source": []
  },
  {
   "cell_type": "code",
   "execution_count": null,
   "id": "6ba06a0a-d299-4664-ab09-278c8f036d0e",
   "metadata": {},
   "outputs": [],
   "source": []
  },
  {
   "cell_type": "code",
   "execution_count": null,
   "id": "399113b1-2dcd-4691-a0ad-57ff97d04a13",
   "metadata": {},
   "outputs": [],
   "source": [
    "## Selection\n",
    "cd ~/snap_hap_repHZ/relate/estimateSelection\n",
    "chrom=chr8\n",
    "$PATH_TO_RELATE/scripts/DetectSelection/DetectSelection.sh -i ../reEstimateBranchLengths/rel_${chrom}_updated -o rel_${chrom}_selection -m 5.7e-9 --years_per_gen 3"
   ]
  },
  {
   "cell_type": "code",
   "execution_count": null,
   "id": "340bcd57-8c36-411d-915d-e1ba807d2a24",
   "metadata": {
    "editable": true,
    "slideshow": {
     "slide_type": ""
    },
    "tags": []
   },
   "outputs": [],
   "source": [
    "chrom=chr6\n",
    "$PATH_TO_RELATE/scripts/SampleBranchLengths/SampleBranchLengths.sh \\\n",
    "                 -i rel_chr6.popsize \\\n",
    "                 -o rel_RosEl \\\n",
    "                 -m 5.7e-9 \\\n",
    "                 --coal rel_chr6.popsize.coal \\\n",
    "                 --format n \\\n",
    "                 --num_samples 10 \\\n",
    "                 --first_bp 50000000 \\\n",
    "                 --last_bp 55000000 \\\n",
    "                 --seed 420"
   ]
  },
  {
   "cell_type": "code",
   "execution_count": null,
   "id": "3101b590-4610-4346-b339-c4972daf4063",
   "metadata": {},
   "outputs": [],
   "source": [
    "Tree"
   ]
  },
  {
   "cell_type": "code",
   "execution_count": null,
   "id": "3b60b4bd-e43c-465c-85c8-d0bdae4b93fd",
   "metadata": {},
   "outputs": [],
   "source": [
    "## Extract trees for Flavia\n",
    "\n",
    "for pos in 53652042 53652180 53710256 53710327 53712795 53712984 53714175\n",
    "do\n",
    "    echo $pos\n",
    "    geneName=flavia\n",
    "    $PATH_TO_RELATE/scripts/TreeView/TreeView.sh \\\n",
    "                 --haps ./Chr2/Chr2.haps.gz \\\n",
    "                 --sample ./Chr2/Chr2.sample \\\n",
    "                 --anc ./Chr2/rel_chr2_joint.anc.gz \\\n",
    "                 --mut ./Chr2/rel_chr2_joint.mut.gz \\\n",
    "                 --poplabels ./AvePla.MY.n74.poplabels \\\n",
    "                 --bp_of_interest $pos \\\n",
    "                 --years_per_gen 3 \\\n",
    "                 -o ./treeViews/chr2_${geneName}/chr2_${pos}_${geneName}\n",
    "done"
   ]
  },
  {
   "cell_type": "code",
   "execution_count": null,
   "id": "b00775f3-983f-42b7-87da-85c4aa3ad36b",
   "metadata": {},
   "outputs": [],
   "source": [
    "## Extract trees for SULF\n",
    "\n",
    "for pos in 38355441 38355484 38355558 38355614 38355633 38355662 38355702\n",
    "do\n",
    "    echo $pos\n",
    "    geneName=sulf\n",
    "    $PATH_TO_RELATE/scripts/TreeView/TreeView.sh \\\n",
    "                 --haps ./Chr4/Chr4.haps.gz \\\n",
    "                 --sample ./Chr4/Chr4.sample \\\n",
    "                 --anc ./Chr4/rel_chr4_joint.anc.gz \\\n",
    "                 --mut ./Chr4/rel_chr4_joint.mut.gz \\\n",
    "                 --poplabels ./AvePla.MY.n74.poplabels \\\n",
    "                 --bp_of_interest $pos \\\n",
    "                 --years_per_gen 3 \\\n",
    "                 -o ./treeViews/chr4_sulf/chr4_${pos}_${geneName}\n",
    "done"
   ]
  },
  {
   "cell_type": "code",
   "execution_count": null,
   "id": "584cfaa7-99f0-4eba-b708-3300295e07fe",
   "metadata": {},
   "outputs": [],
   "source": [
    "## Extract trees for Rubia\n",
    "\n",
    "for pos in 6307344 6307410 6307489 6307562 6307668 6307778 6307854\n",
    "do\n",
    "    echo $pos\n",
    "    geneName=rubia\n",
    "    $PATH_TO_RELATE/scripts/TreeView/TreeView.sh \\\n",
    "                 --haps ./Chr5/Chr5.haps.gz \\\n",
    "                 --sample ./Chr5/Chr5.sample \\\n",
    "                 --anc ./Chr5/rel_chr5_joint.anc.gz \\\n",
    "                 --mut ./Chr5/rel_chr5_joint.mut.gz \\\n",
    "                 --poplabels ./AvePla.MY.n74.poplabels \\\n",
    "                 --bp_of_interest $pos \\\n",
    "                 --years_per_gen 3 \\\n",
    "                 -o ./treeViews/chr5_${geneName}/chr5_${pos}_${geneName}\n",
    "done"
   ]
  },
  {
   "cell_type": "code",
   "execution_count": null,
   "id": "93413301-937e-4264-b8b4-f53b39d04feb",
   "metadata": {},
   "outputs": [],
   "source": [
    "## Extract trees for Rosel\n",
    "\n",
    "# module load R\n",
    "for pos in 52884457 52884489 52884528 52884553 52884570 52884624 52884770 #ROS1\n",
    "# for pos in 53058075 53058990 53062699 53062934 53063060 53063137\n",
    "# for pos in 52917425 52917590 52917838 52999532 53057894 53057984 53057984 53058075 53058990 53062699 53062934 53063060 53063137\n",
    "do\n",
    "    echo $pos\n",
    "    geneName=rosel\n",
    "    $PATH_TO_RELATE/scripts/TreeView/TreeView.sh \\\n",
    "                 --haps ./Chr6/Chr6.haps.gz \\\n",
    "                 --sample ./Chr6/Chr6.sample \\\n",
    "                 --anc ./Chr6/rel_chr6_joint.anc.gz \\\n",
    "                 --mut ./Chr6/rel_chr6_joint.mut.gz \\\n",
    "                 --poplabels ./AvePla.MY.n74.poplabels \\\n",
    "                 --bp_of_interest $pos \\\n",
    "                 --years_per_gen 3 \\\n",
    "                 -o ./treeViews/chr6_${geneName}/chr6_${pos}_${geneName} \n",
    "done"
   ]
  },
  {
   "cell_type": "code",
   "execution_count": null,
   "id": "e9681191-ee48-4031-bf78-261ed02ae2af",
   "metadata": {},
   "outputs": [],
   "source": [
    "PATH_TO_RELATE/bin/RelateExtract\\\n",
    "                 --mode AncToNewick \\\n",
    "                 --anc example.anc \\\n",
    "                 --mut example.mut \\\n",
    "                 --first_bp 52999468 \\\n",
    "                 --last_bp 53062750 \\\n",
    "                 -o example "
   ]
  }
 ],
 "metadata": {
  "kernelspec": {
   "display_name": "Bash",
   "language": "bash",
   "name": "bash"
  },
  "language_info": {
   "codemirror_mode": "shell",
   "file_extension": ".sh",
   "mimetype": "text/x-sh",
   "name": "bash"
  }
 },
 "nbformat": 4,
 "nbformat_minor": 5
}
