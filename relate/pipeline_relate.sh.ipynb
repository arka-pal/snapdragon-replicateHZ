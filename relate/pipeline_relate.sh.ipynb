{
 "cells": [
  {
   "cell_type": "markdown",
   "id": "889e770b-a2d0-4415-87cd-c1911f9ec05f",
   "metadata": {},
   "source": [
    "# Relate\n",
    "Date: 2024-08-21  \n",
    "update: 2024-12-16\n",
    "\n",
    "infer genealogies with all magenta and yellow samples from *Ave* and *Pla*"
   ]
  },
  {
   "cell_type": "code",
   "execution_count": null,
   "id": "491f35a0-8dec-4ee3-a8a2-7f5a6cfd577b",
   "metadata": {},
   "outputs": [],
   "source": [
    "PATH_TO_RELATE=~/_softwares/relate_v1.2.2\n",
    "export PATH=$PATH:~/_softwares/relate_v1.2.2/bin/:~/_softwares/relate_v1.2.2/scripts/\n",
    "module load plink\n",
    "module load bcftools\n",
    "module load R\n",
    "cd ~/snap_hap_repHZ/relate\n",
    "\n",
    "baseDIR=~/snap_hap_repHZ/relate\n",
    "popLabels=~/snap_hap_repHZ/relate/AvePla.MY.n74.poplabels"
   ]
  },
  {
   "cell_type": "markdown",
   "id": "5e608b14-b35b-4121-86cb-9803b724de02",
   "metadata": {},
   "source": [
    "# Steps for running Relate"
   ]
  },
  {
   "cell_type": "code",
   "execution_count": null,
   "id": "f9b968e1-e6a1-4634-b218-50f20ac2969c",
   "metadata": {},
   "outputs": [],
   "source": [
    "## Initiate variables\n",
    "## -----\n",
    "chrom=$1\n",
    "baseDIR=~/snap_hap_repHZ/relate\n",
    "\n",
    "vcf=~/snap_hap_repHZ/statphase/AvePla_FrYe/$chrom.AvePla.FrYe.sorted.statphased.vcf.gz\n",
    "# vcf=/nfs/scistore18/bartogrp/apal/snap_hap_repHZ/relate_test/test2.vcf.gz\n",
    "ancestral=~/snap_hap_repHZ/ancestral_alleles/allelePolarised_chrom/ancestral_$chrom.txt\n",
    "polarisedVcf=~/snap_hap_repHZ/relate/$chrom/$chrom.polarised\n",
    "popLabels=$baseDIR/AvePla.MY.n74.poplabels\n",
    "\n",
    "mu=\"5.7e-9\"\n",
    "Ne=813388\n",
    "\n",
    "if [ ! -d $baseDIR/$chrom ]; then mkdir -p $baseDIR/$chrom; fi\n",
    "cd $baseDIR/$chrom\n",
    "\n",
    "echo -e \"\\n\\n\"\n",
    "echo VCF: $vcf\n",
    "echo ancestral: $ancestral\n",
    "echo Polarised VCF: $polarisedVcf\n",
    "echo Population File: $popLabels\n",
    "echo mutation rate: $mu\n",
    "echo Ne: $Ne\n",
    "echo -e \"\\n\\n\""
   ]
  },
  {
   "cell_type": "markdown",
   "id": "d65ce411-1a2f-4622-aaeb-8c32b12a864a",
   "metadata": {},
   "source": [
    "## Polarise VCFs"
   ]
  },
  {
   "cell_type": "code",
   "execution_count": null,
   "id": "8ec6399e-fbbc-49d0-8865-09809b74c8ed",
   "metadata": {},
   "outputs": [],
   "source": [
    "## Create text file with ancestral allele information\n",
    "tail +2 ~/snap_hap_repHZ/ancestral_alleles/allelePolarised_chrom/allelePolarised_Chr6.csv | \\\n",
    "    cut -d, -f2,1,35 | tr ',' '\\t' | \\\n",
    "    awk '{print $2\":\"$1\"\\t\"$3}' > ~/snap_hap_repHZ/ancestral_alleles/allelePolarised_chrom/ancestral_Chr6.txt\n",
    "\n",
    "## Polarise bi-alleleic phased VCF such that the ancestral allele is always denoted by 0\n",
    "vcf=~/snap_hap_repHZ/statphase/AvePla_FrYe/Chr6.AvePla.FrYe.sorted.statphased.vcf.gz\n",
    "ancestral=~/snap_hap_repHZ/ancestral_alleles/allelePolarised_chrom/ancestral_Chr6.txt\n",
    "out=~/snap_hap_repHZ/relate/polarised_VCFs/polarised_Chr6\n",
    "plink2 --vcf $vcf --set-all-var-ids Chr@:\\# --ref-allele 'force' $ancestral 2 1 --export vcf --out $out"
   ]
  },
  {
   "cell_type": "markdown",
   "id": "f9c21cce-3103-4f67-8ef9-54f653183559",
   "metadata": {},
   "source": [
    "## Preprocessing"
   ]
  },
  {
   "cell_type": "code",
   "execution_count": null,
   "id": "4c76eae0-599e-463a-9529-551e7234f7fa",
   "metadata": {},
   "outputs": [],
   "source": [
    "## Convert to haps/sample format\n",
    "RelateFileFormats --mode ConvertFromVcf --haps ./Chr6.haps --sample ./Chr6.sample -i ./polarised_VCFs/polarised_Chr6\n",
    "\n",
    "## Generate SNP annotation\n",
    "RelateFileFormats --mode GenerateSNPAnnotations --haps ./Chr6.haps --sample ./Chr6.sample --poplabels ./AvePla.MY.n74.poplabels -o Chr6"
   ]
  },
  {
   "cell_type": "markdown",
   "id": "3667f77a-b518-4885-a45d-e419b7013998",
   "metadata": {},
   "source": [
    "## Run Relate"
   ]
  },
  {
   "cell_type": "code",
   "execution_count": null,
   "id": "4faefbe3-b995-4fc8-9421-ea69cc3e8801",
   "metadata": {},
   "outputs": [],
   "source": [
    "Relate --mode All -m 5.7e-9 -N 813388 --haps ./Chr6.haps --sample ./Chr6.sample --map ./Chr6.map --annot ./Chr6.annot --seed 420 -o out"
   ]
  },
  {
   "cell_type": "markdown",
   "id": "a37a28fd-aca7-42c7-b7eb-8f1cdde994fd",
   "metadata": {},
   "source": [
    "## Estimate population size"
   ]
  },
  {
   "cell_type": "code",
   "execution_count": null,
   "id": "94f3d615-9a38-45b0-b4fe-23cb43a1a8c7",
   "metadata": {},
   "outputs": [],
   "source": [
    "## Estimate population sizes for each chromosome\n",
    "\n",
    "chrom=Chr6\n",
    "cd $baseDIR/$chrom\n",
    "\n",
    "time $PATH_TO_RELATE/bin/RelateCoalescentRate \\\n",
    "                --mode EstimatePopulationSize \\\n",
    "                --poplabels $popLabels \\\n",
    "                -i rel_chr${chrom/Chr} \\\n",
    "                -o rel_chr${chrom/Chr}\n",
    "                \n",
    "time $PATH_TO_RELATE/bin/RelateCoalescentRate \\\n",
    "                --mode FinalizePopulationSize \\\n",
    "                --poplabels popLabels \\\n",
    "                -i rel_chr${chrom/Chr} \\\n",
    "                -o rel_chr${chrom/Chr}"
   ]
  },
  {
   "cell_type": "code",
   "execution_count": null,
   "id": "17c08013-bbf9-4e12-8473-cf115dc06b34",
   "metadata": {},
   "outputs": [],
   "source": [
    "## Estimate population sizes for all chromosomes\n",
    "\n",
    "cd $baseDIR/estimatePopSize\n",
    "popLabels=~/snap_hap_repHZ/relate/AvePla.MY.n74.poplabels\n",
    "mu=\"5.7e-9\"\n",
    "\n",
    "ln -s ../*/rel_chr?.anc.gz .\n",
    "ln -s ../*/rel_chr?.mut.gz .\n",
    "\n",
    "time $PATH_TO_RELATE/bin/RelateCoalescentRate \\\n",
    "                --mode EstimatePopulationSize \\\n",
    "                -m $mu \\\n",
    "                --poplabels $popLabels \\\n",
    "                -i rel \\\n",
    "                -o rel \\\n",
    "                --years_per_gen 3 \\\n",
    "                --first_chr 1 \\\n",
    "                --last_chr 8 \\\n",
    "                --num_samples 5 \\\n",
    "                --seed 420\n",
    "                \n",
    "time $PATH_TO_RELATE/bin/RelateCoalescentRate \\\n",
    "                --mode FinalizePopulationSize \\\n",
    "                --poplabels $popLabels \\\n",
    "                -i rel \\\n",
    "                -o rel"
   ]
  },
  {
   "cell_type": "code",
   "execution_count": null,
   "id": "236c3c74-fc0b-421a-af64-dedbaafbb0cc",
   "metadata": {},
   "outputs": [],
   "source": [
    "chrom=Chr3\n",
    "cd $baseDIR/Chr3\n",
    "sbatch -J rel_chr3_joint ~/snap_hap_repHZ/relate/_scripts/job-relate_EstimatePopSize-joint-chrom.sbatch.sh chr3"
   ]
  },
  {
   "cell_type": "markdown",
   "id": "e33ac9b4-1af9-49fc-a6c5-f79a40d5520e",
   "metadata": {},
   "source": [
    "## Joint fitting of population size and branch lengths"
   ]
  },
  {
   "cell_type": "code",
   "execution_count": null,
   "id": "edcbc59d-4c2f-48bc-b091-875929b8ef05",
   "metadata": {},
   "outputs": [],
   "source": [
    "cd $baseDIR/estimatePopSize_joint\n",
    "popLabels=~/snap_hap_repHZ/relate/AvePla.MY.n74.poplabels\n",
    "mu=\"5.7e-9\"\n",
    "\n",
    "# ln -s /nfs/scistore18/bartogrp/apal/snap_hap_repHZ/relate/Chr?/rel_chr?.anc.gz .\n",
    "# ln -s /nfs/scistore18/bartogrp/apal/snap_hap_repHZ/relate/Chr?/rel_chr?.mut.gz .\n",
    "time ~/_softwares/relate_v1.2.2/scripts/EstimatePopulationSize/EstimatePopulationSize.sh \\\n",
    "              -i rel \\\n",
    "              -o rel_joint \\\n",
    "              -m $mu \\\n",
    "              --poplabels $popLabels \\\n",
    "              --pops_of_interest AveM,AveY,PlaM,PlaY \\\n",
    "              --noanc 0 \\\n",
    "              --threshold 0 \\\n",
    "              --years_per_gen 3 \\\n",
    "              --first_chr 1 \\\n",
    "              --last_chr 8 \\\n",
    "              --num_iter 10 \\\n",
    "              --seed 420 \\\n",
    "              --threads 16\n",
    "\n",
    "bgzip *.dist"
   ]
  },
  {
   "cell_type": "code",
   "execution_count": null,
   "id": "41f740f1-c650-4cd1-b8c9-ce78f5bba28b",
   "metadata": {},
   "outputs": [],
   "source": [
    "## Calculate average mutation rate\n",
    "$PATH_TO_RELATE/bin/RelateMutationRate \\\n",
    "                 --mode Avg\\\n",
    "                 -i rel \\\n",
    "                 -o rel \\\n",
    "                 --first_chr 1 \\\n",
    "                 --last_chr 8 \\\n",
    "                 --years_per_gen 3 \\"
   ]
  },
  {
   "cell_type": "code",
   "execution_count": null,
   "id": "e9f9a3e9-214c-48c2-94cd-cad4cf5fe159",
   "metadata": {},
   "outputs": [],
   "source": [
    "## Reestimate branch lengths\n",
    "chrom=Chr4\n",
    "$PATH_TO_RELATE/bin/RelateCoalescentRate \\\n",
    "                --mode ReEstimateBranchLengths \\\n",
    "                -i rel_$chrom \\\n",
    "                -o rel_updated \\\n",
    "                --mrate ../estimatePopSize_joint/rel_joint_avg.rate \\\n",
    "                --coal ../estimatePopSize_joint/rel_joint.coal \\\n",
    "                -m 5.7e-9 \\\n",
    "                --seed 420\n",
    "\n",
    "cd $baseDIR/reEstimateBranchLengths\n",
    "sbatch -J chr1 ~/snap_hap_repHZ/relate/_scripts/job-relate_reEstimateBranchLengths.sbatch.sh chr1"
   ]
  },
  {
   "cell_type": "markdown",
   "id": "bdd1b37f-85a0-427b-8f20-6558d6360a2b",
   "metadata": {},
   "source": [
    "## Selection"
   ]
  },
  {
   "cell_type": "code",
   "execution_count": null,
   "id": "ec3f009c-9c6f-4f12-9ccf-87f0f6503583",
   "metadata": {},
   "outputs": [],
   "source": [
    "cd ~/snap_hap_repHZ/relate/estimateSelection\n",
    "chrom=chr8\n",
    "$PATH_TO_RELATE/scripts/DetectSelection/DetectSelection.sh -i ../reEstimateBranchLengths/rel_${chrom}_updated -o rel_${chrom}_selection -m 5.7e-9 --years_per_gen 3"
   ]
  },
  {
   "cell_type": "code",
   "execution_count": null,
   "id": "30611467-86ff-4b9d-ad44-deea7ae14ba8",
   "metadata": {},
   "outputs": [],
   "source": [
    "chrom=chr6\n",
    "$PATH_TO_RELATE/scripts/SampleBranchLengths/SampleBranchLengths.sh \\\n",
    "                 -i rel_chr6.popsize \\\n",
    "                 -o rel_RosEl \\\n",
    "                 -m 5.7e-9 \\\n",
    "                 --coal rel_chr6.popsize.coal \\\n",
    "                 --format n \\\n",
    "                 --num_samples 10 \\\n",
    "                 --first_bp 50000000 \\\n",
    "                 --last_bp 55000000 \\\n",
    "                 --seed 420"
   ]
  },
  {
   "cell_type": "markdown",
   "id": "09eb6d32-914d-467e-b01f-9bdc56da5f29",
   "metadata": {},
   "source": [
    "## Extract newick trees"
   ]
  },
  {
   "cell_type": "code",
   "execution_count": null,
   "id": "018a06ae-d640-4394-9d97-136aa2656ab0",
   "metadata": {},
   "outputs": [],
   "source": [
    "## Extract trees in NEWICK format\n",
    "$PATH_TO_RELATE/bin/RelateExtract\\\n",
    "                 --mode AncToNewick \\\n",
    "                 --anc rel_chr2.anc \\\n",
    "                 --mut rel_chr2.mut \\\n",
    "                 --first_bp 1 \\\n",
    "                 --last_bp 77117553 \\\n",
    "                 -o rel_chr${chrom/Chr}\n",
    "\n",
    "\n",
    "baseDIR=~/snap_hap_repHZ/relate\n",
    "chrom=chr2\n",
    "start=1\n",
    "# end=71919034 #chr1\n",
    "end=77118269 #chr2\n",
    "# end=65231163 #chr3\n",
    "# end=54887108 #chr4\n",
    "# end=71106538 #chr5\n",
    "end=55699338 #chr6\n",
    "# end=55564713 #chr7\n",
    "# end=57431585 #chr8\n",
    "\n",
    "ancFile=$baseDIR/reEstimateBranchLengths/rel_${chrom}_updated.anc.gz\n",
    "mutFile=$baseDIR/reEstimateBranchLengths/rel_${chrom}_updated.mut.gz\n",
    "outPrefix=$baseDIR/newickTrees/rel_$chrom-$start-$end\n",
    "\n",
    "\n",
    "time $PATH_TO_RELATE/bin/RelateExtract \\\n",
    "                 --mode AncToNewick \\\n",
    "                 --anc $ancFile \\\n",
    "                 --mut $mutFile \\\n",
    "                 --first_bp $start \\\n",
    "                 --last_bp $end \\\n",
    "                 -o $outPrefix"
   ]
  },
  {
   "cell_type": "code",
   "execution_count": null,
   "id": "c95bc91f-d5e7-4a5b-bd68-309e1ab66188",
   "metadata": {},
   "outputs": [],
   "source": [
    "cd ~/snap_hap_repHZ/relate/newickTrees/jobs\n",
    "baseDIR=~/snap_hap_repHZ/relate\n",
    "\n",
    "#chr1\n",
    "chrom=chr1\n",
    "start=1\n",
    "end=71919034\n",
    "ancFile=$baseDIR/reEstimateBranchLengths/rel_${chrom}_updated.anc.gz\n",
    "mutFile=$baseDIR/reEstimateBranchLengths/rel_${chrom}_updated.mut.gz\n",
    "outPrefix=$baseDIR/newickTrees/rel_$chrom-$start-$end\n",
    "sbatch -J nk${chrom/chr} $baseDIR/_scripts/job-relate_AncToNewick.sbatch.sh $chrom $start $end $ancFile $mutFile $outPrefix\n",
    "\n",
    "# #chr2\n",
    "# chrom=chr2\n",
    "# start=1\n",
    "# end=77118269\n",
    "# ancFile=$baseDIR/reEstimateBranchLengths/rel_${chrom}_updated.anc.gz\n",
    "# mutFile=$baseDIR/reEstimateBranchLengths/rel_${chrom}_updated.mut.gz\n",
    "# outPrefix=$baseDIR/newickTrees/rel_$chrom-$start-$end\n",
    "# sbatch -J nk${chrom/chr} $baseDIR/_scripts/job-relate_AncToNewick.sbatch.sh $chrom $start $end $ancFile $mutFile $outPrefix\n",
    "\n",
    "#chr3\n",
    "chrom=chr3\n",
    "start=1\n",
    "end=65231163\n",
    "ancFile=$baseDIR/reEstimateBranchLengths/rel_${chrom}_updated.anc.gz\n",
    "mutFile=$baseDIR/reEstimateBranchLengths/rel_${chrom}_updated.mut.gz\n",
    "outPrefix=$baseDIR/newickTrees/rel_$chrom-$start-$end\n",
    "sbatch -J nk${chrom/chr} $baseDIR/_scripts/job-relate_AncToNewick.sbatch.sh $chrom $start $end $ancFile $mutFile $outPrefix\n",
    "\n",
    "#chr4\n",
    "chrom=chr4\n",
    "start=1\n",
    "end=54887108\n",
    "ancFile=$baseDIR/reEstimateBranchLengths/rel_${chrom}_updated.anc.gz\n",
    "mutFile=$baseDIR/reEstimateBranchLengths/rel_${chrom}_updated.mut.gz\n",
    "outPrefix=$baseDIR/newickTrees/rel_$chrom-$start-$end\n",
    "sbatch -J nk${chrom/chr} $baseDIR/_scripts/job-relate_AncToNewick.sbatch.sh $chrom $start $end $ancFile $mutFile $outPrefix\n",
    "\n",
    "#chr5\n",
    "chrom=chr5\n",
    "start=1\n",
    "end=71106538\n",
    "ancFile=$baseDIR/reEstimateBranchLengths/rel_${chrom}_updated.anc.gz\n",
    "mutFile=$baseDIR/reEstimateBranchLengths/rel_${chrom}_updated.mut.gz\n",
    "outPrefix=$baseDIR/newickTrees/rel_$chrom-$start-$end\n",
    "sbatch -J nk${chrom/chr} $baseDIR/_scripts/job-relate_AncToNewick.sbatch.sh $chrom $start $end $ancFile $mutFile $outPrefix\n",
    "\n",
    "#chr6\n",
    "chrom=chr6\n",
    "start=1\n",
    "# end=55699338\n",
    "# start=52880000\n",
    "# end=52920000\n",
    "end=100000\n",
    "ancFile=$baseDIR/${chrom/c/C}/rel_${chrom}_updated.anc.gz\n",
    "mutFile=$baseDIR/reEstimateBranchLengths/rel_${chrom}_updated.mut.gz\n",
    "outPrefix=$baseDIR/newickTrees/rel_$chrom-$start-$end\n",
    "sbatch -J nk${chrom/chr} $baseDIR/_scripts/job-relate_AncToNewick.sbatch.sh $chrom $start $end $ancFile $mutFile $outPrefix\n",
    "\n",
    "#chr7\n",
    "chrom=chr7\n",
    "start=1\n",
    "end=55564713\n",
    "ancFile=$baseDIR/reEstimateBranchLengths/rel_${chrom}_updated.anc.gz\n",
    "mutFile=$baseDIR/reEstimateBranchLengths/rel_${chrom}_updated.mut.gz\n",
    "outPrefix=$baseDIR/newickTrees/rel_$chrom-$start-$end\n",
    "sbatch -J nk${chrom/chr} $baseDIR/_scripts/job-relate_AncToNewick.sbatch.sh $chrom $start $end $ancFile $mutFile $outPrefix\n",
    "\n",
    "#chr8\n",
    "chrom=chr8\n",
    "start=1\n",
    "end=57431585\n",
    "ancFile=$baseDIR/reEstimateBranchLengths/rel_${chrom}_updated.anc.gz\n",
    "mutFile=$baseDIR/reEstimateBranchLengths/rel_${chrom}_updated.mut.gz\n",
    "outPrefix=$baseDIR/newickTrees/rel_$chrom-$start-$end\n",
    "sbatch -J nk${chrom/chr} $baseDIR/_scripts/job-relate_AncToNewick.sbatch.sh $chrom $start $end $ancFile $mutFile $outPrefix"
   ]
  },
  {
   "cell_type": "markdown",
   "id": "4fb79fe4-43c0-4568-b189-12232bbe8203",
   "metadata": {},
   "source": [
    "## Draw trees"
   ]
  },
  {
   "cell_type": "code",
   "execution_count": null,
   "id": "b68e9ad6-d8e1-418f-ac28-39abd2c8bcf0",
   "metadata": {},
   "outputs": [],
   "source": [
    "## Extract trees for Flavia\n",
    "\n",
    "for pos in 53652042 53652180 53710256 53710327 53712795 53712984 53714175\n",
    "do\n",
    "    echo $pos\n",
    "    geneName=flavia\n",
    "    $PATH_TO_RELATE/scripts/TreeView/TreeView.sh \\\n",
    "                 --haps ./Chr2/Chr2.haps.gz \\\n",
    "                 --sample ./Chr2/Chr2.sample \\\n",
    "                 --anc ./Chr2/rel_chr2_joint.anc.gz \\\n",
    "                 --mut ./Chr2/rel_chr2_joint.mut.gz \\\n",
    "                 --poplabels ./AvePla.MY.n74.poplabels \\\n",
    "                 --bp_of_interest $pos \\\n",
    "                 --years_per_gen 3 \\\n",
    "                 -o ./treeViews/chr2_${geneName}/chr2_${pos}_${geneName}\n",
    "done"
   ]
  },
  {
   "cell_type": "code",
   "execution_count": null,
   "id": "ca1196bb-2396-464b-89b7-367a737be175",
   "metadata": {},
   "outputs": [],
   "source": [
    "## Extract trees for SULF\n",
    "\n",
    "for pos in 38355441 38355484 38355558 38355614 38355633 38355662 38355702\n",
    "do\n",
    "    echo $pos\n",
    "    geneName=sulf\n",
    "    $PATH_TO_RELATE/scripts/TreeView/TreeView.sh \\\n",
    "                 --haps ./Chr4/Chr4.haps.gz \\\n",
    "                 --sample ./Chr4/Chr4.sample \\\n",
    "                 --anc ./Chr4/rel_chr4_joint.anc.gz \\\n",
    "                 --mut ./Chr4/rel_chr4_joint.mut.gz \\\n",
    "                 --poplabels ./AvePla.MY.n74.poplabels \\\n",
    "                 --bp_of_interest $pos \\\n",
    "                 --years_per_gen 3 \\\n",
    "                 -o ./treeViews/chr4_sulf/chr4_${pos}_${geneName}\n",
    "done"
   ]
  },
  {
   "cell_type": "code",
   "execution_count": null,
   "id": "1e6645dc-442d-46d9-a393-c7f99b7a9e6a",
   "metadata": {},
   "outputs": [],
   "source": [
    "## Extract trees for Rubia\n",
    "\n",
    "for pos in 6307344 6307410 6307489 6307562 6307668 6307778 6307854\n",
    "do\n",
    "    echo $pos\n",
    "    geneName=rubia\n",
    "    $PATH_TO_RELATE/scripts/TreeView/TreeView.sh \\\n",
    "                 --haps ./Chr5/Chr5.haps.gz \\\n",
    "                 --sample ./Chr5/Chr5.sample \\\n",
    "                 --anc ./Chr5/rel_chr5_joint.anc.gz \\\n",
    "                 --mut ./Chr5/rel_chr5_joint.mut.gz \\\n",
    "                 --poplabels ./AvePla.MY.n74.poplabels \\\n",
    "                 --bp_of_interest $pos \\\n",
    "                 --years_per_gen 3 \\\n",
    "                 -o ./treeViews/chr5_${geneName}/chr5_${pos}_${geneName}\n",
    "done"
   ]
  },
  {
   "cell_type": "code",
   "execution_count": null,
   "id": "8a198f27-02a4-40b7-ae4e-9213c5ac4aa4",
   "metadata": {},
   "outputs": [],
   "source": [
    "## Extract trees for Rosel\n",
    "\n",
    "# module load R\n",
    "for pos in 52884457 52884489 52884528 52884553 52884570 52884624 52884770 #ROS1\n",
    "# for pos in 53058075 53058990 53062699 53062934 53063060 53063137\n",
    "# for pos in 52917425 52917590 52917838 52999532 53057894 53057984 53057984 53058075 53058990 53062699 53062934 53063060 53063137\n",
    "do\n",
    "    echo $pos\n",
    "    geneName=rosel\n",
    "    $PATH_TO_RELATE/scripts/TreeView/TreeView.sh \\\n",
    "                 --haps ./Chr6/Chr6.haps.gz \\\n",
    "                 --sample ./Chr6/Chr6.sample \\\n",
    "                 --anc ./Chr6/rel_chr6_joint.anc.gz \\\n",
    "                 --mut ./Chr6/rel_chr6_joint.mut.gz \\\n",
    "                 --poplabels ./AvePla.MY.n74.poplabels \\\n",
    "                 --bp_of_interest $pos \\\n",
    "                 --years_per_gen 3 \\\n",
    "                 -o ./treeViews/chr6_${geneName}/chr6_${pos}_${geneName} \n",
    "done"
   ]
  },
  {
   "cell_type": "markdown",
   "id": "610977f3-5a57-4292-a337-00e08ce2c738",
   "metadata": {},
   "source": [
    "## Convert to tskit format"
   ]
  },
  {
   "cell_type": "code",
   "execution_count": null,
   "id": "7b312136-62a2-4722-aee7-20b6a8b4def8",
   "metadata": {},
   "outputs": [],
   "source": [
    "## Extract trees in NEWICK format\n",
    "baseDIR=~/snap_hap_repHZ/relate\n",
    "chrom=chr8\n",
    "$PATH_TO_RELATE/bin/RelateFileFormats \\\n",
    "                --mode ConvertToTreeSequence \\\n",
    "                -i $baseDIR/reEstimateBranchLengths/rel_${chrom}_updated \\\n",
    "                -o $baseDIR/treeSequence/rel_${chrom}_updated\n",
    "gzip $baseDIR/treeSequence/rel_${chrom}_updated.trees"
   ]
  },
  {
   "cell_type": "code",
   "execution_count": null,
   "id": "1fae456b-8bf7-4a1a-a669-b2ba10383d9f",
   "metadata": {},
   "outputs": [],
   "source": [
    "baseDIR=~/snap_hap_repHZ/relate\n",
    "chrom=chr6\n",
    "$PATH_TO_RELATE/bin/RelateFileFormats \\\n",
    "                --mode ConvertToTreeSequence \\\n",
    "                --first_bp 10000000 \\\n",
    "                --last_bp 15000000 \\\n",
    "                -i $baseDIR/reEstimateBranchLengths/rel_${chrom}_updated \\\n",
    "                -o $baseDIR/treeSequence/rel_${chrom}_test_updated\n",
    "# gzip $baseDIR/treeSequence/rel_${chrom}_updated.trees"
   ]
  },
  {
   "cell_type": "code",
   "execution_count": null,
   "id": "b9e7e79a-24e2-4c6b-8645-eb9fb11383ee",
   "metadata": {},
   "outputs": [],
   "source": [
    "baseDIR=~/snap_hap_repHZ/relate\n",
    "chrom=chr2\n",
    "~/_softwares/relate_lib/bin/Convert \\\n",
    "        --mode ConvertToTreeSequence \\\n",
    "\t\t--compress \\\n",
    "\t\t--anc $baseDIR/reEstimateBranchLengths/rel_${chrom}_updated.anc.gz \\\n",
    "\t\t--mut $baseDIR/reEstimateBranchLengths/rel_${chrom}_updated.mut.gz \\\n",
    "\t\t-o $baseDIR/treeSequence/rel_${chrom}_updated.compressed"
   ]
  },
  {
   "cell_type": "code",
   "execution_count": null,
   "id": "777ce565-ff07-45bf-8478-719bed5bfa22",
   "metadata": {},
   "outputs": [],
   "source": [
    "chrom=chr6\n",
    "$PATH_TO_RELATE/bin/RelateExtract --mode AncMutForSubregion \\\n",
    "        --first_bp 52600000 \\\n",
    "        --last_bp 53500000 \\\n",
    "        --anc $baseDIR/reEstimateBranchLengths/rel_${chrom}_updated.anc.gz \\\n",
    "        --mut $baseDIR/reEstimateBranchLengths/rel_${chrom}_updated.mut.gz \\\n",
    "        -o $baseDIR/subRegions/rosel"
   ]
  },
  {
   "cell_type": "code",
   "execution_count": null,
   "id": "6e951704-1d7c-439c-8e2d-225c0391b65d",
   "metadata": {},
   "outputs": [],
   "source": [
    "baseDIR=~/snap_hap_repHZ/relate\n",
    "chrom=chr6\n",
    "~/_softwares/relate_lib/bin/Convert \\\n",
    "        --mode ConvertToTreeSequence \\\n",
    "\t\t--compress \\\n",
    "\t\t--anc $baseDIR/subRegions/rosel.anc \\\n",
    "\t\t--mut $baseDIR/subRegions/rosel.mut \\\n",
    "\t\t-o $baseDIR/treeSequence/rosel"
   ]
  }
 ],
 "metadata": {
  "kernelspec": {
   "display_name": "Bash",
   "language": "bash",
   "name": "bash"
  },
  "language_info": {
   "codemirror_mode": "shell",
   "file_extension": ".sh",
   "mimetype": "text/x-sh",
   "name": "bash"
  }
 },
 "nbformat": 4,
 "nbformat_minor": 5
}
