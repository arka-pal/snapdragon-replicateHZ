{
 "cells": [
  {
   "cell_type": "markdown",
   "id": "5e3c321b-a8c2-4691-88b0-16541fe3f41c",
   "metadata": {},
   "source": [
    "# Admixture Runs"
   ]
  },
  {
   "cell_type": "code",
   "execution_count": null,
   "id": "79e656b9-5c48-466a-8646-b1029fb4a356",
   "metadata": {},
   "outputs": [],
   "source": [
    "module load bcftools\n",
    "module load plink\n",
    "export PATH=$PATH:~/_softwares/admixture_linux-1.3.0"
   ]
  },
  {
   "cell_type": "code",
   "execution_count": null,
   "id": "525fcc81-9fb9-4cdd-b5bb-0afe020e250c",
   "metadata": {},
   "outputs": [],
   "source": [
    "baseDIR=~/snap_hap_repHZ\n",
    "cd $baseDIR/Admixture"
   ]
  },
  {
   "cell_type": "markdown",
   "id": "32bf2ad2-7c06-4bdb-b98b-842f8e82ff34",
   "metadata": {
    "jp-MarkdownHeadingCollapsed": true
   },
   "source": [
    "## n86 samples"
   ]
  },
  {
   "cell_type": "code",
   "execution_count": null,
   "id": "7928583a-4a28-4a57-9f0c-df3e0c71013b",
   "metadata": {},
   "outputs": [],
   "source": [
    "vcf=$baseDIR/Stitch/AvePla.stitch.SnpOnly.final.sorted.vcf.gz\n",
    "out=$baseDIR/Admixture/AvePla.stitch.SnpOnly.final.sorted\n",
    "plink2 --vcf $vcf --set-all-var-ids @:\\# --make-bed --out $out"
   ]
  },
  {
   "cell_type": "code",
   "execution_count": null,
   "id": "f0c73a25-1401-459c-a9ce-e99e64168986",
   "metadata": {},
   "outputs": [],
   "source": [
    "prefix=$baseDIR/Admixture/AvePla.stitch.SnpOnly.final.sorted"
   ]
  },
  {
   "cell_type": "code",
   "execution_count": null,
   "id": "67340edc-c447-46d7-aa75-34bbbb52ff0b",
   "metadata": {},
   "outputs": [],
   "source": [
    "plink2 --bfile $prefix --indep-pairwise 50 10 0.1 --out $prefix"
   ]
  },
  {
   "cell_type": "code",
   "execution_count": null,
   "id": "003e689a-5f09-4522-ae55-8d821480219a",
   "metadata": {},
   "outputs": [],
   "source": [
    "plink2 --bfile $prefix --extract $prefix.prune.in --make-bed --out $prefix.pruned"
   ]
  },
  {
   "cell_type": "markdown",
   "id": "6f89cbd9-3c0a-4c56-be1e-c81ab0ee52be",
   "metadata": {},
   "source": [
    "1799305/11533030 variants kept."
   ]
  },
  {
   "cell_type": "code",
   "execution_count": null,
   "id": "e382a78d-4c7e-4775-a824-70674b518f8b",
   "metadata": {},
   "outputs": [],
   "source": [
    "cd $baseDIR/Admixture/jobs\n",
    "\n",
    "input=$baseDIR/Admixture/AvePla.stitch.SnpOnly.final.sorted.pruned.bed\n",
    "sbatch -J admix2 $baseDIR/Admixture/_scripts/admixture.sbatch.sh $input 2\n",
    "sbatch -J admix3 $baseDIR/Admixture/_scripts/admixture.sbatch.sh $input 3\n",
    "sbatch -J admix4 $baseDIR/Admixture/_scripts/admixture.sbatch.sh $input 4\n",
    "sbatch -J admix5 $baseDIR/Admixture/_scripts/admixture.sbatch.sh $input 5"
   ]
  },
  {
   "cell_type": "markdown",
   "id": "c45ea8e3-eea6-4dbe-99bc-a938d0ea7455",
   "metadata": {},
   "source": [
    "## n74 samples, without Pla-Hybrid"
   ]
  },
  {
   "cell_type": "code",
   "execution_count": null,
   "id": "c797f437-f799-4b83-ad0a-061c2fbd92aa",
   "metadata": {},
   "outputs": [],
   "source": [
    "vcf=$baseDIR/Stitch/AvePla.FrYe.stitch.SnpOnly.final.sorted.vcf.gz\n",
    "out=$baseDIR/Admixture/AvePla.FrYe.stitch.SnpOnly.final.sorted\n",
    "plink2 --vcf $vcf --set-all-var-ids @:\\# --make-bed --out $out"
   ]
  },
  {
   "cell_type": "code",
   "execution_count": null,
   "id": "f73e43a2-0d8f-42ba-9a98-910a58a5911b",
   "metadata": {},
   "outputs": [],
   "source": [
    "prefix=$baseDIR/Admixture/AvePla.FrYe.stitch.SnpOnly.final.sorted"
   ]
  },
  {
   "cell_type": "code",
   "execution_count": null,
   "id": "b68633cd-0c30-4226-bb0a-9df069a0ba5a",
   "metadata": {},
   "outputs": [],
   "source": [
    "plink2 --bfile $prefix --indep-pairwise 50 10 0.1 --out $prefix"
   ]
  },
  {
   "cell_type": "code",
   "execution_count": null,
   "id": "1a9385c0-c0e9-410d-8e7b-7e69801159a2",
   "metadata": {},
   "outputs": [],
   "source": [
    "plink2 --bfile $prefix --extract $prefix.prune.in --make-bed --out $prefix.pruned"
   ]
  },
  {
   "cell_type": "markdown",
   "id": "40866290-b2cc-40d7-91ec-c95c89765030",
   "metadata": {},
   "source": [
    "1710010/11533030 variants kept."
   ]
  },
  {
   "cell_type": "code",
   "execution_count": null,
   "id": "2f8ba794-0dd9-4238-8754-4911a0505d9d",
   "metadata": {},
   "outputs": [],
   "source": [
    "cd $baseDIR/Admixture/jobs\n",
    "\n",
    "input=$baseDIR/Admixture/AvePla.FrYe.stitch.SnpOnly.final.sorted.pruned.bed\n",
    "sbatch -J admix2 $baseDIR/Admixture/_scripts/admixture.sbatch.sh $input 2\n",
    "sbatch -J admix3 $baseDIR/Admixture/_scripts/admixture.sbatch.sh $input 3\n",
    "sbatch -J admix4 $baseDIR/Admixture/_scripts/admixture.sbatch.sh $input 4\n",
    "sbatch -J admix5 $baseDIR/Admixture/_scripts/admixture.sbatch.sh $input 5"
   ]
  }
 ],
 "metadata": {
  "kernelspec": {
   "display_name": "Bash",
   "language": "bash",
   "name": "bash"
  },
  "language_info": {
   "codemirror_mode": "shell",
   "file_extension": ".sh",
   "mimetype": "text/x-sh",
   "name": "bash"
  }
 },
 "nbformat": 4,
 "nbformat_minor": 5
}
