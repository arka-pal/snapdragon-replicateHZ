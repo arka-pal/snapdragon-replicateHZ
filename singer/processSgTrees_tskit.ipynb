{
 "cells": [
  {
   "cell_type": "markdown",
   "id": "cd037073-4c7e-4a56-b771-388901508c38",
   "metadata": {},
   "source": [
    "# Process trees from singer"
   ]
  },
  {
   "cell_type": "code",
   "execution_count": 3,
   "id": "fa21d7c7-6921-4035-9250-d3bac5b34e19",
   "metadata": {},
   "outputs": [],
   "source": [
    "import tskit\n",
    "import pandas as pd\n",
    "import sys\n",
    "import os\n",
    "from tqdm import tqdm"
   ]
  },
  {
   "cell_type": "code",
   "execution_count": 4,
   "id": "8b476289-4aa4-4465-ba6a-f7a4185321b5",
   "metadata": {},
   "outputs": [
    {
     "data": {
      "text/plain": [
       "'/nfs/scistore18/bartogrp/apal/snap_hap_repHZ/singer'"
      ]
     },
     "execution_count": 4,
     "metadata": {},
     "output_type": "execute_result"
    }
   ],
   "source": [
    "os.chdir('/nfs/scistore18/bartogrp/apal/snap_hap_repHZ/singer/')\n",
    "os.getcwd()"
   ]
  },
  {
   "cell_type": "code",
   "execution_count": 5,
   "id": "fe977414-a9c7-4102-a749-3301a539aeb7",
   "metadata": {},
   "outputs": [
    {
     "data": {
      "text/html": [
       "\n",
       "            <div>\n",
       "              <style>\n",
       "                .tskit-table thead tr th {text-align: left;padding: 0.5em 0.5em;}\n",
       "                .tskit-table tbody tr td {padding: 0.5em 0.5em;}\n",
       "                .tskit-table tbody tr td:first-of-type {text-align: left;}\n",
       "                .tskit-details-label {vertical-align: top; padding-right:5px;}\n",
       "                .tskit-table-set {display: inline-flex;flex-wrap: wrap;margin: -12px 0 0 -12px;width: calc(100% + 12px);}\n",
       "                .tskit-table-set-table {margin: 12px 0 0 12px;}\n",
       "                details {display: inline-block;}\n",
       "                summary {cursor: pointer; outline: 0; display: list-item;}\n",
       "              </style>\n",
       "              <div class=\"tskit-table-set\">\n",
       "                <div class=\"tskit-table-set-table\">\n",
       "                  <table class=\"tskit-table\">\n",
       "                    <thead>\n",
       "                      <tr>\n",
       "                        <th style=\"padding:0;line-height:21px;\">\n",
       "                          <img style=\"height: 32px;display: inline-block;padding: 3px 5px 3px 0;\" src=\"https://raw.githubusercontent.com/tskit-dev/administrative/main/tskit_logo.svg\"/>\n",
       "                          <a target=\"_blank\" href=\"https://tskit.dev/tskit/docs/latest/python-api.html#the-treesequence-class\"> Tree Sequence </a>\n",
       "                        </th>\n",
       "                      </tr>\n",
       "                    </thead>\n",
       "                    <tbody>\n",
       "                      <tr><td>Trees</td><td>36233</td></tr>\n",
       "                      <tr><td>Sequence Length</td><td>499999.0</td></tr>\n",
       "                      <tr><td>Time Units</td><td>unknown</td></tr>\n",
       "                      <tr><td>Sample Nodes</td><td>148</td></tr>\n",
       "                      <tr><td>Total Size</td><td>6.9 MiB</td></tr>\n",
       "                      <tr>\n",
       "                        <td>Metadata</td><td style=\"text-align: left;\">No Metadata</td></tr>\n",
       "                    </tbody>\n",
       "                  </table>\n",
       "                </div>\n",
       "                <div class=\"tskit-table-set-table\">\n",
       "                  <table class=\"tskit-table\">\n",
       "                    <thead>\n",
       "                      <tr>\n",
       "                        <th style=\"line-height:21px;\">Table</th>\n",
       "                        <th>Rows</th>\n",
       "                        <th>Size</th>\n",
       "                        <th>Has Metadata</th>\n",
       "                      </tr>\n",
       "                    </thead>\n",
       "                    <tbody>\n",
       "                    \n",
       "                  <tr>\n",
       "                    <td>Edges</td>\n",
       "                      <td>141904</td>\n",
       "                      <td>4.3 MiB</td>\n",
       "                      <td style=\"text-align: center;\">\n",
       "                        \n",
       "                      </td>\n",
       "                    </tr>\n",
       "                \n",
       "                  <tr>\n",
       "                    <td>Individuals</td>\n",
       "                      <td>0</td>\n",
       "                      <td>24 Bytes</td>\n",
       "                      <td style=\"text-align: center;\">\n",
       "                        \n",
       "                      </td>\n",
       "                    </tr>\n",
       "                \n",
       "                  <tr>\n",
       "                    <td>Migrations</td>\n",
       "                      <td>0</td>\n",
       "                      <td>8 Bytes</td>\n",
       "                      <td style=\"text-align: center;\">\n",
       "                        \n",
       "                      </td>\n",
       "                    </tr>\n",
       "                \n",
       "                  <tr>\n",
       "                    <td>Mutations</td>\n",
       "                      <td>10863</td>\n",
       "                      <td>392.5 KiB</td>\n",
       "                      <td style=\"text-align: center;\">\n",
       "                        \n",
       "                      </td>\n",
       "                    </tr>\n",
       "                \n",
       "                  <tr>\n",
       "                    <td>Nodes</td>\n",
       "                      <td>35788</td>\n",
       "                      <td>978.6 KiB</td>\n",
       "                      <td style=\"text-align: center;\">\n",
       "                        \n",
       "                      </td>\n",
       "                    </tr>\n",
       "                \n",
       "                  <tr>\n",
       "                    <td>Populations</td>\n",
       "                      <td>0</td>\n",
       "                      <td>8 Bytes</td>\n",
       "                      <td style=\"text-align: center;\">\n",
       "                        \n",
       "                      </td>\n",
       "                    </tr>\n",
       "                \n",
       "                  <tr>\n",
       "                    <td>Provenances</td>\n",
       "                      <td>0</td>\n",
       "                      <td>16 Bytes</td>\n",
       "                      <td style=\"text-align: center;\">\n",
       "                        \n",
       "                      </td>\n",
       "                    </tr>\n",
       "                \n",
       "                  <tr>\n",
       "                    <td>Sites</td>\n",
       "                      <td>7943</td>\n",
       "                      <td>193.9 KiB</td>\n",
       "                      <td style=\"text-align: center;\">\n",
       "                        \n",
       "                      </td>\n",
       "                    </tr>\n",
       "                \n",
       "                    </tbody>\n",
       "                  </table>\n",
       "                </div>\n",
       "              </div>\n",
       "            </div>\n",
       "            "
      ],
      "text/plain": [
       "<tskit.trees.TreeSequence at 0x7f32229e7310>"
      ]
     },
     "execution_count": 5,
     "metadata": {},
     "output_type": "execute_result"
    }
   ],
   "source": [
    "## Read trees and convert into newick format\n",
    "tr = tskit.load('./runs/Chr2.win0.45000001.45500000/out_99.trees')\n",
    "tr"
   ]
  },
  {
   "cell_type": "code",
   "execution_count": 7,
   "id": "c54e1c2c-abd1-4bfc-878b-fbbb067cf600",
   "metadata": {},
   "outputs": [
    {
     "name": "stderr",
     "output_type": "stream",
     "text": [
      "Reading trees: 100%|██████████| 36233/36233 [00:09<00:00, 3949.63trees/s]\n"
     ]
    }
   ],
   "source": [
    "## Convert tree sequence to newick format\n",
    "n = tr.num_trees\n",
    "progressBar = tqdm(total = n, desc=\"Reading trees\", unit=\"trees\")\n",
    "treeStart = []\n",
    "treeEnd = []\n",
    "treeSpan = []\n",
    "treeList = []\n",
    "for tree in tr.trees():\n",
    "    progressBar.update(1)\n",
    "    if (tree.interval.left > 0):\n",
    "        treeStart.append(tree.interval.left)\n",
    "        treeEnd.append(tree.interval.right)\n",
    "        treeSpan.append(tree.span)\n",
    "        # treeList.append(tree.as_newick(root=tree.roots))\n",
    "        treeList.append(tree.as_newick(root=tree.root))\n",
    "progressBar.close()"
   ]
  },
  {
   "cell_type": "code",
   "execution_count": 8,
   "id": "5196669b-61f8-4301-9fd1-047e23572f73",
   "metadata": {},
   "outputs": [],
   "source": [
    "## Make dataframe with newick format trees\n",
    "trDF = pd.DataFrame({'treeStart': treeStart,\n",
    "                      'treeEnd': treeEnd,\n",
    "                     'treeSpan': treeSpan,\n",
    "                     'tree': treeList})"
   ]
  },
  {
   "cell_type": "code",
   "execution_count": null,
   "id": "f79c7f89-50c5-416a-b141-1d2e23dcb7b7",
   "metadata": {},
   "outputs": [],
   "source": [
    "## Write File\n",
    "trDF.to_csv(outNewickFile, sep=\",\", quoting = None, index = False, encoding = 'utf-8')"
   ]
  },
  {
   "cell_type": "markdown",
   "id": "5250ddc7-289d-4f2d-8977-badc6d595b1d",
   "metadata": {},
   "source": [
    "## Run in bash as a script"
   ]
  },
  {
   "cell_type": "code",
   "execution_count": null,
   "id": "d5ddeb3f-0cc8-45ad-b2ea-349c8ebc357a",
   "metadata": {},
   "outputs": [],
   "source": [
    "%bash\n",
    "## Run on python to make newick files\n",
    "module load python\n",
    "cd ~/snap_hap_repHZ/singer\n",
    "for treeFile in ./runs/Chr2.win*.*.*/out_99.trees; \n",
    "do \n",
    "    echo $treeFile\n",
    "    python _scripts/convert_to_newick.py $treeFile ${treeFile/.trees/.newick.tsv}\n",
    "    gzip ${treeFile/.trees/.newick.tsv}\n",
    "done"
   ]
  }
 ],
 "metadata": {
  "kernelspec": {
   "display_name": "Python 3 (ipykernel)",
   "language": "python",
   "name": "python3"
  },
  "language_info": {
   "codemirror_mode": {
    "name": "ipython",
    "version": 3
   },
   "file_extension": ".py",
   "mimetype": "text/x-python",
   "name": "python",
   "nbconvert_exporter": "python",
   "pygments_lexer": "ipython3",
   "version": "3.11.8"
  }
 },
 "nbformat": 4,
 "nbformat_minor": 5
}
