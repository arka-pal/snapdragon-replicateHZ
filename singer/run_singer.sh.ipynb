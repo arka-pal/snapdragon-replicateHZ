{
 "cells": [
  {
   "cell_type": "markdown",
   "id": "9a2a8b7a-0046-4615-b175-74a699b84078",
   "metadata": {},
   "source": [
    "# Run singer on snap_hap_repHZ\n",
    "\n",
    "Chr2:45-65MB   \n",
    "Run1  \n",
    "Date: 03.09.2024  \n",
    "last update: 12.09.2024"
   ]
  },
  {
   "cell_type": "code",
   "execution_count": null,
   "id": "6cf4e27a-cdd5-448f-865c-0f9246538c93",
   "metadata": {},
   "outputs": [],
   "source": [
    "## Load modules\n",
    "module load vcftools\n",
    "module load bcftools\n",
    "module load singer\n",
    "module load python\n",
    "cd ~/snap_hap_repHZ/singer"
   ]
  },
  {
   "cell_type": "code",
   "execution_count": null,
   "id": "cd009682-bb77-4894-aa24-453def6269c7",
   "metadata": {},
   "outputs": [],
   "source": [
    "## Fix VCF for singer\n",
    "# mkdir input\n",
    "cd ~/snap_hap_repHZ/singer/input\n",
    "\n",
    "bcftools view -h ./Flavia.vcf.gz | tail +1 > header.txt\n",
    "bcftools view -H ./Flavia.vcf.gz > ./GTs.txt\n",
    "cat header.txt GTs.txt > Flavia.sg.vcf\n",
    "rm header.txt GTs.txt"
   ]
  },
  {
   "cell_type": "code",
   "execution_count": null,
   "id": "842ae610-a17e-451e-85af-94f9be0e9f71",
   "metadata": {},
   "outputs": [],
   "source": [
    "## Compute pi for windows\n",
    "inVcf=~/snap_hap_repHZ/singer/input/Flavia.vcf.gz\n",
    "vcftools --gzvcf $inVcf --out win500k_vcftools --window-pi 500000\n",
    "\n",
    "## Compute pi_within with Genomics General\n",
    "inVcf=~/snap_hap_repHZ/singer/input/Flavia.vcf.gz\n",
    "geno=~/snap_hap_repHZ/singer/input/Flavia.geno.gz\n",
    "size=500000\n",
    "popsFile=~/snap_hap_repHZ/singer/ALL.samples\n",
    "\n",
    "export PATH=$PATH:$HOME/genomics_general:$HOME/genomics_general/VCF_processing\n",
    "#time parseVCF.py -i $inVcf -o $geno --ploidy 2 --addRefTrack\n",
    "time popgenWindows.py    -g $geno -o win500k_SHM.csv.gz -f phased \\\n",
    "                    --windType coordinate -w $size -s $size \\\n",
    "                    -p ALL --popsFile $popsFile --ploidy 2 \\\n",
    "                    --writeFailedWindow --addWindowID -T 16\n",
    "\n",
    "## VCFtools\n",
    "vcftools --gzvcf Flavia.vcf.gz --out win100k_vcftools --window-pi 100000"
   ]
  },
  {
   "cell_type": "code",
   "execution_count": 24,
   "id": "09b3374c-9e03-4868-be8b-00aa751addc2",
   "metadata": {},
   "outputs": [
    {
     "name": "stdout",
     "output_type": "stream",
     "text": [
      "'data.frame':\t40 obs. of  6 variables:\n",
      " $ CHROM     : chr  \"Chr2\" \"Chr2\" \"Chr2\" \"Chr2\" ...\n",
      " $ BIN_START : int  45000001 45500001 46000001 46500001 47000001 47500001 48000001 48500001 49000001 49500001 ...\n",
      " $ BIN_END   : int  45500000 46000000 46500000 47000000 47500000 48000000 48500000 49000000 49500000 50000000 ...\n",
      " $ N_VARIANTS: int  7943 8312 10459 7109 5612 9628 7076 9000 11492 11662 ...\n",
      " $ PI        : num  0.00344 0.00328 0.00555 0.00374 0.00299 ...\n",
      " $ Ne        : num  151094 143781 243447 164236 131249 ...\n"
     ]
    }
   ],
   "source": [
    "#%R\n",
    "## Compute Ne for each window\n",
    "## vcftools\n",
    "mu = 5.7e-9\n",
    "pi = read.table('~/snap_hap_repHZ/singer/input/win500k_vcftools.windowed.pi', header=T)\n",
    "pi$Ne = round(pi$PI/(4*mu))\n",
    "str(pi)\n",
    "write.table(pi, '~/snap_hap_repHZ/singer/input/win500k_vcftools_Ne.windowed.pi', \n",
    "            col.names=T, row.names=F, sep='\\t', quote=F)"
   ]
  },
  {
   "cell_type": "code",
   "execution_count": 19,
   "id": "58c5440c-03b3-480c-bf64-07a95c0de03b",
   "metadata": {},
   "outputs": [
    {
     "name": "stdout",
     "output_type": "stream",
     "text": [
      "'data.frame':\t40 obs. of  8 variables:\n",
      " $ windowID: int  0 1 2 3 4 5 6 7 8 9 ...\n",
      " $ scaffold: chr  \"Chr2\" \"Chr2\" \"Chr2\" \"Chr2\" ...\n",
      " $ start   : int  45000001 45500001 46000001 46500001 47000001 47500001 48000001 48500001 49000001 49500001 ...\n",
      " $ end     : int  45500000 46000000 46500000 47000000 47500000 48000000 48500000 49000000 49500000 50000000 ...\n",
      " $ mid     : num  45245645 45725597 46263989 46713650 47282978 ...\n",
      " $ sites   : int  7960 8330 10464 7119 5617 9646 7088 9016 11502 11667 ...\n",
      " $ pi_ALL  : num  0.216 0.197 0.265 0.263 0.266 ...\n",
      " $ Ne      : num  9491228 8631579 11631579 11535088 11684211 ...\n"
     ]
    }
   ],
   "source": [
    "#%R\n",
    "## Compute Ne for each window\n",
    "## SHM\n",
    "mu = 5.7e-9\n",
    "pi = read.csv('~/snap_hap_repHZ/singer/input/win500k_SHM.csv.gz', header=T)\n",
    "pi = subset(pi, start>45000000)\n",
    "pi$Ne = round(pi$pi_ALL/(4*mu))\n",
    "pi$windowID = seq(0,nrow(pi)-1)\n",
    "str(pi)\n",
    "write.table(pi, '~/snap_hap_repHZ/singer/input/win500k_SHM_Ne.tsv', col.names=T, row.names=F, sep='\\t', quote=F)"
   ]
  },
  {
   "cell_type": "code",
   "execution_count": null,
   "id": "c803fef7-7ac0-452f-bae8-6cbf5b3fc17d",
   "metadata": {},
   "outputs": [],
   "source": [
    "## Load modules and set PATH\n",
    "## -----\n",
    "module load vcftools\n",
    "module load bcftools\n",
    "module load singer\n",
    "module load python\n",
    "\n",
    "\n",
    "## Initiate variables\n",
    "## -----\n",
    "baseDIR=~/snap_hap_repHZ/singer\n",
    "winFile=$baseDIR/input/win500k_vcftools_Ne.windowed.pi #vcftools\n",
    "# winFile=$baseDIR/input/win500k_SHM_Ne.tsv #SHM\n",
    "chrom=Chr2\n",
    "\n",
    "windowID=6\n",
    "#vcftools\n",
    "start=$(sed -n \"$((windowID+2))p\" $winFile | cut -f2)\n",
    "end=$(sed -n \"$((windowID+2))p\" $winFile | cut -f3)\n",
    "# #SHM\n",
    "# start=$(sed -n \"$((windowID+2))p\" $winFile | cut -f3)\n",
    "# end=$(sed -n \"$((windowID+2))p\" $winFile | cut -f4)\n",
    "#Manual\n",
    "# start=45000000\n",
    "# end=65000000\n",
    "\n",
    "\n",
    "inVcf=$baseDIR/input/Flavia.sg\n",
    "outPrefix=$baseDIR/runs/$chrom.win$windowID.$start.$end/out\n",
    "if [ ! -d $baseDIR/runs/$chrom.win$windowID.$start.$end ]; then mkdir $baseDIR/runs/$chrom.win$windowID.$start.$end; fi\n",
    "\n",
    "mu=5.7e-9\n",
    "ratio=1\n",
    "Ne=$(sed -n \"$((windowID+2))p\" $winFile | cut -f6) #vcftools\n",
    "# Ne=$(sed -n \"$((windowID+2))p\" $winFile | cut -f8) #SHM\n",
    "# Ne=406694\n",
    "\n",
    "mcmc_iters=100\n",
    "thin=20\n",
    "polar=0.5\n",
    "\n",
    "echo \"VCF: $inVcf.vcf\"\n",
    "echo \"chrom: $chrom\"\n",
    "echo \"window: $windowID\"\n",
    "echo \"start: $start\"\n",
    "echo \"end: $end\"\n",
    "echo \"outPrefix: $outPrefix\"\n",
    "echo \"mu: $mu\"\n",
    "echo \"Ne: $Ne\"\n",
    "echo \"mcmc iters: $mcmc_iters\"\n",
    "echo \"mcmc thin: $thin\"\n",
    "echo \"polar: $polar\"\n",
    "echo -e \"-----\\n\\n\\n\"\n",
    "\n",
    "\n",
    "## Run singer\n",
    "# time singer_master  -vcf $inVcf \\\n",
    "time ~/_softwares/SINGER/releases/singer-0.1.7-beta-linux-x86_64/singer_master \\\n",
    "                    -vcf $inVcf \\\n",
    "                    -output $outPrefix \\\n",
    "                    -start $start \\\n",
    "                    -end $end \\\n",
    "                    -m $mu \\\n",
    "                    -ratio $ratio \\\n",
    "                    -Ne $Ne \\\n",
    "                    -n $mcmc_iters \\\n",
    "                    -thin $thin \\\n",
    "                    -polar $polar \\\n",
    "                    -seed 420"
   ]
  },
  {
   "cell_type": "code",
   "execution_count": null,
   "id": "d924e434-cf70-4d4a-aad2-c81f2b9f1ff2",
   "metadata": {},
   "outputs": [],
   "source": [
    "## Slurm script\n",
    "cd ~/snap_hap_repHZ/singer/jobs/\n",
    "baseDIR=~/snap_hap_repHZ/singer\n",
    "chrom=Chr2\n",
    "winFile=$baseDIR/input/win500k_vcftools_Ne.windowed.pi #vcftools\n",
    "sbatch -J sg --array=0-40 ~/snap_hap_repHZ/singer/_scripts/job-singer_multiWindows.sbatch.sh $chrom $winFile\n",
    "#arrays=0-39"
   ]
  },
  {
   "cell_type": "markdown",
   "id": "f101a715-5779-49ef-97da-97db8538c2f3",
   "metadata": {},
   "source": [
    "```\n",
    "#SBATCH --ntasks=1\n",
    "#SBATCH --ntasks-per-node=1\n",
    "#SBATCH --cpus-per-task=1\n",
    "#SBATCH --mem-per-cpu=16G\n",
    "```"
   ]
  },
  {
   "cell_type": "markdown",
   "id": "2d624f95-3f3d-4b11-85b8-b553a0e07512",
   "metadata": {},
   "source": [
    "#NB: ~180mins on head node"
   ]
  },
  {
   "cell_type": "code",
   "execution_count": null,
   "id": "4a92b78c-c6c1-4ff3-87ab-0aed477e3174",
   "metadata": {},
   "outputs": [],
   "source": [
    "## Convert to tskit format\n",
    "baseDIR=~/snap_hap_repHZ/singer\n",
    "chrom=Chr2\n",
    "windowSize=500000\n",
    "\n",
    "for windowID in {0..39};\n",
    "do\n",
    "    # windowID=0\n",
    "    start=$((45000001+$windowID*$windowSize))\n",
    "    end=$(($start+$windowSize-1))\n",
    "    echo -e $windowID\"\\t\"$start\"\\t\"$end\n",
    "    \n",
    "    convert_to_tskit -input $baseDIR/runs/$chrom.win$windowID.$start.$end/out \\\n",
    "                     -output $baseDIR/runs/$chrom.win$windowID.$start.$end/out \\\n",
    "                     -start 99 -end 100 #-step 1\n",
    "done"
   ]
  },
  {
   "cell_type": "code",
   "execution_count": null,
   "id": "62838472-86ae-4672-b9ed-c8a488aa0ef2",
   "metadata": {},
   "outputs": [],
   "source": [
    "## Run on python to make newick files\n",
    "module load python\n",
    "cd ~/snap_hap_repHZ/singer\n",
    "for treeFile in ./runs/Chr2.win*.*.*/out_99.trees; \n",
    "do \n",
    "    echo $treeFile\n",
    "    python _scripts/convert_to_newick.py $treeFile ${treeFile/.trees/.newick.tsv}\n",
    "    gzip ${treeFile/.trees/.newick.tsv}\n",
    "done"
   ]
  }
 ],
 "metadata": {
  "kernelspec": {
   "display_name": "Bash",
   "language": "bash",
   "name": "bash"
  },
  "language_info": {
   "codemirror_mode": "shell",
   "file_extension": ".sh",
   "mimetype": "text/x-sh",
   "name": "bash"
  }
 },
 "nbformat": 4,
 "nbformat_minor": 5
}
