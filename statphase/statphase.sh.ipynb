{
 "cells": [
  {
   "cell_type": "markdown",
   "id": "f3a99f2e-47e2-42af-baa3-65e82646ee80",
   "metadata": {},
   "source": [
    "# Statistical Phasing\n",
    "\n",
    "AvePla samples, n=95"
   ]
  },
  {
   "cell_type": "code",
   "execution_count": null,
   "id": "bc1e6f2c-8622-47d4-bb95-3cbe8c589a2a",
   "metadata": {},
   "outputs": [],
   "source": [
    "module load shapeit5/5.1.1 bcftools/1.18\n",
    "export PATH=~/.local/bin:$PATH\n",
    "unset $PYTHONPATH\n",
    "export PYTHONPATH=$PYTHONPATH:~/.local/lib/python3.9/site-packages"
   ]
  },
  {
   "cell_type": "markdown",
   "id": "e865ad92-3cd3-4873-be8a-115caf1df70a",
   "metadata": {},
   "source": [
    "## AvePla all samples (n=86)"
   ]
  },
  {
   "cell_type": "code",
   "execution_count": null,
   "id": "497e2be2-1a07-480d-84d7-57e35048d70d",
   "metadata": {},
   "outputs": [],
   "source": [
    "## Run statistical phasing without reference\n",
    "cd ~/snap_hap_repHZ/statphase/jobs\n",
    "run=AvePla_all\n",
    "targetVcf=~/snap_hap_repHZ/Stitch/AvePla.all.stitch.SnpOnly.final.sorted.vcf.gz\n",
    "\n",
    "for chrom in Chr{1..8}\n",
    "do\n",
    "    outVcf=~/snap_hap_repHZ/statphase/$run/$chrom.AvePla.all.sorted.statphased.bcf\n",
    "    sbatch -J phase.all.${chrom/Chr} ./statphase.sbatch.sh $targetVcf $outVcf $chrom\n",
    "done"
   ]
  },
  {
   "cell_type": "markdown",
   "id": "55a5b889-ed94-498e-b032-bcbd8f6374b8",
   "metadata": {},
   "source": [
    "## AvePla FrYe samples (n=74)"
   ]
  },
  {
   "cell_type": "code",
   "execution_count": null,
   "id": "31f4b8f5-21f9-4e83-a86c-0cb52d46394f",
   "metadata": {},
   "outputs": [],
   "source": [
    "## Run statistical phasing without reference\n",
    "cd ~/snap_hap_repHZ/statphase/jobs\n",
    "run=AvePla_FrYe\n",
    "targetVcf=~/snap_hap_repHZ/Stitch/AvePla.FrYe.stitch.SnpOnly.final.sorted.vcf.gz\n",
    "\n",
    "for chrom in Chr{1..8}\n",
    "do\n",
    "    outVcf=~/snap_hap_repHZ/statphase/$run/$chrom.AvePla.FrYe.sorted.statphased.bcf\n",
    "    sbatch -J phase.FrYe.${chrom/Chr} ./statphase.sbatch.sh $targetVcf $outVcf $chrom\n",
    "done"
   ]
  },
  {
   "cell_type": "code",
   "execution_count": null,
   "id": "5de39e89-b5b5-4215-ad91-4670998766f7",
   "metadata": {},
   "outputs": [],
   "source": [
    "## Convert VCFs to .vcf.gz and index\n",
    "cd ~/snap_hap_repHZ/statphase\n",
    "run=AvePla_FrYe\n",
    "for chrom in Chr{1..8}\n",
    "do\n",
    "    bcftools view ./$run/$chrom.AvePla.FrYe.sorted.statphased.bcf -Oz -o ./$run/$chrom.AvePla.FrYe.sorted.statphased.vcf.gz\n",
    "    bcftools tabix ./$run/$chrom.AvePla.FrYe.sorted.statphased.vcf.gz\n",
    "    rm ./$run/$chrom.AvePla.FrYe.sorted.statphased.bcf.csi\n",
    "done"
   ]
  },
  {
   "cell_type": "code",
   "execution_count": null,
   "id": "4420d17a-5657-424e-86a5-ac3dab495577",
   "metadata": {},
   "outputs": [],
   "source": [
    "## Concatenate all LGs\n",
    "cd ~/snap_hap_repHZ/statphase\n",
    "bcftools concat -a ./$run/*vcf.gz -Oz -o ./$run/AvePla.FrYe.sorted.statphased.vcf.gz"
   ]
  }
 ],
 "metadata": {
  "kernelspec": {
   "display_name": "Bash",
   "language": "bash",
   "name": "bash"
  },
  "language_info": {
   "codemirror_mode": "shell",
   "file_extension": ".sh",
   "mimetype": "text/x-sh",
   "name": "bash"
  }
 },
 "nbformat": 4,
 "nbformat_minor": 5
}
