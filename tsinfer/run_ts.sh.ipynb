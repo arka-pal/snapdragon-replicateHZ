{
 "cells": [
  {
   "cell_type": "markdown",
   "id": "79d7a96a-e8e6-4f4e-93d6-edf428154678",
   "metadata": {},
   "source": [
    "# Run tsinfer on AvePla.FrYe\n",
    "All chromosomes"
   ]
  },
  {
   "cell_type": "code",
   "execution_count": null,
   "id": "ad142cb6-093e-4f26-b539-828b9d83f16b",
   "metadata": {},
   "outputs": [],
   "source": [
    "cd ~/snap_hap_repHZ/tsinfer/jobs"
   ]
  },
  {
   "cell_type": "code",
   "execution_count": null,
   "id": "a377ff07-531b-4f28-ae85-755b4ce632f4",
   "metadata": {},
   "outputs": [],
   "source": [
    "# ## TEST\n",
    "# chrom=\"Chr6\"\n",
    "# baseDIR=\"/nfs/scistore18/bartogrp/apal/snap_hap_repHZ\"\n",
    "# vcf_path=\"$baseDIR/tsinfer/test.vcf.gz\"\n",
    "# ancestral=\"/nfs/scistore18/bartogrp/apal/snap_hap/Amajus_alleles-ancestral/allelePolarised_chrom/allelePolarised_$chrom.csv\"\n",
    "# sample_data_file=\"$baseDIR/tsinfer/sampleData/ts.$chrom.AvePla.FrYe.samples\"\n",
    "# tsinfer_tree_file=\"$baseDIR/tsinfer/trees/ts.$chrom.AvePla.FrYe.trees\"\n",
    "# tsdate_tree_file=\"$baseDIR/tsinfer/trees/tsD.$chrom.AvePla.FrYe.trees\"\n",
    "# treeList_file=\"$baseDIR/tsinfer/newickTreeList/tsD.$chrom.AvePla.FrYe.treeList.txt\"\n",
    "\n",
    "# echo -e $chrom\n",
    "# echo -e $vcf_path\n",
    "# echo -e $ancestral\n",
    "# echo -e $sample_data_file\n",
    "# echo -e $tsinfer_tree_file\n",
    "# echo -e $tsdate_tree_file\n",
    "# echo -e $treeList\n",
    "# sbatch -J test ~/snap_hap_repHZ/tsinfer/_scripts/job-ts.sbatch.sh $vcf_path $ancestral $sample_data_file $tsinfer_tree_file ${tsdate_tree_file} $treeList_file"
   ]
  },
  {
   "cell_type": "code",
   "execution_count": null,
   "id": "1343f429-a19c-4b1d-b400-1811458d629b",
   "metadata": {},
   "outputs": [],
   "source": [
    "## Chr1\n",
    "chrom=\"Chr1\"\n",
    "baseDIR=\"/nfs/scistore18/bartogrp/apal/snap_hap_repHZ\"\n",
    "cd $baseDIR/tsinfer/jobs\n",
    "\n",
    "vcf_path=\"$baseDIR/statphase/AvePla_FrYe/$chrom.AvePla.FrYe.sorted.statphased.vcf.gz\"\n",
    "ancestral=\"/nfs/scistore18/bartogrp/apal/snap_hap/Amajus_alleles-ancestral/allelePolarised_chrom/allelePolarised_$chrom.csv\"\n",
    "sample_data_file=\"$baseDIR/tsinfer/sampleData/ts.$chrom.AvePla.FrYe.samples\"\n",
    "tsinfer_tree_file=\"$baseDIR/tsinfer/trees/ts.$chrom.AvePla.FrYe.trees\"\n",
    "tsdate_tree_file=\"$baseDIR/tsinfer/trees/tsD.$chrom.AvePla.FrYe.trees\"\n",
    "treeList_file=\"$baseDIR/tsinfer/newickTreeList/tsD.$chrom.AvePla.FrYe.treeList.txt\"\n",
    "\n",
    "sbatch -J ts${chrom/Chr} $baseDIR/tsinfer/_scripts/job-ts.sbatch.sh $vcf_path $ancestral $sample_data_file $tsinfer_tree_file ${tsdate_tree_file} ${treeList_file}"
   ]
  },
  {
   "cell_type": "code",
   "execution_count": null,
   "id": "8736ac5c-5bb8-4006-acde-f61c885bc68f",
   "metadata": {},
   "outputs": [],
   "source": [
    "## Chr2\n",
    "chrom=\"Chr2\"\n",
    "baseDIR=\"/nfs/scistore18/bartogrp/apal/snap_hap_repHZ\"\n",
    "cd $baseDIR/tsinfer/jobs\n",
    "\n",
    "vcf_path=\"$baseDIR/statphase/AvePla_FrYe/$chrom.AvePla.FrYe.sorted.statphased.vcf.gz\"\n",
    "ancestral=\"/nfs/scistore18/bartogrp/apal/snap_hap/Amajus_alleles-ancestral/allelePolarised_chrom/allelePolarised_$chrom.csv\"\n",
    "sample_data_file=\"$baseDIR/tsinfer/sampleData/ts.$chrom.AvePla.FrYe.samples\"\n",
    "tsinfer_tree_file=\"$baseDIR/tsinfer/trees/ts.$chrom.AvePla.FrYe.trees\"\n",
    "tsdate_tree_file=\"$baseDIR/tsinfer/trees/tsD.$chrom.AvePla.FrYe.trees\"\n",
    "treeList_file=\"$baseDIR/tsinfer/newickTreeList/tsD.$chrom.AvePla.FrYe.treeList.txt\"\n",
    "\n",
    "sbatch -J ts${chrom/Chr} $baseDIR/tsinfer/_scripts/job-ts.sbatch.sh $vcf_path $ancestral $sample_data_file $tsinfer_tree_file ${tsdate_tree_file} ${treeList_file}"
   ]
  },
  {
   "cell_type": "code",
   "execution_count": null,
   "id": "b1269a11-4497-4889-b25f-7114da2a7f17",
   "metadata": {},
   "outputs": [],
   "source": [
    "## Chr3\n",
    "chrom=\"Chr3\"\n",
    "baseDIR=\"/nfs/scistore18/bartogrp/apal/snap_hap_repHZ\"\n",
    "cd $baseDIR/tsinfer/jobs\n",
    "\n",
    "vcf_path=\"$baseDIR/statphase/AvePla_FrYe/$chrom.AvePla.FrYe.sorted.statphased.vcf.gz\"\n",
    "ancestral=\"/nfs/scistore18/bartogrp/apal/snap_hap/Amajus_alleles-ancestral/allelePolarised_chrom/allelePolarised_$chrom.csv\"\n",
    "sample_data_file=\"$baseDIR/tsinfer/sampleData/ts.$chrom.AvePla.FrYe.samples\"\n",
    "tsinfer_tree_file=\"$baseDIR/tsinfer/trees/ts.$chrom.AvePla.FrYe.trees\"\n",
    "tsdate_tree_file=\"$baseDIR/tsinfer/trees/tsD.$chrom.AvePla.FrYe.trees\"\n",
    "treeList_file=\"$baseDIR/tsinfer/newickTreeList/tsD.$chrom.AvePla.FrYe.treeList.txt\"\n",
    "\n",
    "sbatch -J ts${chrom/Chr} $baseDIR/tsinfer/_scripts/job-ts.sbatch.sh $vcf_path $ancestral $sample_data_file $tsinfer_tree_file ${tsdate_tree_file} ${treeList_file}"
   ]
  },
  {
   "cell_type": "code",
   "execution_count": null,
   "id": "0d0eb94c-f1ea-4058-96be-d0ae292fa2c9",
   "metadata": {},
   "outputs": [],
   "source": [
    "## Chr4\n",
    "chrom=\"Chr4\"\n",
    "baseDIR=\"/nfs/scistore18/bartogrp/apal/snap_hap_repHZ\"\n",
    "cd $baseDIR/tsinfer/jobs\n",
    "\n",
    "vcf_path=\"$baseDIR/statphase/AvePla_FrYe/$chrom.AvePla.FrYe.sorted.statphased.vcf.gz\"\n",
    "ancestral=\"/nfs/scistore18/bartogrp/apal/snap_hap/Amajus_alleles-ancestral/allelePolarised_chrom/allelePolarised_$chrom.csv\"\n",
    "sample_data_file=\"$baseDIR/tsinfer/sampleData/ts.$chrom.AvePla.FrYe.samples\"\n",
    "tsinfer_tree_file=\"$baseDIR/tsinfer/trees/ts.$chrom.AvePla.FrYe.trees\"\n",
    "tsdate_tree_file=\"$baseDIR/tsinfer/trees/tsD.$chrom.AvePla.FrYe.trees\"\n",
    "treeList_file=\"$baseDIR/tsinfer/newickTreeList/tsD.$chrom.AvePla.FrYe.treeList.txt\"\n",
    "\n",
    "sbatch -J ts${chrom/Chr} $baseDIR/tsinfer/_scripts/job-ts.sbatch.sh $vcf_path $ancestral $sample_data_file $tsinfer_tree_file ${tsdate_tree_file} ${treeList_file}"
   ]
  },
  {
   "cell_type": "code",
   "execution_count": null,
   "id": "069135af-79f3-4b4a-924c-d92676ab999d",
   "metadata": {},
   "outputs": [],
   "source": [
    "## Chr5\n",
    "chrom=\"Chr5\"\n",
    "baseDIR=\"/nfs/scistore18/bartogrp/apal/snap_hap_repHZ\"\n",
    "cd $baseDIR/tsinfer/jobs\n",
    "\n",
    "vcf_path=\"$baseDIR/statphase/AvePla_FrYe/$chrom.AvePla.FrYe.sorted.statphased.vcf.gz\"\n",
    "ancestral=\"/nfs/scistore18/bartogrp/apal/snap_hap/Amajus_alleles-ancestral/allelePolarised_chrom/allelePolarised_$chrom.csv\"\n",
    "sample_data_file=\"$baseDIR/tsinfer/sampleData/ts.$chrom.AvePla.FrYe.samples\"\n",
    "tsinfer_tree_file=\"$baseDIR/tsinfer/trees/ts.$chrom.AvePla.FrYe.trees\"\n",
    "tsdate_tree_file=\"$baseDIR/tsinfer/trees/tsD.$chrom.AvePla.FrYe.trees\"\n",
    "treeList_file=\"$baseDIR/tsinfer/newickTreeList/tsD.$chrom.AvePla.FrYe.treeList.txt\"\n",
    "\n",
    "sbatch -J ts${chrom/Chr} $baseDIR/tsinfer/_scripts/job-ts.sbatch.sh $vcf_path $ancestral $sample_data_file $tsinfer_tree_file ${tsdate_tree_file} ${treeList_file}"
   ]
  },
  {
   "cell_type": "code",
   "execution_count": null,
   "id": "8b3384a5-a212-4bc6-a0c6-31925921f745",
   "metadata": {},
   "outputs": [],
   "source": [
    "## Chr6\n",
    "chrom=\"Chr6\"\n",
    "baseDIR=\"/nfs/scistore18/bartogrp/apal/snap_hap_repHZ\"\n",
    "cd $baseDIR/tsinfer/jobs\n",
    "\n",
    "vcf_path=\"$baseDIR/statphase/AvePla_FrYe/$chrom.AvePla.FrYe.sorted.statphased.vcf.gz\"\n",
    "ancestral=\"/nfs/scistore18/bartogrp/apal/snap_hap/Amajus_alleles-ancestral/allelePolarised_chrom/allelePolarised_$chrom.csv\"\n",
    "sample_data_file=\"$baseDIR/tsinfer/sampleData/ts.$chrom.AvePla.FrYe.samples\"\n",
    "tsinfer_tree_file=\"$baseDIR/tsinfer/trees/ts.$chrom.AvePla.FrYe.trees\"\n",
    "tsdate_tree_file=\"$baseDIR/tsinfer/trees/tsD.$chrom.AvePla.FrYe.trees\"\n",
    "treeList_file=\"$baseDIR/tsinfer/newickTreeList/tsD.$chrom.AvePla.FrYe.treeList.txt\"\n",
    "\n",
    "sbatch -J ts${chrom/Chr} $baseDIR/tsinfer/_scripts/job-ts.sbatch.sh $vcf_path $ancestral $sample_data_file $tsinfer_tree_file ${tsdate_tree_file} ${treeList_file}"
   ]
  },
  {
   "cell_type": "code",
   "execution_count": null,
   "id": "584bf2a8-1e63-413c-ac7f-88775d0e1722",
   "metadata": {},
   "outputs": [],
   "source": [
    "## Chr7\n",
    "chrom=\"Chr7\"\n",
    "baseDIR=\"/nfs/scistore18/bartogrp/apal/snap_hap_repHZ\"\n",
    "cd $baseDIR/tsinfer/jobs\n",
    "\n",
    "vcf_path=\"$baseDIR/statphase/AvePla_FrYe/$chrom.AvePla.FrYe.sorted.statphased.vcf.gz\"\n",
    "ancestral=\"/nfs/scistore18/bartogrp/apal/snap_hap/Amajus_alleles-ancestral/allelePolarised_chrom/allelePolarised_$chrom.csv\"\n",
    "sample_data_file=\"$baseDIR/tsinfer/sampleData/ts.$chrom.AvePla.FrYe.samples\"\n",
    "tsinfer_tree_file=\"$baseDIR/tsinfer/trees/ts.$chrom.AvePla.FrYe.trees\"\n",
    "tsdate_tree_file=\"$baseDIR/tsinfer/trees/tsD.$chrom.AvePla.FrYe.trees\"\n",
    "treeList_file=\"$baseDIR/tsinfer/newickTreeList/tsD.$chrom.AvePla.FrYe.treeList.txt\"\n",
    "\n",
    "sbatch -J ts${chrom/Chr} $baseDIR/tsinfer/_scripts/job-ts.sbatch.sh $vcf_path $ancestral $sample_data_file $tsinfer_tree_file ${tsdate_tree_file} ${treeList_file}"
   ]
  },
  {
   "cell_type": "code",
   "execution_count": null,
   "id": "b4059755-54ea-4c5d-b838-620ba1a900eb",
   "metadata": {},
   "outputs": [],
   "source": [
    "## Chr8\n",
    "chrom=\"Chr8\"\n",
    "baseDIR=\"/nfs/scistore18/bartogrp/apal/snap_hap_repHZ\"\n",
    "cd $baseDIR/tsinfer/jobs\n",
    "\n",
    "vcf_path=\"$baseDIR/statphase/AvePla_FrYe/$chrom.AvePla.FrYe.sorted.statphased.vcf.gz\"\n",
    "ancestral=\"/nfs/scistore18/bartogrp/apal/snap_hap/Amajus_alleles-ancestral/allelePolarised_chrom/allelePolarised_$chrom.csv\"\n",
    "sample_data_file=\"$baseDIR/tsinfer/sampleData/ts.$chrom.AvePla.FrYe.samples\"\n",
    "tsinfer_tree_file=\"$baseDIR/tsinfer/trees/ts.$chrom.AvePla.FrYe.trees\"\n",
    "tsdate_tree_file=\"$baseDIR/tsinfer/trees/tsD.$chrom.AvePla.FrYe.trees\"\n",
    "treeList_file=\"$baseDIR/tsinfer/newickTreeList/tsD.$chrom.AvePla.FrYe.treeList.txt\"\n",
    "\n",
    "sbatch -J ts${chrom/Chr} $baseDIR/tsinfer/_scripts/job-ts.sbatch.sh $vcf_path $ancestral $sample_data_file $tsinfer_tree_file ${tsdate_tree_file} ${treeList_file}"
   ]
  }
 ],
 "metadata": {
  "kernelspec": {
   "display_name": "Bash",
   "language": "bash",
   "name": "bash"
  },
  "language_info": {
   "codemirror_mode": "shell",
   "file_extension": ".sh",
   "mimetype": "text/x-sh",
   "name": "bash"
  }
 },
 "nbformat": 4,
 "nbformat_minor": 5
}
