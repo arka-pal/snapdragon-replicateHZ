{
 "cells": [
  {
   "cell_type": "markdown",
   "id": "41125a65-e984-4462-81a7-410a10129a78",
   "metadata": {},
   "source": [
    "# TWISST (SINGER)\n",
    "Run twisst on SINGER samples"
   ]
  },
  {
   "cell_type": "code",
   "execution_count": null,
   "id": "23e93294-9f7e-4f1e-b09b-be5b91a2cc1c",
   "metadata": {},
   "outputs": [],
   "source": [
    "export PATH=$PATH:$HOME/twisst/\n",
    "module load python\n",
    "cd ~/snap_hap_repHZ/twisst"
   ]
  },
  {
   "cell_type": "code",
   "execution_count": null,
   "id": "f0455458-e005-403b-9850-1fc8c07e3cc3",
   "metadata": {},
   "outputs": [],
   "source": [
    "## Create symbolic links for SINGER trees\n",
    "\n",
    "cd ~/snap_hap_repHZ/twisst/trees_sg/trees\n",
    "chrom=Chr2\n",
    "windowSize=500000\n",
    "for windowID in {0..39};\n",
    "do\n",
    "    # windowID=0\n",
    "    start=$((45000001+$windowID*$windowSize))\n",
    "    end=$(($start+$windowSize-1))\n",
    "    newickFile=~/snap_hap_repHZ/singer/runs/$chrom.win$windowID.$start.$end/out_99.newick.tsv.gz\n",
    "    \n",
    "    echo -e $windowID\"\\t\"$start\"\\t\"$end\"\\t\"$newickFile\n",
    "    ln -s $newickFile ./$chrom.win$windowID.$start.$end.mcmc99.newick.tsv.gz\n",
    "done"
   ]
  },
  {
   "cell_type": "code",
   "execution_count": 8,
   "id": "0df031bd-430a-4e34-9ac5-f46d24f7d0d1",
   "metadata": {
    "collapsed": true,
    "jupyter": {
     "outputs_hidden": true
    },
    "scrolled": true
   },
   "outputs": [
    {
     "name": "stdout",
     "output_type": "stream",
     "text": [
      "36233\t./Chr2.win0.45000001.45500000.mcmc99.newick.tsv.gz\n",
      "33670\t./Chr2.win1.45500001.46000000.mcmc99.newick.tsv.gz\n",
      "36848\t./Chr2.win2.46000001.46500000.mcmc99.newick.tsv.gz\n",
      "29571\t./Chr2.win3.46500001.47000000.mcmc99.newick.tsv.gz\n",
      "23724\t./Chr2.win4.47000001.47500000.mcmc99.newick.tsv.gz\n",
      "35312\t./Chr2.win5.47500001.48000000.mcmc99.newick.tsv.gz\n",
      "26854\t./Chr2.win6.48000001.48500000.mcmc99.newick.tsv.gz\n",
      "38001\t./Chr2.win7.48500001.49000000.mcmc99.newick.tsv.gz\n",
      "50945\t./Chr2.win8.49000001.49500000.mcmc99.newick.tsv.gz\n",
      "51888\t./Chr2.win9.49500001.50000000.mcmc99.newick.tsv.gz\n",
      "46111\t./Chr2.win10.50000001.50500000.mcmc99.newick.tsv.gz\n",
      "51539\t./Chr2.win11.50500001.51000000.mcmc99.newick.tsv.gz\n",
      "55917\t./Chr2.win12.51000001.51500000.mcmc99.newick.tsv.gz\n",
      "40617\t./Chr2.win13.51500001.52000000.mcmc99.newick.tsv.gz\n",
      "44470\t./Chr2.win14.52000001.52500000.mcmc99.newick.tsv.gz\n",
      "50017\t./Chr2.win15.52500001.53000000.mcmc99.newick.tsv.gz\n",
      "48969\t./Chr2.win16.53000001.53500000.mcmc99.newick.tsv.gz\n",
      "57893\t./Chr2.win17.53500001.54000000.mcmc99.newick.tsv.gz\n",
      "41919\t./Chr2.win18.54000001.54500000.mcmc99.newick.tsv.gz\n",
      "56877\t./Chr2.win19.54500001.55000000.mcmc99.newick.tsv.gz\n",
      "52809\t./Chr2.win20.55000001.55500000.mcmc99.newick.tsv.gz\n",
      "44659\t./Chr2.win21.55500001.56000000.mcmc99.newick.tsv.gz\n",
      "57418\t./Chr2.win22.56000001.56500000.mcmc99.newick.tsv.gz\n",
      "44995\t./Chr2.win23.56500001.57000000.mcmc99.newick.tsv.gz\n",
      "47734\t./Chr2.win24.57000001.57500000.mcmc99.newick.tsv.gz\n",
      "51539\t./Chr2.win25.57500001.58000000.mcmc99.newick.tsv.gz\n",
      "42075\t./Chr2.win26.58000001.58500000.mcmc99.newick.tsv.gz\n",
      "49997\t./Chr2.win27.58500001.59000000.mcmc99.newick.tsv.gz\n",
      "55076\t./Chr2.win28.59000001.59500000.mcmc99.newick.tsv.gz\n",
      "44067\t./Chr2.win29.59500001.60000000.mcmc99.newick.tsv.gz\n",
      "56423\t./Chr2.win30.60000001.60500000.mcmc99.newick.tsv.gz\n",
      "44304\t./Chr2.win31.60500001.61000000.mcmc99.newick.tsv.gz\n",
      "76247\t./Chr2.win32.61000001.61500000.mcmc99.newick.tsv.gz\n",
      "57238\t./Chr2.win33.61500001.62000000.mcmc99.newick.tsv.gz\n",
      "49163\t./Chr2.win34.62000001.62500000.mcmc99.newick.tsv.gz\n",
      "52780\t./Chr2.win35.62500001.63000000.mcmc99.newick.tsv.gz\n",
      "60260\t./Chr2.win36.63000001.63500000.mcmc99.newick.tsv.gz\n",
      "68565\t./Chr2.win37.63500001.64000000.mcmc99.newick.tsv.gz\n",
      "74677\t./Chr2.win38.64000001.64500000.mcmc99.newick.tsv.gz\n",
      "63417\t./Chr2.win39.64500001.65000000.mcmc99.newick.tsv.gz\n"
     ]
    }
   ],
   "source": [
    "## No. of trees in each chromSegment\n",
    "\n",
    "cd ~/snap_hap_repHZ/twisst/trees_sg/trees\n",
    "for windowID in {0..39};\n",
    "do\n",
    "    treeFile=(./*.win$windowID.*)\n",
    "    echo -e $(zcat $treeFile | wc -l)\"\\t\"$treeFile\n",
    "done"
   ]
  },
  {
   "cell_type": "code",
   "execution_count": null,
   "id": "07276794-8d01-4ace-94d9-30d99416c30d",
   "metadata": {},
   "outputs": [],
   "source": [
    "## Run TWISST on each chromSegment\n",
    "baseDIR=~/snap_hap_repHZ/twisst\n",
    "cd $baseDIR/trees_sg/jobs\n",
    "for windowID in {0..39}\n",
    "do\n",
    "    treeFile=($baseDIR/trees_sg/trees/Chr2.win$windowID.*)\n",
    "    # zcat $treeFile | cut -f4 | tail +2 > ${treeFile/.newick.tsv.gz/.treeList}\n",
    "    \n",
    "    popFile=$baseDIR/trees_sg/pools.AvePla.MY.n74.txt\n",
    "    outFile=$baseDIR/trees_sg/weights/$windowID.weights.csv.gz\n",
    "    \n",
    "    sbatch -J topoWt$windowID $baseDIR/_scripts/job-twisst.sbatch.sh ${treeFile/.newick.tsv.gz/.treeList} $outFile $popFile\n",
    "done"
   ]
  },
  {
   "cell_type": "code",
   "execution_count": null,
   "id": "37b6a182-38cd-46eb-b736-850d534534c0",
   "metadata": {},
   "outputs": [],
   "source": [
    "## Clean up\n",
    "#Remove the .treeList files\n",
    "# rm ~/snap_hap_repHZ/twisst/trees_sg/trees/*.treeList"
   ]
  }
 ],
 "metadata": {
  "kernelspec": {
   "display_name": "Bash",
   "language": "bash",
   "name": "bash"
  },
  "language_info": {
   "codemirror_mode": "shell",
   "file_extension": ".sh",
   "mimetype": "text/x-sh",
   "name": "bash"
  }
 },
 "nbformat": 4,
 "nbformat_minor": 5
}
