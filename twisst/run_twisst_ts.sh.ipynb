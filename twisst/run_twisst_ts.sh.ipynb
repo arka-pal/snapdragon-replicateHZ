{
 "cells": [
  {
   "cell_type": "markdown",
   "id": "41125a65-e984-4462-81a7-410a10129a78",
   "metadata": {},
   "source": [
    "# TWISST (tsinfer)\n",
    "Run twisst on tsinfer samples"
   ]
  },
  {
   "cell_type": "code",
   "execution_count": 22,
   "id": "4963afdb-a9d6-4ac8-af56-324816e29e7c",
   "metadata": {},
   "outputs": [],
   "source": [
    "export PATH=$PATH:$HOME/twisst/\n",
    "module load python\n",
    "cd ~/snap_hap_repHZ/twisst"
   ]
  },
  {
   "cell_type": "code",
   "execution_count": 8,
   "id": "42977c7a-c269-40d5-aafe-95c1f540cbb9",
   "metadata": {},
   "outputs": [
    {
     "name": "stdout",
     "output_type": "stream",
     "text": [
      "    1403765 ./misc/ts.Chr1.AvePla.all.treeList.txt\n",
      "    1573167 ./misc/ts.Chr2.AvePla.all.treeList.txt\n",
      "    1248690 ./misc/ts.Chr3.AvePla.all.treeList.txt\n",
      "    1047391 ./misc/ts.Chr4.AvePla.all.treeList.txt\n",
      "    1107574 ./misc/ts.Chr6.AvePla.all.treeList.txt\n",
      "    1054034 ./misc/ts.Chr7.AvePla.all.treeList.txt\n",
      "    1213612 ./misc/ts.Chr8.AvePla.all.treeList.txt\n",
      "    8648233 total\n"
     ]
    }
   ],
   "source": [
    "## No. of trees in each chrom OLD files\n",
    "cd ~/snap_hap_repHZ/tsinfer/newickTreeList\n",
    "wc -l ./misc/ts.Chr?.AvePla.all.treeList.txt"
   ]
  },
  {
   "cell_type": "code",
   "execution_count": 4,
   "id": "f4b09f25-b0ce-4e76-8e62-925bba257797",
   "metadata": {},
   "outputs": [
    {
     "name": "stdout",
     "output_type": "stream",
     "text": [
      "    1403766 ./misc/tsD.Chr1.AvePla.FrYe.treeList.txt\n",
      "    1573168 ./misc/tsD.Chr2.AvePla.FrYe.treeList.txt\n",
      "    1248691 ./misc/tsD.Chr3.AvePla.FrYe.treeList.txt\n",
      "    1047392 ./misc/tsD.Chr4.AvePla.FrYe.treeList.txt\n",
      "    1487198 ./misc/tsD.Chr5.AvePla.FrYe.treeList.txt\n",
      "    1107575 ./misc/tsD.Chr6.AvePla.FrYe.treeList.txt\n",
      "    1054035 ./misc/tsD.Chr7.AvePla.FrYe.treeList.txt\n",
      "    1213613 ./misc/tsD.Chr8.AvePla.FrYe.treeList.txt\n",
      "   10135438 total\n"
     ]
    }
   ],
   "source": [
    "## No. of trees in each chrom OLD files\n",
    "cd ~/snap_hap_repHZ/tsinfer/newickTreeList\n",
    "wc -l ./misc/tsD.Chr?.AvePla.FrYe.treeList.txt"
   ]
  },
  {
   "cell_type": "code",
   "execution_count": 5,
   "id": "0df031bd-430a-4e34-9ac5-f46d24f7d0d1",
   "metadata": {},
   "outputs": [
    {
     "name": "stdout",
     "output_type": "stream",
     "text": [
      "Chr1\t1403766\n",
      "Chr2\t1573168\n",
      "Chr3\t1248691\n",
      "Chr4\t1047392\n",
      "Chr5\t1487198\n",
      "Chr6\t1107575\n",
      "Chr7\t1054035\n",
      "Chr8\t1213613\n"
     ]
    }
   ],
   "source": [
    "## No. of trees in each chrom \n",
    "cd ~/snap_hap_repHZ/tsinfer/newickTreeList\n",
    "for chrom in Chr{1..8}\n",
    "do\n",
    "    num_trees=$(zcat ./tsD.$chrom.AvePla.FrYe.newick.tsv.gz | wc -l)\n",
    "    echo -e $chrom'\\t'$num_trees\n",
    "done"
   ]
  },
  {
   "cell_type": "code",
   "execution_count": 6,
   "id": "fd4cb3f2-76c6-4520-9df7-19221d9e9200",
   "metadata": {},
   "outputs": [],
   "source": [
    "## Get trees from treeList file\n",
    "cd ~/snap_hap_repHZ/tsinfer/newickTreeList\n",
    "for chrom in Chr{1..8}\n",
    "do\n",
    "    zcat ./tsD.$chrom.AvePla.FrYe.newick.tsv.gz | cut -f4 | tail +2 > ./tsD.$chrom.AvePla.FrYe.treeList\n",
    "done"
   ]
  },
  {
   "cell_type": "code",
   "execution_count": 10,
   "id": "5203a8ec-7d80-4175-9dd8-aedb4c407433",
   "metadata": {
    "editable": true,
    "slideshow": {
     "slide_type": ""
    },
    "tags": []
   },
   "outputs": [],
   "source": [
    "## TEST\n",
    "## Chr1, windowID=1, windowStart=1, windowEnd=10000\n",
    "## Run twisst in windows\n",
    "\n",
    "baseDIR=~/snap_hap_repHZ/twisst\n",
    "chrom=Chr1\n",
    "treesALL=~/snap_hap_repHZ/tsinfer/newickTreeList/ts.$chrom.AvePla.all.treeList.txt\n",
    "popFile=~/snap_hap_repHZ/samples/pools.AvePla.FrYe.n74.txt\n",
    "\n",
    "windowID=1\n",
    "windowSize=10000\n",
    "windowStart=$((($windowID-1)*$windowSize+1))\n",
    "windowEnd=$(($windowStart+$windowSize-1))\n",
    "\n",
    "treesWindow=$baseDIR/trees_tskit/trees_in_windows/$chrom.$windowID.$windowStart.$windowEnd.AvePla.all.treeList.txt\n",
    "outputWindow=$baseDIR/trees_tskit/twisst_in_windows/$chrom.$windowID.$windowStart.$windowEnd.weights.csv.gz\n",
    "\n",
    "echo -e $windowID\"\\t\"$windowStart'\\t'$windowEnd\n",
    "sed -n \"${windowStart},${windowEnd}p\" $treesALL > $treesWindow\n",
    "\n",
    "time python ~/twisst/twisst.py -t $treesWindow \\\n",
    "\t-w $outputWindow \\\n",
    "\t-g Ave_FR -g Ave_Y -g Pla_FR -g Pla_Y \\\n",
    "\t--method fixed \\\n",
    "\t--groupsFile $popFile"
   ]
  },
  {
   "cell_type": "code",
   "execution_count": null,
   "id": "03039d88-7232-493b-9314-737be3e810ed",
   "metadata": {},
   "outputs": [],
   "source": [
    "## Run TWISST in windows\n",
    "cd ~/snap_hap_repHZ/twisst/trees_tskit/jobs\n",
    "popFile=~/snap_hap_repHZ/samples/pools.AvePla.FrYe.n74.txt\n",
    "\n",
    "# Chr1: 141 windows\n",
    "chrom=Chr1\n",
    "treesALL=~/snap_hap_repHZ/tsinfer/newickTreeList/tsD.$chrom.AvePla.FrYe.treeList\n",
    "sbatch -J topo${chrom/Chr} --array=1-141 ~/snap_hap_repHZ/twisst/_scripts/job-twisst_windows.sbatch.sh $chrom $treesALL $popFile\n",
    "\n",
    "# Chr2: 158 windows\n",
    "chrom=Chr2\n",
    "treesALL=~/snap_hap_repHZ/tsinfer/newickTreeList/tsD.$chrom.AvePla.FrYe.treeList\n",
    "sbatch -J topo${chrom/Chr} --array=1-158 ~/snap_hap_repHZ/twisst/_scripts/job-twisst_windows.sbatch.sh $chrom $treesALL $popFile\n",
    "\n",
    "# Chr3: 125 windows\n",
    "chrom=Chr3\n",
    "treesALL=~/snap_hap_repHZ/tsinfer/newickTreeList/tsD.$chrom.AvePla.FrYe.treeList\n",
    "sbatch -J topo${chrom/Chr} --array=1-125 ~/snap_hap_repHZ/twisst/_scripts/job-twisst_windows.sbatch.sh $chrom $treesALL $popFile\n",
    "\n",
    "# Chr4: 105 windows\n",
    "chrom=Chr4\n",
    "treesALL=~/snap_hap_repHZ/tsinfer/newickTreeList/tsD.$chrom.AvePla.FrYe.treeList\n",
    "sbatch -J topo${chrom/Chr} --array=1-105 ~/snap_hap_repHZ/twisst/_scripts/job-twisst_windows.sbatch.sh $chrom $treesALL $popFile\n",
    "\n",
    "# Chr5: 149 windows\n",
    "chrom=Chr5\n",
    "treesALL=~/snap_hap_repHZ/tsinfer/newickTreeList/tsD.$chrom.AvePla.FrYe.treeList\n",
    "sbatch -J topo${chrom/Chr} --array=1-149 ~/snap_hap_repHZ/twisst/_scripts/job-twisst_windows.sbatch.sh $chrom $treesALL $popFile\n",
    "\n",
    "# Chr6: 111 windows\n",
    "chrom=Chr6\n",
    "treesALL=~/snap_hap_repHZ/tsinfer/newickTreeList/tsD.$chrom.AvePla.FrYe.treeList\n",
    "sbatch -J topo${chrom/Chr} --array=1-111 ~/snap_hap_repHZ/twisst/_scripts/job-twisst_windows.sbatch.sh $chrom $treesALL $popFile\n",
    "\n",
    "# Chr7: 106 windows\n",
    "chrom=Chr7\n",
    "treesALL=~/snap_hap_repHZ/tsinfer/newickTreeList/tsD.$chrom.AvePla.FrYe.treeList\n",
    "sbatch -J topo${chrom/Chr} --array=1-106 ~/snap_hap_repHZ/twisst/_scripts/job-twisst_windows.sbatch.sh $chrom $treesALL $popFile\n",
    "\n",
    "\n",
    "# Chr8: 122 windows\n",
    "chrom=Chr8\n",
    "treesALL=~/snap_hap_repHZ/tsinfer/newickTreeList/tsD.$chrom.AvePla.FrYe.treeList\n",
    "sbatch -J topo${chrom/Chr} --array=1-122 ~/snap_hap_repHZ/twisst/_scripts/job-twisst_windows.sbatch.sh $chrom $treesALL $popFile"
   ]
  },
  {
   "cell_type": "code",
   "execution_count": null,
   "id": "c8ddfd9e-c870-42b5-9a70-f5184f3766df",
   "metadata": {},
   "outputs": [],
   "source": [
    "#### DON'T RUN\n",
    "## Run TWISST whole chromosome\n",
    "for chrom in Chr{1..8}\n",
    "do\n",
    "    cut -f4 ~/snap_hap_repHZ/tsinfer/ts.$chrom.AvePla.all.trees.newick.txt | tail +2 > ~/snap_hap_repHZ/tsinfer/ts.$chrom.AvePla.all.treeList.txt\n",
    "    trees=~/snap_hap_repHZ/tsinfer/ts.$chrom.AvePla.all.treeList.txt;\n",
    "    populationFile=~/snap_hap_repHZ/samples/pools.AvePla.FrYe.n74.txt;\n",
    "    output=~/snap_hap_repHZ/twisst/$chrom.weights.csv.gz;\n",
    "    \n",
    "    sbatch -J twisst_${chrom/Chr} ~/snap_hap_repHZ/twisst/_scripts/job-twisst.sbatch.sh $trees $populationFile $output;\n",
    "done"
   ]
  }
 ],
 "metadata": {
  "kernelspec": {
   "display_name": "Bash",
   "language": "bash",
   "name": "bash"
  },
  "language_info": {
   "codemirror_mode": "shell",
   "file_extension": ".sh",
   "mimetype": "text/x-sh",
   "name": "bash"
  }
 },
 "nbformat": 4,
 "nbformat_minor": 5
}
