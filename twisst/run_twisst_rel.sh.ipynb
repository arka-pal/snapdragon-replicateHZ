{
 "cells": [
  {
   "cell_type": "markdown",
   "id": "41125a65-e984-4462-81a7-410a10129a78",
   "metadata": {},
   "source": [
    "# TWISST (Relate)\n",
    "Run twisst on relate samples"
   ]
  },
  {
   "cell_type": "code",
   "execution_count": 22,
   "id": "4963afdb-a9d6-4ac8-af56-324816e29e7c",
   "metadata": {},
   "outputs": [],
   "source": [
    "export PATH=$PATH:$HOME/twisst/\n",
    "module load python\n",
    "cd ~/snap_hap_repHZ/twisst"
   ]
  },
  {
   "cell_type": "code",
   "execution_count": null,
   "id": "273ad8d3-0b22-4f5f-9b7f-3c526465e087",
   "metadata": {},
   "outputs": [],
   "source": [
    "## Create symbolic links for Relate trees\n",
    "\n",
    "cd ~/snap_hap_repHZ/twisst/trees_relate/\n",
    "for chrom in chr{1..8}\n",
    "do\n",
    "    ln -s ~/snap_hap_repHZ/relate/newickTrees/rel_$chrom-*-*.newick.gz ./trees/$chrom.newick.gz\n",
    "done"
   ]
  },
  {
   "cell_type": "code",
   "execution_count": 2,
   "id": "0df031bd-430a-4e34-9ac5-f46d24f7d0d1",
   "metadata": {},
   "outputs": [
    {
     "name": "stdout",
     "output_type": "stream",
     "text": [
      "694286\tchr1\n",
      "755313\tchr2\n",
      "601589\tchr3\n",
      "519763\tchr4\n",
      "743650\tchr5\n",
      "550068\tchr6\n",
      "518563\tchr7\n",
      "592222\tchr8\n"
     ]
    }
   ],
   "source": [
    "## No. of trees in each chrom \n",
    "\n",
    "for chrom in chr{1..8}\n",
    "do\n",
    "    n=$(zcat ~/snap_hap_repHZ/twisst/trees_relate/trees/$chrom* | wc -l)\n",
    "    echo -e $n\"\\t\"$chrom\n",
    "done"
   ]
  },
  {
   "cell_type": "code",
   "execution_count": null,
   "id": "86b48672-b8a4-4301-9fc6-04a97bbda6f4",
   "metadata": {},
   "outputs": [],
   "source": [
    "## Run TWISST on each chromosome\n",
    "\n",
    "baseDIR=~/snap_hap_repHZ/twisst\n",
    "cd $baseDIR/trees_relate/jobs\n",
    "for chrom in chr{1..8}\n",
    "do\n",
    "    # chrom=chr1\n",
    "    trees=$baseDIR/trees_relate/trees/$chrom.newick.gz \n",
    "    outFile=$baseDIR/trees_relate/weights/$chrom.weights.csv.gz\n",
    "    popFile=$baseDIR/trees_relate/pools.AvePla.MY.n74.txt\n",
    "    sbatch -J topoWt${chrom/chr} $baseDIR/_scripts/job-twisst.sbatch.sh $trees $outFile $popFile\n",
    "done"
   ]
  }
 ],
 "metadata": {
  "kernelspec": {
   "display_name": "Bash",
   "language": "bash",
   "name": "bash"
  },
  "language_info": {
   "codemirror_mode": "shell",
   "file_extension": ".sh",
   "mimetype": "text/x-sh",
   "name": "bash"
  }
 },
 "nbformat": 4,
 "nbformat_minor": 5
}
