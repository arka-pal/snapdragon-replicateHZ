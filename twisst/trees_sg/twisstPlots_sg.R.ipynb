{
 "cells": [
  {
   "cell_type": "markdown",
   "id": "5877d3e1-9282-473f-ae07-f333cfc34b64",
   "metadata": {},
   "source": [
    "# TWISST Analysis of *Singer* trees\n",
    "AvePla-n74"
   ]
  }
 ],
 "metadata": {
  "kernelspec": {
   "display_name": "R",
   "language": "R",
   "name": "ir"
  },
  "language_info": {
   "codemirror_mode": "r",
   "file_extension": ".r",
   "mimetype": "text/x-r-source",
   "name": "R",
   "pygments_lexer": "r",
   "version": "4.3.1"
  }
 },
 "nbformat": 4,
 "nbformat_minor": 5
}
