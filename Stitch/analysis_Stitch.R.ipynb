{
 "cells": [
  {
   "cell_type": "markdown",
   "id": "2bd334e5-8231-4cd8-87ff-11e2bed033aa",
   "metadata": {},
   "source": [
    "# Analysis of Stitch results"
   ]
  },
  {
   "cell_type": "code",
   "execution_count": 1,
   "id": "a8ea0828-52aa-4176-afcd-fc660df6d26d",
   "metadata": {},
   "outputs": [],
   "source": [
    "library(data.table)"
   ]
  },
  {
   "cell_type": "markdown",
   "id": "5cf76dc6-3045-48ad-9c20-2f0e2e18b0b1",
   "metadata": {},
   "source": [
    "## Read stitch files"
   ]
  },
  {
   "cell_type": "code",
   "execution_count": 9,
   "id": "43f3cab0-2aef-4898-9b96-e9383cdf7181",
   "metadata": {},
   "outputs": [],
   "source": [
    "colNames = c('CHROM', 'POS', 'EAF', 'INFO', 'HWE', 'ERC', 'EAC', 'PAF', 'AN', 'AC')"
   ]
  },
  {
   "cell_type": "code",
   "execution_count": 10,
   "id": "ef743267-cf6e-4064-873b-7425c4ee5375",
   "metadata": {},
   "outputs": [],
   "source": [
    "chr1 = fread('~/snap_hap_repHZ/Stitch/Chr1/Chr1.AvePla.stitch.SnpOnly.final.params')\n",
    "colnames(chr1) = colNames\n",
    "\n",
    "chr2 = fread('~/snap_hap_repHZ/Stitch/Chr2/Chr2.AvePla.stitch.SnpOnly.final.params')\n",
    "colnames(chr2) = colNames\n",
    "\n",
    "chr3 = fread('~/snap_hap_repHZ/Stitch/Chr3/Chr3.AvePla.stitch.SnpOnly.final.params')\n",
    "colnames(chr3) = colNames\n",
    "\n",
    "chr4 = fread('~/snap_hap_repHZ/Stitch/Chr4/Chr4.AvePla.stitch.SnpOnly.final.params')\n",
    "colnames(chr4) = colNames\n",
    "\n",
    "chr5 = fread('~/snap_hap_repHZ/Stitch/Chr5/Chr5.AvePla.stitch.SnpOnly.final.params')\n",
    "colnames(chr5) = colNames\n",
    "\n",
    "chr6 = fread('~/snap_hap_repHZ/Stitch/Chr6/Chr6.AvePla.stitch.SnpOnly.final.params')\n",
    "colnames(chr6) = colNames\n",
    "\n",
    "chr7 = fread('~/snap_hap_repHZ/Stitch/Chr7/Chr7.AvePla.stitch.SnpOnly.final.params')\n",
    "colnames(chr7) = colNames\n",
    "\n",
    "chr8 = fread('~/snap_hap_repHZ/Stitch/Chr8/Chr8.AvePla.stitch.SnpOnly.final.params')\n",
    "colnames(chr8) = colNames"
   ]
  },
  {
   "cell_type": "code",
   "execution_count": 16,
   "id": "c745911c-4dc0-4e94-a07d-72f6bde67658",
   "metadata": {},
   "outputs": [],
   "source": [
    "all = rbind(chr1, chr2, chr3, chr4, chr5, chr6, chr7, chr8)\n",
    "all[, CHROM:=as.factor(CHROM)]"
   ]
  },
  {
   "cell_type": "code",
   "execution_count": 17,
   "id": "0e234cc7-e22f-4b2d-96fb-c48a98c98d04",
   "metadata": {},
   "outputs": [
    {
     "name": "stdout",
     "output_type": "stream",
     "text": [
      "Classes ‘data.table’ and 'data.frame':\t11533030 obs. of  10 variables:\n",
      " $ CHROM: Factor w/ 8 levels \"Chr1\",\"Chr2\",..: 1 1 1 1 1 1 1 1 1 1 ...\n",
      " $ POS  : int  4912 4932 4985 4997 4998 5010 5018 5270 5274 5278 ...\n",
      " $ EAF  : num  0.438 0.438 0.446 0.433 0.451 ...\n",
      " $ INFO : num  0.868 0.892 0.891 0.879 0.895 ...\n",
      " $ HWE  : num  1.25e-01 1.56e-02 1.25e-01 8.05e-02 7.95e-02 1.00 5.54e-04 4.71e-03 1.05e-05 1.05e-05 ...\n",
      " $ ERC  : num  9 6.01 13 11 12 ...\n",
      " $ EAC  : num  14 19 13 12 12 ...\n",
      " $ PAF  : num  0.392 0.241 0.5 0.479 0.5 ...\n",
      " $ AN   : int  172 172 172 172 172 172 172 172 172 172 ...\n",
      " $ AC   : int  75 75 75 72 76 1 19 27 29 143 ...\n",
      " - attr(*, \".internal.selfref\")=<externalptr> \n"
     ]
    }
   ],
   "source": [
    "str(all)"
   ]
  },
  {
   "cell_type": "markdown",
   "id": "01e58df3-373a-42df-bb44-031ed478daa1",
   "metadata": {},
   "source": [
    "## Report params"
   ]
  },
  {
   "cell_type": "code",
   "execution_count": 18,
   "id": "47772d49-cade-4d8a-939d-0042b2150ba8",
   "metadata": {
    "collapsed": true,
    "jupyter": {
     "outputs_hidden": true,
     "source_hidden": true
    }
   },
   "outputs": [
    {
     "data": {
      "text/html": [
       "<style>\n",
       ".list-inline {list-style: none; margin:0; padding: 0}\n",
       ".list-inline>li {display: inline-block}\n",
       ".list-inline>li:not(:last-child)::after {content: \"\\00b7\"; padding: 0 .5ex}\n",
       "</style>\n",
       "<ol class=list-inline><li>'Chr1'</li><li>'Chr2'</li><li>'Chr3'</li><li>'Chr4'</li><li>'Chr5'</li><li>'Chr6'</li><li>'Chr7'</li><li>'Chr8'</li></ol>\n"
      ],
      "text/latex": [
       "\\begin{enumerate*}\n",
       "\\item 'Chr1'\n",
       "\\item 'Chr2'\n",
       "\\item 'Chr3'\n",
       "\\item 'Chr4'\n",
       "\\item 'Chr5'\n",
       "\\item 'Chr6'\n",
       "\\item 'Chr7'\n",
       "\\item 'Chr8'\n",
       "\\end{enumerate*}\n"
      ],
      "text/markdown": [
       "1. 'Chr1'\n",
       "2. 'Chr2'\n",
       "3. 'Chr3'\n",
       "4. 'Chr4'\n",
       "5. 'Chr5'\n",
       "6. 'Chr6'\n",
       "7. 'Chr7'\n",
       "8. 'Chr8'\n",
       "\n",
       "\n"
      ],
      "text/plain": [
       "[1] \"Chr1\" \"Chr2\" \"Chr3\" \"Chr4\" \"Chr5\" \"Chr6\" \"Chr7\" \"Chr8\""
      ]
     },
     "metadata": {},
     "output_type": "display_data"
    }
   ],
   "source": [
    "levels(all$CHROM)"
   ]
  },
  {
   "cell_type": "code",
   "execution_count": 31,
   "id": "0f807538-5e99-46e0-948e-e6e9b3eeff01",
   "metadata": {},
   "outputs": [
    {
     "name": "stdout",
     "output_type": "stream",
     "text": [
      "8705 \n",
      "9678 \n",
      "7279 \n",
      "6987 \n",
      "8338 \n",
      "7978 \n",
      "6748 \n",
      "7797 \n"
     ]
    }
   ],
   "source": [
    "## No. of sites with INFO = 1\n",
    "for (chr in levels(all$CHROM)){\n",
    "    # cat(chr)\n",
    "    cat(nrow(all[CHROM == chr & INFO == 1]), '\\n')\n",
    "}"
   ]
  },
  {
   "cell_type": "code",
   "execution_count": 32,
   "id": "b4b2b28b-b57a-419c-af4d-cbca65224596",
   "metadata": {},
   "outputs": [
    {
     "name": "stdout",
     "output_type": "stream",
     "text": [
      "1513653 \n",
      "1687534 \n",
      "1337677 \n",
      "1113354 \n",
      "1620769 \n",
      "1179673 \n",
      "1122133 \n",
      "1298210 \n"
     ]
    }
   ],
   "source": [
    "## No. of sites with INFO >= 0.8\n",
    "for (chr in levels(all$CHROM)){\n",
    "    # cat(chr)\n",
    "    cat(nrow(all[CHROM == chr & INFO >= 0.8]), '\\n')\n",
    "}"
   ]
  },
  {
   "cell_type": "code",
   "execution_count": 33,
   "id": "d2fcb1e7-785c-4d63-aa71-2d93ca387477",
   "metadata": {},
   "outputs": [
    {
     "name": "stdout",
     "output_type": "stream",
     "text": [
      "1591645 \n",
      "1771294 \n",
      "1407575 \n",
      "1172944 \n",
      "1709468 \n",
      "1240805 \n",
      "1182153 \n",
      "1367393 \n"
     ]
    }
   ],
   "source": [
    "## No. of sites with INFO >= 0.6\n",
    "for (chr in levels(all$CHROM)){\n",
    "    # cat(chr)\n",
    "    cat(nrow(all[CHROM == chr & INFO >= 0.6]), '\\n')\n",
    "}"
   ]
  },
  {
   "cell_type": "code",
   "execution_count": 34,
   "id": "32209f83-ec43-44e6-8080-003965a9c194",
   "metadata": {},
   "outputs": [
    {
     "name": "stdout",
     "output_type": "stream",
     "text": [
      "1603122 \n",
      "1783371 \n",
      "1418146 \n",
      "1181786 \n",
      "1721550 \n",
      "1249753 \n",
      "1190747 \n",
      "1377746 \n"
     ]
    }
   ],
   "source": [
    "## No. of sites with INFO >= 0.4\n",
    "for (chr in levels(all$CHROM)){\n",
    "    # cat(chr)\n",
    "    cat(nrow(all[CHROM == chr & INFO >= 0.4]), '\\n')\n",
    "}"
   ]
  },
  {
   "cell_type": "code",
   "execution_count": 35,
   "id": "905bbafe-b5fc-43a6-8732-259444092a4b",
   "metadata": {},
   "outputs": [
    {
     "name": "stdout",
     "output_type": "stream",
     "text": [
      "1604076 \n",
      "1784404 \n",
      "1418979 \n",
      "1182549 \n",
      "1722537 \n",
      "1250481 \n",
      "1191400 \n",
      "1378515 \n"
     ]
    }
   ],
   "source": [
    "## No. of sites with INFO >= 0.2\n",
    "for (chr in levels(all$CHROM)){\n",
    "    # cat(chr)\n",
    "    cat(nrow(all[CHROM == chr & INFO >= 0.2]), '\\n')\n",
    "}"
   ]
  },
  {
   "cell_type": "markdown",
   "id": "3a283216-cbdf-4ebe-92fd-a0dc789ea647",
   "metadata": {},
   "source": [
    "## Correlation between obs and exp allele frequency"
   ]
  },
  {
   "cell_type": "code",
   "execution_count": 40,
   "id": "e2e90247-a934-4421-bd27-0c384370fa1e",
   "metadata": {},
   "outputs": [
    {
     "name": "stdout",
     "output_type": "stream",
     "text": [
      "[1] 0.8704462\n",
      "[1] 0.8619218\n",
      "[1] 0.8801583\n",
      "[1] 0.849919\n",
      "[1] 0.872981\n",
      "[1] 0.8574326\n",
      "[1] 0.8650633\n",
      "[1] 0.8622684\n"
     ]
    }
   ],
   "source": [
    "## No. of sites with INFO >= 0.2\n",
    "for (chr in levels(all$CHROM)){\n",
    "    # cat(chr)\n",
    "    print(cor(all[CHROM == chr]$EAF, all[CHROM == chr]$PAF)^2)\n",
    "}"
   ]
  },
  {
   "cell_type": "code",
   "execution_count": 41,
   "id": "133448b1-3734-429c-9077-3b863bcc323a",
   "metadata": {},
   "outputs": [
    {
     "data": {
      "text/html": [
       "0.866789929453479"
      ],
      "text/latex": [
       "0.866789929453479"
      ],
      "text/markdown": [
       "0.866789929453479"
      ],
      "text/plain": [
       "[1] 0.8667899"
      ]
     },
     "metadata": {},
     "output_type": "display_data"
    }
   ],
   "source": [
    "cor(all$EAF, all$PAF)^2"
   ]
  }
 ],
 "metadata": {
  "kernelspec": {
   "display_name": "R",
   "language": "R",
   "name": "ir"
  },
  "language_info": {
   "codemirror_mode": "r",
   "file_extension": ".r",
   "mimetype": "text/x-r-source",
   "name": "R",
   "pygments_lexer": "r",
   "version": "4.3.1"
  }
 },
 "nbformat": 4,
 "nbformat_minor": 5
}
