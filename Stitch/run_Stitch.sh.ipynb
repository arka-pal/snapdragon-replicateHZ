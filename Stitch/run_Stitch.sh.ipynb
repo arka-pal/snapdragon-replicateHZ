{
 "cells": [
  {
   "cell_type": "markdown",
   "id": "fb837ab5-feeb-4849-99c9-5aef6fc7f230",
   "metadata": {},
   "source": [
    "# Run STITCH on AvePla"
   ]
  },
  {
   "cell_type": "code",
   "execution_count": 2,
   "id": "f2a1f660-0851-4503-b87d-5a7fe49547c2",
   "metadata": {},
   "outputs": [
    {
     "name": "stdout",
     "output_type": "stream",
     "text": [
      "Usage:\n",
      "\tSTITCH.R --help\n",
      "\n",
      "\n",
      "The following have been reloaded with a version change:\n",
      "  1) R/4.4.1 => R/4.3.2     2) java/jdk/17 => java/17\n",
      "\n",
      "\n",
      "Currently Loaded Modules:\n",
      "  1) git/2.35.1                      12) htslib/1.18\n",
      "  2) gcc/13.2                   (T)  13) samtools/1.18\n",
      "  3) rstudio/2023.12.1-402           14) java/17\n",
      "  4) nodejs/21.7.2                   15) texlive/20211108\n",
      "  5) julia/1.10.1                    16) gdal/3.4.2\n",
      "  6) jupyterhub/1.0             (T)  17) glpk/5.0\n",
      "  7) gmp/6.3.0                       18) hdf5/1.14.2\n",
      "  8) compression-tools/20220329      19) netcdf/4.9.2\n",
      "  9) GSL/2.7                         20) R/4.3.2\n",
      " 10) perl/5.38.0                     21) stitch/1.6.10\n",
      " 11) bcftools/1.18\n",
      "\n",
      "  Where:\n",
      "   T:  Testing\n",
      "\n",
      " \n",
      "\n"
     ]
    }
   ],
   "source": [
    "module load bcftools\n",
    "module load stitch\n",
    "module list"
   ]
  },
  {
   "cell_type": "markdown",
   "id": "bd7d56f4-19af-462a-8e41-3643d5083e06",
   "metadata": {},
   "source": [
    "## No. of putative variant sites for each chromosome "
   ]
  },
  {
   "cell_type": "code",
   "execution_count": 1,
   "id": "4e382ad0-4232-4f2e-bd1a-25aea6b3f75c",
   "metadata": {},
   "outputs": [
    {
     "name": "stdout",
     "output_type": "stream",
     "text": [
      "  1610316 /nfs/scistore18/bartogrp/apal/snap_hap_repHZ/Stitch/Chr1/Chr1.AvePla.biSNPs.filtered.missLT80.pos\n",
      "  1790609 /nfs/scistore18/bartogrp/apal/snap_hap_repHZ/Stitch/Chr2/Chr2.AvePla.biSNPs.filtered.missLT80.pos\n",
      "  1424535 /nfs/scistore18/bartogrp/apal/snap_hap_repHZ/Stitch/Chr3/Chr3.AvePla.biSNPs.filtered.missLT80.pos\n",
      "  1186579 /nfs/scistore18/bartogrp/apal/snap_hap_repHZ/Stitch/Chr4/Chr4.AvePla.biSNPs.filtered.missLT80.pos\n",
      "  1728443 /nfs/scistore18/bartogrp/apal/snap_hap_repHZ/Stitch/Chr5/Chr5.AvePla.biSNPs.filtered.missLT80.pos\n",
      "  1254284 /nfs/scistore18/bartogrp/apal/snap_hap_repHZ/Stitch/Chr6/Chr6.AvePla.biSNPs.filtered.missLT80.pos\n",
      "  1195630 /nfs/scistore18/bartogrp/apal/snap_hap_repHZ/Stitch/Chr7/Chr7.AvePla.biSNPs.filtered.missLT80.pos\n",
      "  1384030 /nfs/scistore18/bartogrp/apal/snap_hap_repHZ/Stitch/Chr8/Chr8.AvePla.biSNPs.filtered.missLT80.pos\n",
      " 11574426 total\n"
     ]
    }
   ],
   "source": [
    "wc -l ~/snap_hap_repHZ/Stitch/Chr?/*pos"
   ]
  },
  {
   "cell_type": "markdown",
   "id": "fc373909-975c-4646-bcab-4f6f9cc1930e",
   "metadata": {},
   "source": [
    "## STITCH variables"
   ]
  },
  {
   "cell_type": "code",
   "execution_count": null,
   "id": "95967de2-635d-4178-9f26-bf0782e53b2b",
   "metadata": {},
   "outputs": [],
   "source": [
    "K=75\n",
    "downsampleToCov=20\n",
    "bx_tag=TRUE\n",
    "ngen=100\n",
    "niter=40\n",
    "expRate=0.5\n",
    "plot=FALSE\n",
    "bamlist=~/snap_hap/sample_info/bam_info/bams_Am_all.txt\n",
    "outputDIR=$stitchDIR/$chrom/stitch_chromSegments/$(basename ${posfile/.pos})_K${K}_cov${downsampleToCov}_bxTRUE_niter${niter}_ngen${ngen}_r${expRate}_plotFALSE"
   ]
  },
  {
   "cell_type": "raw",
   "id": "ef05cd51-c704-4830-9974-aa4444fa4804",
   "metadata": {},
   "source": [
    "No. of segments for each chromosome:\n",
    "\n",
    "Chr1 71919034: 72 segments\n",
    "Chr2 77118269: 78 segments\n",
    "Chr3 65231163: 66 segments\n",
    "Chr4 54887108: 55 segments\n",
    "Chr5 71106538: 72 segments\n",
    "Chr6 55699338: 56 segments\n",
    "Chr7 55564713: 56 segments\n",
    "Chr8 57431585: 58 segments"
   ]
  },
  {
   "cell_type": "markdown",
   "id": "1b8a5921-3599-40f6-8865-f56ddc78b548",
   "metadata": {},
   "source": [
    "## Test Run: Chr6:52000000-53000000"
   ]
  },
  {
   "cell_type": "code",
   "execution_count": null,
   "id": "d4a2b8d5-0d25-40d7-b5d2-9def7df6e9c5",
   "metadata": {},
   "outputs": [],
   "source": [
    "chrom=Chr6\n",
    "K=75\n",
    "downsampleToCov=10\n",
    "bx_tag=TRUE\n",
    "ngen=100\n",
    "niter=40\n",
    "expRate=0.5\n",
    "plot=FALSE\n",
    "bamlist=~/snap_hap_repHZ/SnpCalls/AvePla.bams.list\n",
    "posfile=~/snap_hap_repHZ/Stitch/Chr6/Chr6.AvePla.biSNPs.filtered.missLT80.pos\n",
    "outputDIR=~/snap_hap_repHZ/Stitch/Chr6\n",
    "\n",
    "chromStart=52000000\n",
    "chromEnd=53000000\n",
    "buffer=10000\n",
    "\n",
    "STITCH.R --chr=$chrom \\\n",
    "    --regionStart=$chromStart \\\n",
    "    --regionEnd=$chromEnd \\\n",
    "    --buffer=$buffer \\\n",
    "    --K=$K \\\n",
    "    --downsampleToCov=$downsampleToCov \\\n",
    "    --use_bx_tag=TRUE \\\n",
    "    --niterations=$niter \\\n",
    "    --expRate=$expRate  \\\n",
    "    --nGen=$ngen \\\n",
    "    --plotAfterImputation=FALSE \\\n",
    "    --plotHapSumDuringIterations=FALSE \\\n",
    "    --plot_shuffle_haplotype_attempts=FALSE \\\n",
    "    --bamlist=$bamlist \\\n",
    "    --posfile=$posfile \\\n",
    "    --outputdir=$outputDIR \\\n",
    "    --nCores=10\n",
    "\n",
    "\n",
    "--regionStart=$chromStart \\\n",
    "--regionEnd=$chromEnd \\\n",
    "--buffer=$buffer \\"
   ]
  },
  {
   "cell_type": "markdown",
   "id": "d0b16390-39a0-4a50-afb5-11f8b77061b5",
   "metadata": {},
   "source": [
    "## Cluster implementation"
   ]
  },
  {
   "cell_type": "code",
   "execution_count": null,
   "id": "d36fc0c3-371a-4720-9b7a-3683a9dca7f4",
   "metadata": {},
   "outputs": [],
   "source": [
    "baseDIR=~/snap_hap_repHZ/Stitch/\n",
    "buffer=100000\n",
    "K=75\n",
    "cov=10 \n",
    "use_bx_tag=TRUE\n",
    "ngen=100\n",
    "niter=40 \n",
    "expRate=0.5 \n",
    "plot=FALSE\n",
    "\n",
    "chrom=Chr1 ## ALL DONE\n",
    "cd $baseDIR/$chrom\n",
    "sbatch --array=2-72 -J imp1 ~/snap_hap_repHZ/Stitch/_scripts/Stitch.sbatch.sh $chrom $buffer $K $cov ${use_bx_tag} $ngen $niter $expRate $plot\n",
    "\n",
    "chrom=Chr2\n",
    "cd $baseDIR/$chrom\n",
    "sbatch --array=72-75,2-3 -J imp2 ~/snap_hap_repHZ/Stitch/_scripts/Stitch.sbatch.sh $chrom $buffer $K $cov ${use_bx_tag} $ngen $niter $expRate $plot\n",
    "# sbatch --array=1-78 -J imp2 ~/snap_hap_repHZ/Stitch/_scripts/Stitch.sbatch.sh $chrom $buffer $K $cov ${use_bx_tag} $ngen $niter $expRate $plot\n",
    "\n",
    "chrom=Chr3\n",
    "cd $baseDIR/$chrom\n",
    "sbatch --array=2,62-65 -J imp3 ~/snap_hap_repHZ/Stitch/_scripts/Stitch.sbatch.sh $chrom $buffer $K $cov ${use_bx_tag} $ngen $niter $expRate $plot\n",
    "# sbatch --array=1-66 -J imp3 ~/snap_hap_repHZ/Stitch/_scripts/Stitch.sbatch.sh $chrom $buffer $K $cov ${use_bx_tag} $ngen $niter $expRate $plot\n",
    "\n",
    "chrom=Chr4\n",
    "cd $baseDIR/$chrom\n",
    "sbatch --array=1-55 -J imp4 ~/snap_hap_repHZ/Stitch/_scripts/Stitch.sbatch.sh $chrom $buffer $K $cov ${use_bx_tag} $ngen $niter $expRate $plot\n",
    "\n",
    "chrom=Chr5\n",
    "cd $baseDIR/$chrom\n",
    "sbatch --array=2-4,70-72 -J imp5 ~/snap_hap_repHZ/Stitch/_scripts/Stitch.sbatch.sh $chrom $buffer $K $cov ${use_bx_tag} $ngen $niter $expRate $plot\n",
    "# sbatch --array=1-72 -J imp5 ~/snap_hap_repHZ/Stitch/_scripts/Stitch.sbatch.sh $chrom $buffer $K $cov ${use_bx_tag} $ngen $niter $expRate $plot\n",
    "\n",
    "chrom=Chr6\n",
    "cd $baseDIR/$chrom\n",
    "sbatch --array=1-56 -J imp6 ~/snap_hap_repHZ/Stitch/_scripts/Stitch.sbatch.sh $chrom $buffer $K $cov ${use_bx_tag} $ngen $niter $expRate $plot\n",
    "\n",
    "chrom=Chr7\n",
    "cd $baseDIR/$chrom\n",
    "sbatch --array=55,52 -J imp7 ~/snap_hap_repHZ/Stitch/_scripts/Stitch.sbatch.sh $chrom $buffer $K $cov ${use_bx_tag} $ngen $niter $expRate $plot\n",
    "# sbatch --array=1-56 -J imp7 ~/snap_hap_repHZ/Stitch/_scripts/Stitch.sbatch.sh $chrom $buffer $K $cov ${use_bx_tag} $ngen $niter $expRate $plot\n",
    "\n",
    "chrom=Chr8\n",
    "cd $baseDIR/$chrom\n",
    "sbatch --array=54-57 -J imp8 ~/snap_hap_repHZ/Stitch/_scripts/Stitch.sbatch.sh $chrom $buffer $K $cov ${use_bx_tag} $ngen $niter $expRate $plot\n",
    "# sbatch --array=1-58 -J imp8 ~/snap_hap_repHZ/Stitch/_scripts/Stitch.sbatch.sh $chrom $buffer $K $cov ${use_bx_tag} $ngen $niter $expRate $plot"
   ]
  },
  {
   "cell_type": "markdown",
   "id": "441ea2c4-2af6-4bae-a98e-ada580abda57",
   "metadata": {},
   "source": [
    "## Postprocessing"
   ]
  },
  {
   "cell_type": "code",
   "execution_count": null,
   "id": "882e072c-ffae-4c81-bed9-8751fb030268",
   "metadata": {},
   "outputs": [],
   "source": [
    "## Change PATH\n",
    "export PATH=~/.local/bin:$PATH\n",
    "\n",
    "baseDIR=~/snap_hap_repHZ/Stitch\n",
    "chrom=Chr6\n",
    "\n",
    "stitchVcfList=$baseDIR/$chrom/stitchVCFs.highConf.list\n",
    "outVCF=$baseDIR/$chrom/$chrom.AvePla.stitch.vcf.gz\n",
    "realpath $baseDIR/$chrom/stitch_chromSegments/*/stitch.*.vcf.gz  > $stitchVcfList\n",
    "\n",
    "for vcf in `cat $stitchVcfList`; do echo $vcf; bcftools tabix $vcf; done\n",
    "bcftools concat --allow-overlaps --threads 4 -Oz -o $outVCF -f $stitchVcfList\n",
    "\n",
    "time bash ~/snap_hap/_scripts/bash/stitch/add_PG_PL.sh $outVCF\n",
    "\n",
    "time bash ~/snap_hap/_scripts/bash/fill-AC-AN_vcfgzFormat.sh $outVCF\n",
    "time bash ~/snap_hap/_scripts/bash/fill-AC-AN_vcfgzFormat.sh ${outVCF/.vcf.gz/.PL.vcf.gz}\n",
    "\n",
    "## Keep only variant sites\n",
    "time bcftools view -e 'AC==0 | AC==AN' -Oz -o ${outVCF/.vcf.gz/.SnpOnly.final.vcf.gz} ${outVCF/.vcf.gz/.PL.tagged.vcf.gz}\n",
    "\n",
    "## Extract STITCH parameters\n",
    "time bcftools query -f \"%CHROM\\t%POS\\t%EAF\\t%INFO_SCORE\\t%HWE\\t%ERC\\t%EAC\\t%PAF\\t%AN\\t%AC\" ${outVCF/.vcf.gz/.SnpOnly.final.vcf.gz} > ${outVCF/.vcf.gz/.SnpOnly.final.params.info}\n",
    "\n",
    "# ## Calculate missing genotypes per site and individual\n",
    "# echo -e '\\nCalculating fraction of missing data'\n",
    "# time vcftools --gzvcf $outVCF --missing-indv --out ${chrom}_missing-indv\n",
    "# time vcftools --gzvcf $outVCF --missing-site --out ${chrom}_missing-site\n",
    "\n",
    "# ## Calculate heterozygosity per individual\n",
    "# echo -e '\\nCalculating heterozygosity'\n",
    "# time vcftools --gzvcf $outVCF --het --out ${chrom}_het-indv"
   ]
  },
  {
   "cell_type": "markdown",
   "id": "456daa31-43ae-470a-9ef6-92e0cb623a61",
   "metadata": {},
   "source": [
    "## Concatenate all Stitch Vcfs"
   ]
  },
  {
   "cell_type": "code",
   "execution_count": null,
   "id": "b7729521-eee9-4e85-9ba4-a4dd268a2279",
   "metadata": {},
   "outputs": [],
   "source": [
    "baseDIR=~/snap_hap_repHZ\n",
    "cd $baseDIR\n",
    "\n",
    "bcftools concat -a --threads 8 $baseDIR/Stitch/Chr?/Chr?.AvePla.stitch.SnpOnly.final.vcf.gz -Oz -o $baseDIR/Stitch/AvePla.stitch.SnpOnly.final.vcf.gz\n",
    "bcftools tabix $baseDIR/Stitch/AvePla.stitch.SnpOnly.final.vcf.gz"
   ]
  },
  {
   "cell_type": "code",
   "execution_count": null,
   "id": "7dc1e25b-1916-4fd0-8bb9-fc679a3285cc",
   "metadata": {},
   "outputs": [],
   "source": [
    "bcftools view -S $baseDIR/samples/samples.AvePla.sorted.txt ./AvePla.stitch.SnpOnly.final.vcf.gz -Oz -o ./AvePla.stitch.SnpOnly.final.sorted.vcf.gz\n",
    "bcftools tabix $baseDIR/Stitch/AvePla.stitch.SnpOnly.final.sorted.vcf.gz"
   ]
  },
  {
   "cell_type": "markdown",
   "id": "0cb74650-76be-44c9-b37a-5323160cf18a",
   "metadata": {},
   "source": [
    "## Final no. of sites"
   ]
  },
  {
   "cell_type": "code",
   "execution_count": 4,
   "id": "2cd646e1-65f4-4e7a-b00b-280d037fd9d7",
   "metadata": {},
   "outputs": [
    {
     "name": "stdout",
     "output_type": "stream",
     "text": [
      "  1610316 /nfs/scistore18/bartogrp/apal/snap_hap_repHZ/Stitch/Chr1/Chr1.AvePla.stitch.PL.params\n",
      "  1790609 /nfs/scistore18/bartogrp/apal/snap_hap_repHZ/Stitch/Chr2/Chr2.AvePla.stitch.PL.params\n",
      "  1424535 /nfs/scistore18/bartogrp/apal/snap_hap_repHZ/Stitch/Chr3/Chr3.AvePla.stitch.PL.params\n",
      "  1186579 /nfs/scistore18/bartogrp/apal/snap_hap_repHZ/Stitch/Chr4/Chr4.AvePla.stitch.PL.params\n",
      "  1728440 /nfs/scistore18/bartogrp/apal/snap_hap_repHZ/Stitch/Chr5/Chr5.AvePla.stitch.PL.params\n",
      "  1254284 /nfs/scistore18/bartogrp/apal/snap_hap_repHZ/Stitch/Chr6/Chr6.AvePla.stitch.PL.params\n",
      "  1195630 /nfs/scistore18/bartogrp/apal/snap_hap_repHZ/Stitch/Chr7/Chr7.AvePla.stitch.PL.params\n",
      "  1384030 /nfs/scistore18/bartogrp/apal/snap_hap_repHZ/Stitch/Chr8/Chr8.AvePla.stitch.PL.params\n",
      " 11574423 total\n"
     ]
    }
   ],
   "source": [
    "## Initial no. of sites (should match the .pos files)\n",
    "wc -l ~/snap_hap_repHZ/Stitch/Chr?/*PL.params"
   ]
  },
  {
   "cell_type": "code",
   "execution_count": 5,
   "id": "577ca1f4-ec55-4ce9-93b8-c1edbbbdf959",
   "metadata": {},
   "outputs": [
    {
     "name": "stdout",
     "output_type": "stream",
     "text": [
      "  1604082 /nfs/scistore18/bartogrp/apal/snap_hap_repHZ/Stitch/Chr1/Chr1.AvePla.stitch.SnpOnly.final.params\n",
      "  1784414 /nfs/scistore18/bartogrp/apal/snap_hap_repHZ/Stitch/Chr2/Chr2.AvePla.stitch.SnpOnly.final.params\n",
      "  1419010 /nfs/scistore18/bartogrp/apal/snap_hap_repHZ/Stitch/Chr3/Chr3.AvePla.stitch.SnpOnly.final.params\n",
      "  1182552 /nfs/scistore18/bartogrp/apal/snap_hap_repHZ/Stitch/Chr4/Chr4.AvePla.stitch.SnpOnly.final.params\n",
      "  1722552 /nfs/scistore18/bartogrp/apal/snap_hap_repHZ/Stitch/Chr5/Chr5.AvePla.stitch.SnpOnly.final.params\n",
      "  1250488 /nfs/scistore18/bartogrp/apal/snap_hap_repHZ/Stitch/Chr6/Chr6.AvePla.stitch.SnpOnly.final.params\n",
      "  1191405 /nfs/scistore18/bartogrp/apal/snap_hap_repHZ/Stitch/Chr7/Chr7.AvePla.stitch.SnpOnly.final.params\n",
      "  1378527 /nfs/scistore18/bartogrp/apal/snap_hap_repHZ/Stitch/Chr8/Chr8.AvePla.stitch.SnpOnly.final.params\n",
      " 11533030 total\n"
     ]
    }
   ],
   "source": [
    "## Final no. of sites (after removing invariant sites)\n",
    "wc -l ~/snap_hap_repHZ/Stitch/Chr?/*final.params"
   ]
  }
 ],
 "metadata": {
  "kernelspec": {
   "display_name": "Bash",
   "language": "bash",
   "name": "bash"
  },
  "language_info": {
   "codemirror_mode": "shell",
   "file_extension": ".sh",
   "mimetype": "text/x-sh",
   "name": "bash"
  }
 },
 "nbformat": 4,
 "nbformat_minor": 5
}
