{
 "cells": [
  {
   "cell_type": "markdown",
   "id": "ec5b03ee-e06d-4017-be4f-92f57ffff76d",
   "metadata": {},
   "source": [
    "# Make pos file for all chromosomes"
   ]
  },
  {
   "cell_type": "code",
   "execution_count": 1,
   "id": "90ab896d-59df-4f83-94d7-8a186100fa88",
   "metadata": {},
   "outputs": [],
   "source": [
    "source ~/.bashrc\n",
    "# module load bcftools"
   ]
  },
  {
   "cell_type": "code",
   "execution_count": 2,
   "id": "24c38ec6-9268-44f5-ae7a-dcdc97988c83",
   "metadata": {},
   "outputs": [],
   "source": [
    "baseDIR='/nfs/scistore18/bartogrp/apal/snap_hap_repHZ/ancestral_alleles'"
   ]
  },
  {
   "cell_type": "markdown",
   "id": "e32aca60-2cc3-4545-9bce-5ef27bef08df",
   "metadata": {},
   "source": [
    "## Make pos file for all chromosomes"
   ]
  },
  {
   "cell_type": "code",
   "execution_count": null,
   "id": "8197257b-abc0-45bc-9f90-2afb641de12a",
   "metadata": {
    "scrolled": true
   },
   "outputs": [],
   "source": [
    "baseDIR='/nfs/scistore18/bartogrp/apal/snap_hap_repHZ/ancestral_alleles'\n",
    "for chrom in Chr{1..8}\n",
    "do\n",
    "    vcf=~/snap_hap_repHZ/statphase/AvePla_FrYe/$chrom.AvePla.FrYe.sorted.statphased.vcf.gz\n",
    "    echo $chrom $vcf\n",
    "    time bcftools query -f '%CHROM\\t%POS\\t%REF\\t%ALT\\t%AN\\t%AC' $vcf -o $baseDIR/pos/$chrom.AvePla.FrYe.statphased.pos\n",
    "done"
   ]
  },
  {
   "cell_type": "code",
   "execution_count": 4,
   "id": "c953844b-45e2-4e91-9dd3-0aed035b5825",
   "metadata": {},
   "outputs": [
    {
     "name": "stdout",
     "output_type": "stream",
     "text": [
      "Chr1 1604082 /nfs/scistore18/bartogrp/apal/snap_hap_repHZ/ancestral_alleles/pos/Chr1.AvePla.FrYe.statphased.pos\n",
      "Chr2 1784414 /nfs/scistore18/bartogrp/apal/snap_hap_repHZ/ancestral_alleles/pos/Chr2.AvePla.FrYe.statphased.pos\n",
      "Chr3 1419010 /nfs/scistore18/bartogrp/apal/snap_hap_repHZ/ancestral_alleles/pos/Chr3.AvePla.FrYe.statphased.pos\n",
      "Chr4 1182552 /nfs/scistore18/bartogrp/apal/snap_hap_repHZ/ancestral_alleles/pos/Chr4.AvePla.FrYe.statphased.pos\n",
      "Chr5 1722552 /nfs/scistore18/bartogrp/apal/snap_hap_repHZ/ancestral_alleles/pos/Chr5.AvePla.FrYe.statphased.pos\n",
      "Chr6 1250488 /nfs/scistore18/bartogrp/apal/snap_hap_repHZ/ancestral_alleles/pos/Chr6.AvePla.FrYe.statphased.pos\n",
      "Chr7 1191405 /nfs/scistore18/bartogrp/apal/snap_hap_repHZ/ancestral_alleles/pos/Chr7.AvePla.FrYe.statphased.pos\n",
      "Chr8 1378527 /nfs/scistore18/bartogrp/apal/snap_hap_repHZ/ancestral_alleles/pos/Chr8.AvePla.FrYe.statphased.pos\n"
     ]
    }
   ],
   "source": [
    "baseDIR='/nfs/scistore18/bartogrp/apal/snap_hap_repHZ/ancestral_alleles'\n",
    "for chrom in Chr{1..8}\n",
    "do\n",
    "    echo $chrom $(wc -l $baseDIR/pos/$chrom.AvePla.FrYe.statphased.pos)\n",
    "done"
   ]
  }
 ],
 "metadata": {
  "kernelspec": {
   "display_name": "Bash",
   "language": "bash",
   "name": "bash"
  },
  "language_info": {
   "codemirror_mode": "shell",
   "file_extension": ".sh",
   "mimetype": "text/x-sh",
   "name": "bash"
  }
 },
 "nbformat": 4,
 "nbformat_minor": 5
}
